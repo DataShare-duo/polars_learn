{
 "cells": [
  {
   "cell_type": "markdown",
   "id": "49694f85",
   "metadata": {},
   "source": [
    "# 小编环境"
   ]
  },
  {
   "cell_type": "code",
   "execution_count": 1,
   "id": "5d7f3b08",
   "metadata": {
    "ExecuteTime": {
     "end_time": "2024-07-23T07:26:23.828345Z",
     "start_time": "2024-07-23T07:26:23.513949Z"
    }
   },
   "outputs": [
    {
     "name": "stdout",
     "output_type": "stream",
     "text": [
      "python 版本： 3.11.9 \n",
      "polars 版本： 1.2.1\n"
     ]
    }
   ],
   "source": [
    "import sys\n",
    "\n",
    "print('python 版本：',sys.version.split('|')[0])\n",
    "#python 版本： 3.11.9 \n",
    "\n",
    "import polars as pl\n",
    "\n",
    "print(\"polars 版本：\",pl.__version__)\n",
    "#polars 版本： 1.2.1"
   ]
  },
  {
   "cell_type": "markdown",
   "id": "adfe97ac",
   "metadata": {},
   "source": [
    "# 数据框关联 Join "
   ]
  },
  {
   "cell_type": "markdown",
   "id": "0ca78179",
   "metadata": {},
   "source": [
    "`polars` 通过指定参数 `how`，支持以下方式的关联：\n",
    "- **inner**：类似sql中的 inner join,取2个数据框共同的部分\n",
    "- **left**：类似sql中的 left join,取左边数据框所有数据，匹配右边数据框数据，能匹配到的进行匹配，匹配不到的用 `null` 填充\n",
    "- **full**：类似sql中的 full outer join，返回2个数据框的全量数据，匹配不到的用 `null` 填充\n",
    "- **cross**：2个数据框的笛卡尔积，数据行数为，`len(A) × len(B)`\n",
    "- **semi**：用的相对比较少，左边数据框中关联字段同时存在右边数据框中，只返回左边数据框的行，有点类似 `inner join`,但是不全完一样，即使右边数据框有多行的，左边返回的还是单行，也就是遇到关联字段存在于右边数据框，就返回\n",
    "- **anti**：用的相对比较少，返回左边数据框中关联字段不存在右边数据框中的行，与 `semi` 相反"
   ]
  },
  {
   "cell_type": "markdown",
   "id": "3452be62",
   "metadata": {},
   "source": [
    "## 数据准备"
   ]
  },
  {
   "cell_type": "code",
   "execution_count": 2,
   "id": "54d677ea",
   "metadata": {
    "ExecuteTime": {
     "end_time": "2024-07-23T07:26:23.840156Z",
     "start_time": "2024-07-23T07:26:23.832331Z"
    }
   },
   "outputs": [
    {
     "name": "stdout",
     "output_type": "stream",
     "text": [
      "shape: (3, 2)\n",
      "┌─────────────┬─────────┐\n",
      "│ customer_id ┆ name    │\n",
      "│ ---         ┆ ---     │\n",
      "│ i64         ┆ str     │\n",
      "╞═════════════╪═════════╡\n",
      "│ 1           ┆ Alice   │\n",
      "│ 2           ┆ Bob     │\n",
      "│ 3           ┆ Charlie │\n",
      "└─────────────┴─────────┘\n"
     ]
    }
   ],
   "source": [
    "df_customers = pl.DataFrame(\n",
    "    {\n",
    "        \"customer_id\": [1, 2, 3],\n",
    "        \"name\": [\"Alice\", \"Bob\", \"Charlie\"],\n",
    "    }\n",
    ")\n",
    "\n",
    "print(df_customers)"
   ]
  },
  {
   "cell_type": "code",
   "execution_count": 3,
   "id": "519e8dbd",
   "metadata": {
    "ExecuteTime": {
     "end_time": "2024-07-23T07:26:23.851424Z",
     "start_time": "2024-07-23T07:26:23.843151Z"
    }
   },
   "outputs": [
    {
     "name": "stdout",
     "output_type": "stream",
     "text": [
      "shape: (3, 3)\n",
      "┌──────────┬─────────────┬────────┐\n",
      "│ order_id ┆ customer_id ┆ amount │\n",
      "│ ---      ┆ ---         ┆ ---    │\n",
      "│ str      ┆ i64         ┆ i64    │\n",
      "╞══════════╪═════════════╪════════╡\n",
      "│ a        ┆ 1           ┆ 100    │\n",
      "│ b        ┆ 2           ┆ 200    │\n",
      "│ c        ┆ 2           ┆ 300    │\n",
      "└──────────┴─────────────┴────────┘\n"
     ]
    }
   ],
   "source": [
    "df_orders = pl.DataFrame(\n",
    "    {\n",
    "        \"order_id\": [\"a\", \"b\", \"c\"],\n",
    "        \"customer_id\": [1, 2, 2],\n",
    "        \"amount\": [100, 200, 300],\n",
    "    }\n",
    ")\n",
    "\n",
    "print(df_orders)"
   ]
  },
  {
   "cell_type": "markdown",
   "id": "3352858e",
   "metadata": {},
   "source": [
    "## Inner join"
   ]
  },
  {
   "cell_type": "code",
   "execution_count": 4,
   "id": "44ba902e",
   "metadata": {
    "ExecuteTime": {
     "end_time": "2024-07-23T07:26:23.864406Z",
     "start_time": "2024-07-23T07:26:23.856408Z"
    }
   },
   "outputs": [
    {
     "name": "stdout",
     "output_type": "stream",
     "text": [
      "shape: (3, 4)\n",
      "┌─────────────┬───────┬──────────┬────────┐\n",
      "│ customer_id ┆ name  ┆ order_id ┆ amount │\n",
      "│ ---         ┆ ---   ┆ ---      ┆ ---    │\n",
      "│ i64         ┆ str   ┆ str      ┆ i64    │\n",
      "╞═════════════╪═══════╪══════════╪════════╡\n",
      "│ 1           ┆ Alice ┆ a        ┆ 100    │\n",
      "│ 2           ┆ Bob   ┆ b        ┆ 200    │\n",
      "│ 2           ┆ Bob   ┆ c        ┆ 300    │\n",
      "└─────────────┴───────┴──────────┴────────┘\n"
     ]
    }
   ],
   "source": [
    "df_inner_customer_join = df_customers.join(df_orders, \n",
    "                                           on=\"customer_id\", \n",
    "                                           how=\"inner\")\n",
    "\n",
    "print(df_inner_customer_join)"
   ]
  },
  {
   "cell_type": "markdown",
   "id": "85ae07a7",
   "metadata": {},
   "source": [
    "## Left join"
   ]
  },
  {
   "cell_type": "code",
   "execution_count": 5,
   "id": "393431e7",
   "metadata": {
    "ExecuteTime": {
     "end_time": "2024-07-23T07:26:23.877252Z",
     "start_time": "2024-07-23T07:26:23.868407Z"
    }
   },
   "outputs": [
    {
     "name": "stdout",
     "output_type": "stream",
     "text": [
      "shape: (4, 4)\n",
      "┌─────────────┬─────────┬──────────┬────────┐\n",
      "│ customer_id ┆ name    ┆ order_id ┆ amount │\n",
      "│ ---         ┆ ---     ┆ ---      ┆ ---    │\n",
      "│ i64         ┆ str     ┆ str      ┆ i64    │\n",
      "╞═════════════╪═════════╪══════════╪════════╡\n",
      "│ 1           ┆ Alice   ┆ a        ┆ 100    │\n",
      "│ 2           ┆ Bob     ┆ b        ┆ 200    │\n",
      "│ 2           ┆ Bob     ┆ c        ┆ 300    │\n",
      "│ 3           ┆ Charlie ┆ null     ┆ null   │\n",
      "└─────────────┴─────────┴──────────┴────────┘\n"
     ]
    }
   ],
   "source": [
    "df_left_join = df_customers.join(df_orders, \n",
    "                                 on=\"customer_id\", \n",
    "                                 how=\"left\")\n",
    "\n",
    "print(df_left_join)"
   ]
  },
  {
   "cell_type": "markdown",
   "id": "f478d5d5",
   "metadata": {},
   "source": [
    "## Outer join"
   ]
  },
  {
   "cell_type": "code",
   "execution_count": 6,
   "id": "47068cfc",
   "metadata": {
    "ExecuteTime": {
     "end_time": "2024-07-23T07:26:23.889627Z",
     "start_time": "2024-07-23T07:26:23.880249Z"
    }
   },
   "outputs": [
    {
     "name": "stdout",
     "output_type": "stream",
     "text": [
      "shape: (4, 5)\n",
      "┌─────────────┬─────────┬──────────┬───────────────────┬────────┐\n",
      "│ customer_id ┆ name    ┆ order_id ┆ customer_id_right ┆ amount │\n",
      "│ ---         ┆ ---     ┆ ---      ┆ ---               ┆ ---    │\n",
      "│ i64         ┆ str     ┆ str      ┆ i64               ┆ i64    │\n",
      "╞═════════════╪═════════╪══════════╪═══════════════════╪════════╡\n",
      "│ 1           ┆ Alice   ┆ a        ┆ 1                 ┆ 100    │\n",
      "│ 2           ┆ Bob     ┆ b        ┆ 2                 ┆ 200    │\n",
      "│ 2           ┆ Bob     ┆ c        ┆ 2                 ┆ 300    │\n",
      "│ 3           ┆ Charlie ┆ null     ┆ null              ┆ null   │\n",
      "└─────────────┴─────────┴──────────┴───────────────────┴────────┘\n"
     ]
    }
   ],
   "source": [
    "df_outer_join = df_customers.join(df_orders, \n",
    "                                  on=\"customer_id\", \n",
    "                                  how=\"full\")\n",
    "\n",
    "print(df_outer_join)"
   ]
  },
  {
   "cell_type": "markdown",
   "id": "b6ca1ced",
   "metadata": {},
   "source": [
    "## Cross join"
   ]
  },
  {
   "cell_type": "code",
   "execution_count": 7,
   "id": "825c6293",
   "metadata": {
    "ExecuteTime": {
     "end_time": "2024-07-23T07:26:23.898610Z",
     "start_time": "2024-07-23T07:26:23.891623Z"
    }
   },
   "outputs": [
    {
     "name": "stdout",
     "output_type": "stream",
     "text": [
      "shape: (3, 1)\n",
      "┌───────┐\n",
      "│ color │\n",
      "│ ---   │\n",
      "│ str   │\n",
      "╞═══════╡\n",
      "│ red   │\n",
      "│ blue  │\n",
      "│ green │\n",
      "└───────┘\n"
     ]
    }
   ],
   "source": [
    "df_colors = pl.DataFrame(\n",
    "    {\n",
    "        \"color\": [\"red\", \"blue\", \"green\"],\n",
    "    }\n",
    ")\n",
    "print(df_colors)"
   ]
  },
  {
   "cell_type": "code",
   "execution_count": 8,
   "id": "3fe440b5",
   "metadata": {
    "ExecuteTime": {
     "end_time": "2024-07-23T07:26:23.907985Z",
     "start_time": "2024-07-23T07:26:23.902606Z"
    }
   },
   "outputs": [
    {
     "name": "stdout",
     "output_type": "stream",
     "text": [
      "shape: (3, 1)\n",
      "┌──────┐\n",
      "│ size │\n",
      "│ ---  │\n",
      "│ str  │\n",
      "╞══════╡\n",
      "│ S    │\n",
      "│ M    │\n",
      "│ L    │\n",
      "└──────┘\n"
     ]
    }
   ],
   "source": [
    "df_sizes = pl.DataFrame(\n",
    "    {\n",
    "        \"size\": [\"S\", \"M\", \"L\"],\n",
    "    }\n",
    ")\n",
    "print(df_sizes)"
   ]
  },
  {
   "cell_type": "code",
   "execution_count": 9,
   "id": "751b9a68",
   "metadata": {
    "ExecuteTime": {
     "end_time": "2024-07-23T07:26:23.919272Z",
     "start_time": "2024-07-23T07:26:23.909990Z"
    }
   },
   "outputs": [
    {
     "name": "stdout",
     "output_type": "stream",
     "text": [
      "shape: (9, 2)\n",
      "┌───────┬──────┐\n",
      "│ color ┆ size │\n",
      "│ ---   ┆ ---  │\n",
      "│ str   ┆ str  │\n",
      "╞═══════╪══════╡\n",
      "│ red   ┆ S    │\n",
      "│ red   ┆ M    │\n",
      "│ red   ┆ L    │\n",
      "│ blue  ┆ S    │\n",
      "│ blue  ┆ M    │\n",
      "│ blue  ┆ L    │\n",
      "│ green ┆ S    │\n",
      "│ green ┆ M    │\n",
      "│ green ┆ L    │\n",
      "└───────┴──────┘\n"
     ]
    }
   ],
   "source": [
    "df_cross_join = df_colors.join(df_sizes, \n",
    "                               how=\"cross\")\n",
    "\n",
    "print(df_cross_join)"
   ]
  },
  {
   "cell_type": "markdown",
   "id": "ac2a7da8",
   "metadata": {},
   "source": [
    "## Semi join"
   ]
  },
  {
   "cell_type": "code",
   "execution_count": 10,
   "id": "cc2bcb99",
   "metadata": {
    "ExecuteTime": {
     "end_time": "2024-07-23T07:26:23.935582Z",
     "start_time": "2024-07-23T07:26:23.922270Z"
    }
   },
   "outputs": [
    {
     "name": "stdout",
     "output_type": "stream",
     "text": [
      "shape: (3, 2)\n",
      "┌─────┬────────┐\n",
      "│ id  ┆ make   │\n",
      "│ --- ┆ ---    │\n",
      "│ str ┆ str    │\n",
      "╞═════╪════════╡\n",
      "│ a   ┆ ford   │\n",
      "│ b   ┆ toyota │\n",
      "│ c   ┆ bmw    │\n",
      "└─────┴────────┘\n"
     ]
    }
   ],
   "source": [
    "df_cars = pl.DataFrame(\n",
    "    {\n",
    "        \"id\": [\"a\", \"b\", \"c\"],\n",
    "        \"make\": [\"ford\", \"toyota\", \"bmw\"],\n",
    "    }\n",
    ")\n",
    "print(df_cars)"
   ]
  },
  {
   "cell_type": "code",
   "execution_count": 11,
   "id": "91fc5db0",
   "metadata": {
    "ExecuteTime": {
     "end_time": "2024-07-23T07:26:23.947409Z",
     "start_time": "2024-07-23T07:26:23.939568Z"
    }
   },
   "outputs": [
    {
     "name": "stdout",
     "output_type": "stream",
     "text": [
      "shape: (2, 2)\n",
      "┌─────┬──────┐\n",
      "│ id  ┆ cost │\n",
      "│ --- ┆ ---  │\n",
      "│ str ┆ i64  │\n",
      "╞═════╪══════╡\n",
      "│ c   ┆ 100  │\n",
      "│ c   ┆ 200  │\n",
      "└─────┴──────┘\n"
     ]
    }
   ],
   "source": [
    "df_repairs = pl.DataFrame(\n",
    "    {\n",
    "        \"id\": [\"c\", \"c\"],\n",
    "        \"cost\": [100, 200],\n",
    "    }\n",
    ")\n",
    "print(df_repairs)"
   ]
  },
  {
   "cell_type": "code",
   "execution_count": 12,
   "id": "6970f20c",
   "metadata": {
    "ExecuteTime": {
     "end_time": "2024-07-23T07:26:23.956597Z",
     "start_time": "2024-07-23T07:26:23.950404Z"
    }
   },
   "outputs": [
    {
     "name": "stdout",
     "output_type": "stream",
     "text": [
      "shape: (1, 2)\n",
      "┌─────┬──────┐\n",
      "│ id  ┆ make │\n",
      "│ --- ┆ ---  │\n",
      "│ str ┆ str  │\n",
      "╞═════╪══════╡\n",
      "│ c   ┆ bmw  │\n",
      "└─────┴──────┘\n"
     ]
    }
   ],
   "source": [
    "df_semi_join = df_cars.join(df_repairs, \n",
    "                            on=\"id\", \n",
    "                            how=\"semi\")\n",
    "print(df_semi_join)"
   ]
  },
  {
   "cell_type": "markdown",
   "id": "3e74952b",
   "metadata": {},
   "source": [
    "## Anti join"
   ]
  },
  {
   "cell_type": "code",
   "execution_count": 13,
   "id": "2824364c",
   "metadata": {
    "ExecuteTime": {
     "end_time": "2024-07-23T07:26:23.965125Z",
     "start_time": "2024-07-23T07:26:23.958591Z"
    }
   },
   "outputs": [
    {
     "name": "stdout",
     "output_type": "stream",
     "text": [
      "shape: (2, 2)\n",
      "┌─────┬────────┐\n",
      "│ id  ┆ make   │\n",
      "│ --- ┆ ---    │\n",
      "│ str ┆ str    │\n",
      "╞═════╪════════╡\n",
      "│ a   ┆ ford   │\n",
      "│ b   ┆ toyota │\n",
      "└─────┴────────┘\n"
     ]
    }
   ],
   "source": [
    "df_anti_join = df_cars.join(df_repairs, \n",
    "                            on=\"id\", \n",
    "                            how=\"anti\")\n",
    "\n",
    "print(df_anti_join)"
   ]
  },
  {
   "cell_type": "markdown",
   "id": "a21e1160",
   "metadata": {},
   "source": [
    "# 数据框拼接 Concat"
   ]
  },
  {
   "cell_type": "markdown",
   "id": "9d3057ed",
   "metadata": {},
   "source": [
    "有以下3种方式的数据框拼接：\n",
    "- 纵向拼接/垂直拼接：2个数据框有相同的字段，拼接后产生更长的数据框\n",
    "- 横向拼接/水平拼接：2个数据框没有重叠的字段，拼接后产生更宽的数据框\n",
    "- 对角拼接：2个数据框有不同的行与列，既有重叠的字段，也有非重叠的字段，拼接后产生即长又宽的数据框"
   ]
  },
  {
   "cell_type": "markdown",
   "id": "4eec8a8d",
   "metadata": {},
   "source": [
    "## 纵向拼接/垂直拼接 Vertical concatenation"
   ]
  },
  {
   "cell_type": "markdown",
   "id": "9a52d50b",
   "metadata": {},
   "source": [
    "当没有相同的列字段时，纵向拼接会失败"
   ]
  },
  {
   "cell_type": "code",
   "execution_count": 14,
   "id": "100695a5",
   "metadata": {
    "ExecuteTime": {
     "end_time": "2024-07-23T07:26:23.978818Z",
     "start_time": "2024-07-23T07:26:23.970658Z"
    }
   },
   "outputs": [
    {
     "name": "stdout",
     "output_type": "stream",
     "text": [
      "shape: (2, 2)\n",
      "┌─────┬─────┐\n",
      "│ a   ┆ b   │\n",
      "│ --- ┆ --- │\n",
      "│ i64 ┆ i64 │\n",
      "╞═════╪═════╡\n",
      "│ 1   ┆ 3   │\n",
      "│ 2   ┆ 4   │\n",
      "└─────┴─────┘\n"
     ]
    }
   ],
   "source": [
    "df_v1 = pl.DataFrame(\n",
    "    {\n",
    "        \"a\": [1],\n",
    "        \"b\": [3],\n",
    "    }\n",
    ")\n",
    "df_v2 = pl.DataFrame(\n",
    "    {\n",
    "        \"a\": [2],\n",
    "        \"b\": [4],\n",
    "    }\n",
    ")\n",
    "df_vertical_concat = pl.concat(\n",
    "    [\n",
    "        df_v1,\n",
    "        df_v2,\n",
    "    ],\n",
    "    how=\"vertical\",\n",
    ")\n",
    "print(df_vertical_concat)"
   ]
  },
  {
   "cell_type": "markdown",
   "id": "9dbf4f57",
   "metadata": {},
   "source": [
    "## 横向拼接/水平拼接 Horizontal concatenation"
   ]
  },
  {
   "cell_type": "markdown",
   "id": "703887e1",
   "metadata": {},
   "source": [
    "当2个数据框有不同的行数时，拼接后短的行会用 `null` 进行填充"
   ]
  },
  {
   "cell_type": "code",
   "execution_count": 15,
   "id": "f8700fb0",
   "metadata": {
    "ExecuteTime": {
     "end_time": "2024-07-23T07:26:23.990265Z",
     "start_time": "2024-07-23T07:26:23.981814Z"
    }
   },
   "outputs": [
    {
     "name": "stdout",
     "output_type": "stream",
     "text": [
      "shape: (2, 5)\n",
      "┌─────┬─────┬─────┬─────┬─────┐\n",
      "│ l1  ┆ l2  ┆ r1  ┆ r2  ┆ r3  │\n",
      "│ --- ┆ --- ┆ --- ┆ --- ┆ --- │\n",
      "│ i64 ┆ i64 ┆ i64 ┆ i64 ┆ i64 │\n",
      "╞═════╪═════╪═════╪═════╪═════╡\n",
      "│ 1   ┆ 3   ┆ 5   ┆ 7   ┆ 9   │\n",
      "│ 2   ┆ 4   ┆ 6   ┆ 8   ┆ 10  │\n",
      "└─────┴─────┴─────┴─────┴─────┘\n"
     ]
    }
   ],
   "source": [
    "df_h1 = pl.DataFrame(\n",
    "    {\n",
    "        \"l1\": [1, 2],\n",
    "        \"l2\": [3, 4],\n",
    "    }\n",
    ")\n",
    "df_h2 = pl.DataFrame(\n",
    "    {\n",
    "        \"r1\": [5, 6],\n",
    "        \"r2\": [7, 8],\n",
    "        \"r3\": [9, 10],\n",
    "    }\n",
    ")\n",
    "df_horizontal_concat = pl.concat(\n",
    "    [\n",
    "        df_h1,\n",
    "        df_h2,\n",
    "    ],\n",
    "    how=\"horizontal\",\n",
    ")\n",
    "print(df_horizontal_concat)"
   ]
  },
  {
   "cell_type": "markdown",
   "id": "3fac7bd2",
   "metadata": {},
   "source": [
    "## 对角拼接 Diagonal concatenation"
   ]
  },
  {
   "cell_type": "code",
   "execution_count": 16,
   "id": "89faa209",
   "metadata": {
    "ExecuteTime": {
     "end_time": "2024-07-23T07:26:24.000296Z",
     "start_time": "2024-07-23T07:26:23.993283Z"
    }
   },
   "outputs": [
    {
     "name": "stdout",
     "output_type": "stream",
     "text": [
      "shape: (2, 3)\n",
      "┌─────┬──────┬──────┐\n",
      "│ a   ┆ b    ┆ d    │\n",
      "│ --- ┆ ---  ┆ ---  │\n",
      "│ i64 ┆ i64  ┆ i64  │\n",
      "╞═════╪══════╪══════╡\n",
      "│ 1   ┆ 3    ┆ null │\n",
      "│ 2   ┆ null ┆ 4    │\n",
      "└─────┴──────┴──────┘\n"
     ]
    }
   ],
   "source": [
    "df_d1 = pl.DataFrame(\n",
    "    {\n",
    "        \"a\": [1],\n",
    "        \"b\": [3],\n",
    "    }\n",
    ")\n",
    "df_d2 = pl.DataFrame(\n",
    "    {\n",
    "        \"a\": [2],\n",
    "        \"d\": [4],\n",
    "    }\n",
    ")\n",
    "\n",
    "df_diagonal_concat = pl.concat(\n",
    "    [\n",
    "        df_d1,\n",
    "        df_d2,\n",
    "    ],\n",
    "    how=\"diagonal\",\n",
    ")\n",
    "print(df_diagonal_concat)"
   ]
  },
  {
   "cell_type": "code",
   "execution_count": null,
   "id": "25b92533",
   "metadata": {},
   "outputs": [],
   "source": []
  },
  {
   "cell_type": "code",
   "execution_count": null,
   "id": "38e78db4",
   "metadata": {},
   "outputs": [],
   "source": []
  },
  {
   "cell_type": "code",
   "execution_count": null,
   "id": "50065dd9",
   "metadata": {},
   "outputs": [],
   "source": []
  }
 ],
 "metadata": {
  "kernelspec": {
   "display_name": "Python 3.11",
   "language": "python",
   "name": "python3.11"
  },
  "language_info": {
   "codemirror_mode": {
    "name": "ipython",
    "version": 3
   },
   "file_extension": ".py",
   "mimetype": "text/x-python",
   "name": "python",
   "nbconvert_exporter": "python",
   "pygments_lexer": "ipython3",
   "version": "3.11.9"
  },
  "toc": {
   "base_numbering": 1,
   "nav_menu": {},
   "number_sections": true,
   "sideBar": true,
   "skip_h1_title": false,
   "title_cell": "Table of Contents",
   "title_sidebar": "Contents",
   "toc_cell": false,
   "toc_position": {
    "height": "calc(100% - 180px)",
    "left": "10px",
    "top": "150px",
    "width": "189.797px"
   },
   "toc_section_display": true,
   "toc_window_display": true
  }
 },
 "nbformat": 4,
 "nbformat_minor": 5
}
