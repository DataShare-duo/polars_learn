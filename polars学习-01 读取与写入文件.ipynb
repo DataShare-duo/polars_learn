{
 "cells": [
  {
   "cell_type": "markdown",
   "id": "0e047cee",
   "metadata": {},
   "source": [
    "# 运行环境"
   ]
  },
  {
   "cell_type": "code",
   "execution_count": 1,
   "id": "d250f115",
   "metadata": {
    "ExecuteTime": {
     "end_time": "2024-04-24T11:22:35.519314Z",
     "start_time": "2024-04-24T11:22:35.507478Z"
    }
   },
   "outputs": [
    {
     "name": "stdout",
     "output_type": "stream",
     "text": [
      "python 版本： 3.11.5 \n"
     ]
    }
   ],
   "source": [
    "import sys\n",
    "\n",
    "print('python 版本：',sys.version.split('|')[0])"
   ]
  },
  {
   "cell_type": "code",
   "execution_count": 2,
   "id": "c0e8d48b",
   "metadata": {
    "ExecuteTime": {
     "end_time": "2024-04-24T11:22:35.674755Z",
     "start_time": "2024-04-24T11:22:35.523313Z"
    }
   },
   "outputs": [
    {
     "name": "stdout",
     "output_type": "stream",
     "text": [
      "polars 版本： 0.20.22\n"
     ]
    }
   ],
   "source": [
    "import polars as pl\n",
    "\n",
    "print(\"polars 版本：\",pl.__version__)"
   ]
  },
  {
   "cell_type": "code",
   "execution_count": 3,
   "id": "4c912f8a",
   "metadata": {
    "ExecuteTime": {
     "end_time": "2024-04-24T11:22:35.780311Z",
     "start_time": "2024-04-24T11:22:35.676725Z"
    }
   },
   "outputs": [],
   "source": [
    "#额外的库\n",
    "from datetime import datetime\n",
    "import numpy as np"
   ]
  },
  {
   "cell_type": "markdown",
   "id": "0fa5cbfb",
   "metadata": {},
   "source": [
    "# 读取文件"
   ]
  },
  {
   "cell_type": "markdown",
   "id": "98f6b770",
   "metadata": {},
   "source": [
    "## 读取csv文件"
   ]
  },
  {
   "cell_type": "code",
   "execution_count": 4,
   "id": "2cb47a06",
   "metadata": {
    "ExecuteTime": {
     "end_time": "2024-04-24T11:22:35.790205Z",
     "start_time": "2024-04-24T11:22:35.782308Z"
    }
   },
   "outputs": [],
   "source": [
    "data_csv=pl.read_csv('./data/iris.csv')"
   ]
  },
  {
   "cell_type": "code",
   "execution_count": 5,
   "id": "8db8b26f",
   "metadata": {
    "ExecuteTime": {
     "end_time": "2024-04-24T11:22:35.807082Z",
     "start_time": "2024-04-24T11:22:35.792206Z"
    }
   },
   "outputs": [
    {
     "data": {
      "text/html": [
       "<div><style>\n",
       ".dataframe > thead > tr,\n",
       ".dataframe > tbody > tr {\n",
       "  text-align: right;\n",
       "  white-space: pre-wrap;\n",
       "}\n",
       "</style>\n",
       "<small>shape: (10, 6)</small><table border=\"1\" class=\"dataframe\"><thead><tr><th>index</th><th>Sepal.Length</th><th>Sepal.Width</th><th>Petal.Length</th><th>Petal.Width</th><th>Species</th></tr><tr><td>i64</td><td>f64</td><td>f64</td><td>f64</td><td>f64</td><td>str</td></tr></thead><tbody><tr><td>1</td><td>5.1</td><td>3.5</td><td>1.4</td><td>0.2</td><td>&quot;setosa&quot;</td></tr><tr><td>2</td><td>4.9</td><td>3.0</td><td>1.4</td><td>0.2</td><td>&quot;setosa&quot;</td></tr><tr><td>3</td><td>4.7</td><td>3.2</td><td>1.3</td><td>0.2</td><td>&quot;setosa&quot;</td></tr><tr><td>4</td><td>4.6</td><td>3.1</td><td>1.5</td><td>0.2</td><td>&quot;setosa&quot;</td></tr><tr><td>5</td><td>5.0</td><td>3.6</td><td>1.4</td><td>0.2</td><td>&quot;setosa&quot;</td></tr><tr><td>6</td><td>5.4</td><td>3.9</td><td>1.7</td><td>0.4</td><td>&quot;setosa&quot;</td></tr><tr><td>7</td><td>4.6</td><td>3.4</td><td>1.4</td><td>0.3</td><td>&quot;setosa&quot;</td></tr><tr><td>8</td><td>5.0</td><td>3.4</td><td>1.5</td><td>0.2</td><td>&quot;setosa&quot;</td></tr><tr><td>9</td><td>4.4</td><td>2.9</td><td>1.4</td><td>0.2</td><td>&quot;setosa&quot;</td></tr><tr><td>10</td><td>4.9</td><td>3.1</td><td>1.5</td><td>0.1</td><td>&quot;setosa&quot;</td></tr></tbody></table></div>"
      ],
      "text/plain": [
       "shape: (10, 6)\n",
       "┌───────┬──────────────┬─────────────┬──────────────┬─────────────┬─────────┐\n",
       "│ index ┆ Sepal.Length ┆ Sepal.Width ┆ Petal.Length ┆ Petal.Width ┆ Species │\n",
       "│ ---   ┆ ---          ┆ ---         ┆ ---          ┆ ---         ┆ ---     │\n",
       "│ i64   ┆ f64          ┆ f64         ┆ f64          ┆ f64         ┆ str     │\n",
       "╞═══════╪══════════════╪═════════════╪══════════════╪═════════════╪═════════╡\n",
       "│ 1     ┆ 5.1          ┆ 3.5         ┆ 1.4          ┆ 0.2         ┆ setosa  │\n",
       "│ 2     ┆ 4.9          ┆ 3.0         ┆ 1.4          ┆ 0.2         ┆ setosa  │\n",
       "│ 3     ┆ 4.7          ┆ 3.2         ┆ 1.3          ┆ 0.2         ┆ setosa  │\n",
       "│ 4     ┆ 4.6          ┆ 3.1         ┆ 1.5          ┆ 0.2         ┆ setosa  │\n",
       "│ 5     ┆ 5.0          ┆ 3.6         ┆ 1.4          ┆ 0.2         ┆ setosa  │\n",
       "│ 6     ┆ 5.4          ┆ 3.9         ┆ 1.7          ┆ 0.4         ┆ setosa  │\n",
       "│ 7     ┆ 4.6          ┆ 3.4         ┆ 1.4          ┆ 0.3         ┆ setosa  │\n",
       "│ 8     ┆ 5.0          ┆ 3.4         ┆ 1.5          ┆ 0.2         ┆ setosa  │\n",
       "│ 9     ┆ 4.4          ┆ 2.9         ┆ 1.4          ┆ 0.2         ┆ setosa  │\n",
       "│ 10    ┆ 4.9          ┆ 3.1         ┆ 1.5          ┆ 0.1         ┆ setosa  │\n",
       "└───────┴──────────────┴─────────────┴──────────────┴─────────────┴─────────┘"
      ]
     },
     "execution_count": 5,
     "metadata": {},
     "output_type": "execute_result"
    }
   ],
   "source": [
    "data_csv.head(10)"
   ]
  },
  {
   "cell_type": "code",
   "execution_count": 6,
   "id": "c3c2b0c8",
   "metadata": {
    "ExecuteTime": {
     "end_time": "2024-04-24T11:22:35.815415Z",
     "start_time": "2024-04-24T11:22:35.810081Z"
    }
   },
   "outputs": [
    {
     "data": {
      "text/plain": [
       "(150, 6)"
      ]
     },
     "execution_count": 6,
     "metadata": {},
     "output_type": "execute_result"
    }
   ],
   "source": [
    "data_csv.shape"
   ]
  },
  {
   "cell_type": "markdown",
   "id": "f6c1202d",
   "metadata": {},
   "source": [
    "## 读取 excel 文件\n",
    "- 默认解析引擎时：```pip install xlsx2csv```\n",
    "\n",
    "- 设置 ```engine='calamine'``` 时：```pip install fastexcel```，建议用该解析引擎"
   ]
  },
  {
   "cell_type": "code",
   "execution_count": 7,
   "id": "13797531",
   "metadata": {
    "ExecuteTime": {
     "end_time": "2024-04-24T11:22:35.940058Z",
     "start_time": "2024-04-24T11:22:35.817350Z"
    }
   },
   "outputs": [],
   "source": [
    "data_excel=pl.read_excel('./data/iris.xlsx',sheet_name='iris',engine='calamine')"
   ]
  },
  {
   "cell_type": "code",
   "execution_count": 8,
   "id": "d9c50bfc",
   "metadata": {
    "ExecuteTime": {
     "end_time": "2024-04-24T11:22:35.952494Z",
     "start_time": "2024-04-24T11:22:35.941970Z"
    }
   },
   "outputs": [
    {
     "data": {
      "text/html": [
       "<div><style>\n",
       ".dataframe > thead > tr,\n",
       ".dataframe > tbody > tr {\n",
       "  text-align: right;\n",
       "  white-space: pre-wrap;\n",
       "}\n",
       "</style>\n",
       "<small>shape: (10, 6)</small><table border=\"1\" class=\"dataframe\"><thead><tr><th>index</th><th>Sepal.Length</th><th>Sepal.Width</th><th>Petal.Length</th><th>Petal.Width</th><th>Species</th></tr><tr><td>i64</td><td>f64</td><td>f64</td><td>f64</td><td>f64</td><td>str</td></tr></thead><tbody><tr><td>1</td><td>5.1</td><td>3.5</td><td>1.4</td><td>0.2</td><td>&quot;setosa&quot;</td></tr><tr><td>2</td><td>4.9</td><td>3.0</td><td>1.4</td><td>0.2</td><td>&quot;setosa&quot;</td></tr><tr><td>3</td><td>4.7</td><td>3.2</td><td>1.3</td><td>0.2</td><td>&quot;setosa&quot;</td></tr><tr><td>4</td><td>4.6</td><td>3.1</td><td>1.5</td><td>0.2</td><td>&quot;setosa&quot;</td></tr><tr><td>5</td><td>5.0</td><td>3.6</td><td>1.4</td><td>0.2</td><td>&quot;setosa&quot;</td></tr><tr><td>6</td><td>5.4</td><td>3.9</td><td>1.7</td><td>0.4</td><td>&quot;setosa&quot;</td></tr><tr><td>7</td><td>4.6</td><td>3.4</td><td>1.4</td><td>0.3</td><td>&quot;setosa&quot;</td></tr><tr><td>8</td><td>5.0</td><td>3.4</td><td>1.5</td><td>0.2</td><td>&quot;setosa&quot;</td></tr><tr><td>9</td><td>4.4</td><td>2.9</td><td>1.4</td><td>0.2</td><td>&quot;setosa&quot;</td></tr><tr><td>10</td><td>4.9</td><td>3.1</td><td>1.5</td><td>0.1</td><td>&quot;setosa&quot;</td></tr></tbody></table></div>"
      ],
      "text/plain": [
       "shape: (10, 6)\n",
       "┌───────┬──────────────┬─────────────┬──────────────┬─────────────┬─────────┐\n",
       "│ index ┆ Sepal.Length ┆ Sepal.Width ┆ Petal.Length ┆ Petal.Width ┆ Species │\n",
       "│ ---   ┆ ---          ┆ ---         ┆ ---          ┆ ---         ┆ ---     │\n",
       "│ i64   ┆ f64          ┆ f64         ┆ f64          ┆ f64         ┆ str     │\n",
       "╞═══════╪══════════════╪═════════════╪══════════════╪═════════════╪═════════╡\n",
       "│ 1     ┆ 5.1          ┆ 3.5         ┆ 1.4          ┆ 0.2         ┆ setosa  │\n",
       "│ 2     ┆ 4.9          ┆ 3.0         ┆ 1.4          ┆ 0.2         ┆ setosa  │\n",
       "│ 3     ┆ 4.7          ┆ 3.2         ┆ 1.3          ┆ 0.2         ┆ setosa  │\n",
       "│ 4     ┆ 4.6          ┆ 3.1         ┆ 1.5          ┆ 0.2         ┆ setosa  │\n",
       "│ 5     ┆ 5.0          ┆ 3.6         ┆ 1.4          ┆ 0.2         ┆ setosa  │\n",
       "│ 6     ┆ 5.4          ┆ 3.9         ┆ 1.7          ┆ 0.4         ┆ setosa  │\n",
       "│ 7     ┆ 4.6          ┆ 3.4         ┆ 1.4          ┆ 0.3         ┆ setosa  │\n",
       "│ 8     ┆ 5.0          ┆ 3.4         ┆ 1.5          ┆ 0.2         ┆ setosa  │\n",
       "│ 9     ┆ 4.4          ┆ 2.9         ┆ 1.4          ┆ 0.2         ┆ setosa  │\n",
       "│ 10    ┆ 4.9          ┆ 3.1         ┆ 1.5          ┆ 0.1         ┆ setosa  │\n",
       "└───────┴──────────────┴─────────────┴──────────────┴─────────────┴─────────┘"
      ]
     },
     "execution_count": 8,
     "metadata": {},
     "output_type": "execute_result"
    }
   ],
   "source": [
    "data_excel.head(10)"
   ]
  },
  {
   "cell_type": "code",
   "execution_count": 9,
   "id": "03474f79",
   "metadata": {
    "ExecuteTime": {
     "end_time": "2024-04-24T11:22:35.960520Z",
     "start_time": "2024-04-24T11:22:35.954490Z"
    }
   },
   "outputs": [
    {
     "data": {
      "text/plain": [
       "(150, 6)"
      ]
     },
     "execution_count": 9,
     "metadata": {},
     "output_type": "execute_result"
    }
   ],
   "source": [
    "data_excel.shape"
   ]
  },
  {
   "cell_type": "code",
   "execution_count": 10,
   "id": "4431f656",
   "metadata": {
    "ExecuteTime": {
     "end_time": "2024-04-24T11:22:48.463942Z",
     "start_time": "2024-04-24T11:22:35.964487Z"
    }
   },
   "outputs": [
    {
     "name": "stdout",
     "output_type": "stream",
     "text": [
      "13.9 ms ± 69.6 µs per loop (mean ± std. dev. of 7 runs, 100 loops each)\n"
     ]
    }
   ],
   "source": [
    "%timeit pl.read_excel('./data/iris.xlsx',sheet_name='iris')"
   ]
  },
  {
   "cell_type": "code",
   "execution_count": 11,
   "id": "99d3f944",
   "metadata": {
    "ExecuteTime": {
     "end_time": "2024-04-24T11:22:50.823959Z",
     "start_time": "2024-04-24T11:22:48.464945Z"
    }
   },
   "outputs": [
    {
     "name": "stdout",
     "output_type": "stream",
     "text": [
      "2.9 ms ± 69.9 µs per loop (mean ± std. dev. of 7 runs, 100 loops each)\n"
     ]
    }
   ],
   "source": [
    "%timeit pl.read_excel('./data/iris.xlsx',sheet_name='iris',engine='calamine')  #效率最高"
   ]
  },
  {
   "cell_type": "markdown",
   "id": "7a60f842",
   "metadata": {},
   "source": [
    "## 读取 txt 文件"
   ]
  },
  {
   "cell_type": "code",
   "execution_count": 12,
   "id": "0b061ee2",
   "metadata": {
    "ExecuteTime": {
     "end_time": "2024-04-24T11:22:50.831775Z",
     "start_time": "2024-04-24T11:22:50.825951Z"
    }
   },
   "outputs": [],
   "source": [
    "data_txt=pl.read_csv('./data/iris.txt',separator='\\t')"
   ]
  },
  {
   "cell_type": "code",
   "execution_count": 13,
   "id": "a631f161",
   "metadata": {
    "ExecuteTime": {
     "end_time": "2024-04-24T11:22:50.845368Z",
     "start_time": "2024-04-24T11:22:50.833772Z"
    }
   },
   "outputs": [
    {
     "data": {
      "text/html": [
       "<div><style>\n",
       ".dataframe > thead > tr,\n",
       ".dataframe > tbody > tr {\n",
       "  text-align: right;\n",
       "  white-space: pre-wrap;\n",
       "}\n",
       "</style>\n",
       "<small>shape: (10, 6)</small><table border=\"1\" class=\"dataframe\"><thead><tr><th>index</th><th>Sepal.Length</th><th>Sepal.Width</th><th>Petal.Length</th><th>Petal.Width</th><th>Species</th></tr><tr><td>i64</td><td>f64</td><td>f64</td><td>f64</td><td>f64</td><td>str</td></tr></thead><tbody><tr><td>1</td><td>5.1</td><td>3.5</td><td>1.4</td><td>0.2</td><td>&quot;setosa&quot;</td></tr><tr><td>2</td><td>4.9</td><td>3.0</td><td>1.4</td><td>0.2</td><td>&quot;setosa&quot;</td></tr><tr><td>3</td><td>4.7</td><td>3.2</td><td>1.3</td><td>0.2</td><td>&quot;setosa&quot;</td></tr><tr><td>4</td><td>4.6</td><td>3.1</td><td>1.5</td><td>0.2</td><td>&quot;setosa&quot;</td></tr><tr><td>5</td><td>5.0</td><td>3.6</td><td>1.4</td><td>0.2</td><td>&quot;setosa&quot;</td></tr><tr><td>6</td><td>5.4</td><td>3.9</td><td>1.7</td><td>0.4</td><td>&quot;setosa&quot;</td></tr><tr><td>7</td><td>4.6</td><td>3.4</td><td>1.4</td><td>0.3</td><td>&quot;setosa&quot;</td></tr><tr><td>8</td><td>5.0</td><td>3.4</td><td>1.5</td><td>0.2</td><td>&quot;setosa&quot;</td></tr><tr><td>9</td><td>4.4</td><td>2.9</td><td>1.4</td><td>0.2</td><td>&quot;setosa&quot;</td></tr><tr><td>10</td><td>4.9</td><td>3.1</td><td>1.5</td><td>0.1</td><td>&quot;setosa&quot;</td></tr></tbody></table></div>"
      ],
      "text/plain": [
       "shape: (10, 6)\n",
       "┌───────┬──────────────┬─────────────┬──────────────┬─────────────┬─────────┐\n",
       "│ index ┆ Sepal.Length ┆ Sepal.Width ┆ Petal.Length ┆ Petal.Width ┆ Species │\n",
       "│ ---   ┆ ---          ┆ ---         ┆ ---          ┆ ---         ┆ ---     │\n",
       "│ i64   ┆ f64          ┆ f64         ┆ f64          ┆ f64         ┆ str     │\n",
       "╞═══════╪══════════════╪═════════════╪══════════════╪═════════════╪═════════╡\n",
       "│ 1     ┆ 5.1          ┆ 3.5         ┆ 1.4          ┆ 0.2         ┆ setosa  │\n",
       "│ 2     ┆ 4.9          ┆ 3.0         ┆ 1.4          ┆ 0.2         ┆ setosa  │\n",
       "│ 3     ┆ 4.7          ┆ 3.2         ┆ 1.3          ┆ 0.2         ┆ setosa  │\n",
       "│ 4     ┆ 4.6          ┆ 3.1         ┆ 1.5          ┆ 0.2         ┆ setosa  │\n",
       "│ 5     ┆ 5.0          ┆ 3.6         ┆ 1.4          ┆ 0.2         ┆ setosa  │\n",
       "│ 6     ┆ 5.4          ┆ 3.9         ┆ 1.7          ┆ 0.4         ┆ setosa  │\n",
       "│ 7     ┆ 4.6          ┆ 3.4         ┆ 1.4          ┆ 0.3         ┆ setosa  │\n",
       "│ 8     ┆ 5.0          ┆ 3.4         ┆ 1.5          ┆ 0.2         ┆ setosa  │\n",
       "│ 9     ┆ 4.4          ┆ 2.9         ┆ 1.4          ┆ 0.2         ┆ setosa  │\n",
       "│ 10    ┆ 4.9          ┆ 3.1         ┆ 1.5          ┆ 0.1         ┆ setosa  │\n",
       "└───────┴──────────────┴─────────────┴──────────────┴─────────────┴─────────┘"
      ]
     },
     "execution_count": 13,
     "metadata": {},
     "output_type": "execute_result"
    }
   ],
   "source": [
    "data_txt.head(10)"
   ]
  },
  {
   "cell_type": "code",
   "execution_count": 14,
   "id": "06ce4097",
   "metadata": {
    "ExecuteTime": {
     "end_time": "2024-04-24T11:22:50.854510Z",
     "start_time": "2024-04-24T11:22:50.849690Z"
    }
   },
   "outputs": [
    {
     "data": {
      "text/plain": [
       "(150, 6)"
      ]
     },
     "execution_count": 14,
     "metadata": {},
     "output_type": "execute_result"
    }
   ],
   "source": [
    "data_txt.shape"
   ]
  },
  {
   "cell_type": "markdown",
   "id": "4744b535",
   "metadata": {},
   "source": [
    "## 读取网络上的文件"
   ]
  },
  {
   "cell_type": "code",
   "execution_count": 15,
   "id": "e8c7c549",
   "metadata": {
    "ExecuteTime": {
     "end_time": "2024-04-24T11:22:50.860287Z",
     "start_time": "2024-04-24T11:22:50.856497Z"
    }
   },
   "outputs": [],
   "source": [
    "url='https://raw.githubusercontent.com/DataShare-duo/Data_for_ML-Deeplearning/master/iris.csv'"
   ]
  },
  {
   "cell_type": "code",
   "execution_count": 16,
   "id": "44534dd5",
   "metadata": {
    "ExecuteTime": {
     "end_time": "2024-04-24T11:22:51.636098Z",
     "start_time": "2024-04-24T11:22:50.862279Z"
    }
   },
   "outputs": [],
   "source": [
    "data_url=pl.read_csv(url)"
   ]
  },
  {
   "cell_type": "code",
   "execution_count": 17,
   "id": "6af962f7",
   "metadata": {
    "ExecuteTime": {
     "end_time": "2024-04-24T11:22:51.647837Z",
     "start_time": "2024-04-24T11:22:51.636972Z"
    }
   },
   "outputs": [
    {
     "data": {
      "text/html": [
       "<div><style>\n",
       ".dataframe > thead > tr,\n",
       ".dataframe > tbody > tr {\n",
       "  text-align: right;\n",
       "  white-space: pre-wrap;\n",
       "}\n",
       "</style>\n",
       "<small>shape: (10, 6)</small><table border=\"1\" class=\"dataframe\"><thead><tr><th>index</th><th>Sepal.Length</th><th>Sepal.Width</th><th>Petal.Length</th><th>Petal.Width</th><th>Species</th></tr><tr><td>i64</td><td>f64</td><td>f64</td><td>f64</td><td>f64</td><td>str</td></tr></thead><tbody><tr><td>1</td><td>5.1</td><td>3.5</td><td>1.4</td><td>0.2</td><td>&quot;setosa&quot;</td></tr><tr><td>2</td><td>4.9</td><td>3.0</td><td>1.4</td><td>0.2</td><td>&quot;setosa&quot;</td></tr><tr><td>3</td><td>4.7</td><td>3.2</td><td>1.3</td><td>0.2</td><td>&quot;setosa&quot;</td></tr><tr><td>4</td><td>4.6</td><td>3.1</td><td>1.5</td><td>0.2</td><td>&quot;setosa&quot;</td></tr><tr><td>5</td><td>5.0</td><td>3.6</td><td>1.4</td><td>0.2</td><td>&quot;setosa&quot;</td></tr><tr><td>6</td><td>5.4</td><td>3.9</td><td>1.7</td><td>0.4</td><td>&quot;setosa&quot;</td></tr><tr><td>7</td><td>4.6</td><td>3.4</td><td>1.4</td><td>0.3</td><td>&quot;setosa&quot;</td></tr><tr><td>8</td><td>5.0</td><td>3.4</td><td>1.5</td><td>0.2</td><td>&quot;setosa&quot;</td></tr><tr><td>9</td><td>4.4</td><td>2.9</td><td>1.4</td><td>0.2</td><td>&quot;setosa&quot;</td></tr><tr><td>10</td><td>4.9</td><td>3.1</td><td>1.5</td><td>0.1</td><td>&quot;setosa&quot;</td></tr></tbody></table></div>"
      ],
      "text/plain": [
       "shape: (10, 6)\n",
       "┌───────┬──────────────┬─────────────┬──────────────┬─────────────┬─────────┐\n",
       "│ index ┆ Sepal.Length ┆ Sepal.Width ┆ Petal.Length ┆ Petal.Width ┆ Species │\n",
       "│ ---   ┆ ---          ┆ ---         ┆ ---          ┆ ---         ┆ ---     │\n",
       "│ i64   ┆ f64          ┆ f64         ┆ f64          ┆ f64         ┆ str     │\n",
       "╞═══════╪══════════════╪═════════════╪══════════════╪═════════════╪═════════╡\n",
       "│ 1     ┆ 5.1          ┆ 3.5         ┆ 1.4          ┆ 0.2         ┆ setosa  │\n",
       "│ 2     ┆ 4.9          ┆ 3.0         ┆ 1.4          ┆ 0.2         ┆ setosa  │\n",
       "│ 3     ┆ 4.7          ┆ 3.2         ┆ 1.3          ┆ 0.2         ┆ setosa  │\n",
       "│ 4     ┆ 4.6          ┆ 3.1         ┆ 1.5          ┆ 0.2         ┆ setosa  │\n",
       "│ 5     ┆ 5.0          ┆ 3.6         ┆ 1.4          ┆ 0.2         ┆ setosa  │\n",
       "│ 6     ┆ 5.4          ┆ 3.9         ┆ 1.7          ┆ 0.4         ┆ setosa  │\n",
       "│ 7     ┆ 4.6          ┆ 3.4         ┆ 1.4          ┆ 0.3         ┆ setosa  │\n",
       "│ 8     ┆ 5.0          ┆ 3.4         ┆ 1.5          ┆ 0.2         ┆ setosa  │\n",
       "│ 9     ┆ 4.4          ┆ 2.9         ┆ 1.4          ┆ 0.2         ┆ setosa  │\n",
       "│ 10    ┆ 4.9          ┆ 3.1         ┆ 1.5          ┆ 0.1         ┆ setosa  │\n",
       "└───────┴──────────────┴─────────────┴──────────────┴─────────────┴─────────┘"
      ]
     },
     "execution_count": 17,
     "metadata": {},
     "output_type": "execute_result"
    }
   ],
   "source": [
    "data_url.head(10)"
   ]
  },
  {
   "cell_type": "code",
   "execution_count": 18,
   "id": "2cc56e5f",
   "metadata": {
    "ExecuteTime": {
     "end_time": "2024-04-24T11:22:51.655979Z",
     "start_time": "2024-04-24T11:22:51.649839Z"
    }
   },
   "outputs": [
    {
     "data": {
      "text/plain": [
       "(150, 6)"
      ]
     },
     "execution_count": 18,
     "metadata": {},
     "output_type": "execute_result"
    }
   ],
   "source": [
    "data_url.shape"
   ]
  },
  {
   "cell_type": "markdown",
   "id": "42e706ef",
   "metadata": {},
   "source": [
    "# 写入文件"
   ]
  },
  {
   "cell_type": "code",
   "execution_count": 19,
   "id": "61652c53",
   "metadata": {
    "ExecuteTime": {
     "end_time": "2024-04-24T11:22:51.664876Z",
     "start_time": "2024-04-24T11:22:51.657972Z"
    }
   },
   "outputs": [
    {
     "data": {
      "text/plain": [
       "(150, 6)"
      ]
     },
     "execution_count": 19,
     "metadata": {},
     "output_type": "execute_result"
    }
   ],
   "source": [
    "data_csv.shape"
   ]
  },
  {
   "cell_type": "markdown",
   "id": "418c106c",
   "metadata": {},
   "source": [
    "## 写入 csv 文件"
   ]
  },
  {
   "cell_type": "code",
   "execution_count": 20,
   "id": "b91a270d",
   "metadata": {
    "ExecuteTime": {
     "end_time": "2024-04-24T11:22:51.673315Z",
     "start_time": "2024-04-24T11:22:51.666870Z"
    }
   },
   "outputs": [],
   "source": [
    "data_csv.write_csv('./data/data_write.csv')"
   ]
  },
  {
   "cell_type": "markdown",
   "id": "b6dfe5fd",
   "metadata": {},
   "source": [
    "## 写入 excel 文件"
   ]
  },
  {
   "cell_type": "code",
   "execution_count": 21,
   "id": "e2dd26fb",
   "metadata": {
    "ExecuteTime": {
     "end_time": "2024-04-24T11:22:51.743628Z",
     "start_time": "2024-04-24T11:22:51.676280Z"
    }
   },
   "outputs": [
    {
     "data": {
      "text/plain": [
       "<xlsxwriter.workbook.Workbook at 0x26383b0f5d0>"
      ]
     },
     "execution_count": 21,
     "metadata": {},
     "output_type": "execute_result"
    }
   ],
   "source": [
    "data_csv.write_excel('./data/data_write.xlsx',float_precision=1)"
   ]
  },
  {
   "cell_type": "code",
   "execution_count": null,
   "id": "7d7dd950",
   "metadata": {},
   "outputs": [],
   "source": []
  },
  {
   "cell_type": "code",
   "execution_count": null,
   "id": "76e20b43",
   "metadata": {},
   "outputs": [],
   "source": []
  }
 ],
 "metadata": {
  "kernelspec": {
   "display_name": "Python 3.11",
   "language": "python",
   "name": "python3.11"
  },
  "language_info": {
   "codemirror_mode": {
    "name": "ipython",
    "version": 3
   },
   "file_extension": ".py",
   "mimetype": "text/x-python",
   "name": "python",
   "nbconvert_exporter": "python",
   "pygments_lexer": "ipython3",
   "version": "3.11.5"
  },
  "toc": {
   "base_numbering": 1,
   "nav_menu": {},
   "number_sections": true,
   "sideBar": true,
   "skip_h1_title": false,
   "title_cell": "Table of Contents",
   "title_sidebar": "Contents",
   "toc_cell": false,
   "toc_position": {
    "height": "calc(100% - 180px)",
    "left": "10px",
    "top": "150px",
    "width": "187.188px"
   },
   "toc_section_display": true,
   "toc_window_display": true
  }
 },
 "nbformat": 4,
 "nbformat_minor": 5
}
