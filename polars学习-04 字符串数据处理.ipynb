{
 "cells": [
  {
   "cell_type": "markdown",
   "id": "d62c683c",
   "metadata": {},
   "source": [
    "# 小编环境"
   ]
  },
  {
   "cell_type": "code",
   "execution_count": 1,
   "id": "ffe1baca",
   "metadata": {
    "ExecuteTime": {
     "end_time": "2024-05-23T08:43:42.702670Z",
     "start_time": "2024-05-23T08:43:42.541036Z"
    }
   },
   "outputs": [
    {
     "name": "stdout",
     "output_type": "stream",
     "text": [
      "python 版本： 3.11.9 \n",
      "polars 版本： 0.20.22\n"
     ]
    }
   ],
   "source": [
    "import sys\n",
    "\n",
    "print('python 版本：',sys.version.split('|')[0])\n",
    "#python 版本： 3.11.5 \n",
    "\n",
    "import polars as pl\n",
    "\n",
    "print(\"polars 版本：\",pl.__version__)\n",
    "#polars 版本： 0.20.22"
   ]
  },
  {
   "cell_type": "markdown",
   "id": "c97225c4",
   "metadata": {},
   "source": [
    "# 字符串长度"
   ]
  },
  {
   "cell_type": "markdown",
   "id": "f4b43f45",
   "metadata": {
    "ExecuteTime": {
     "end_time": "2024-05-23T08:22:27.650797Z",
     "start_time": "2024-05-23T08:22:27.645201Z"
    }
   },
   "source": [
    "可以获取字符串中的字符数或者字节数"
   ]
  },
  {
   "cell_type": "code",
   "execution_count": 2,
   "id": "3a0f9b23",
   "metadata": {
    "ExecuteTime": {
     "end_time": "2024-05-23T08:43:42.713441Z",
     "start_time": "2024-05-23T08:43:42.705685Z"
    }
   },
   "outputs": [
    {
     "name": "stdout",
     "output_type": "stream",
     "text": [
      "shape: (5, 2)\n",
      "┌────────────┬──────────────┐\n",
      "│ byte_count ┆ letter_count │\n",
      "│ ---        ┆ ---          │\n",
      "│ u32        ┆ u32          │\n",
      "╞════════════╪══════════════╡\n",
      "│ 4          ┆ 4            │\n",
      "│ 11         ┆ 11           │\n",
      "│ 7          ┆ 7            │\n",
      "│ 3          ┆ 1            │\n",
      "│ null       ┆ null         │\n",
      "└────────────┴──────────────┘\n"
     ]
    }
   ],
   "source": [
    "df = pl.DataFrame({\"animal\": [\"Crab\", \"cat and dog\", \"rab$bit\", '张',None]})\n",
    "\n",
    "out = df.select(\n",
    "    pl.col(\"animal\").str.len_bytes().alias(\"byte_count\"),  #字节数\n",
    "    pl.col(\"animal\").str.len_chars().alias(\"letter_count\"),  #字符串数\n",
    ")\n",
    "print(out)"
   ]
  },
  {
   "cell_type": "markdown",
   "id": "0efb6d0c",
   "metadata": {},
   "source": [
    "# 判断是否包含特定字符串或正则字符串"
   ]
  },
  {
   "cell_type": "markdown",
   "id": "bbc7f8ee",
   "metadata": {},
   "source": [
    "- contains：包含指定的字符串，或正则表达式字符串，返回ture/false\n",
    "- starts_with：判断是否以指定的字符串开头，返回ture/false\n",
    "- ends_with：判断是否以指定的字符串结尾，返回ture/false\n",
    "\n",
    "如果包含了特殊的字符，但又不是正则表达式，需要设置参数`literal=True`,`literal`默认是 `False`,代表字符是正则表达式字符串"
   ]
  },
  {
   "cell_type": "code",
   "execution_count": 3,
   "id": "f5f038aa",
   "metadata": {
    "ExecuteTime": {
     "end_time": "2024-05-23T08:43:42.726254Z",
     "start_time": "2024-05-23T08:43:42.715453Z"
    }
   },
   "outputs": [
    {
     "name": "stdout",
     "output_type": "stream",
     "text": [
      "shape: (5, 6)\n",
      "┌─────────────┬───────┬─────────┬───────────────┬─────────────┬───────────┐\n",
      "│ animal      ┆ regex ┆ literal ┆ regex_pattern ┆ starts_with ┆ ends_with │\n",
      "│ ---         ┆ ---   ┆ ---     ┆ ---           ┆ ---         ┆ ---       │\n",
      "│ str         ┆ bool  ┆ bool    ┆ bool          ┆ bool        ┆ bool      │\n",
      "╞═════════════╪═══════╪═════════╪═══════════════╪═════════════╪═══════════╡\n",
      "│ Crab        ┆ false ┆ false   ┆ true          ┆ false       ┆ false     │\n",
      "│ cat and dog ┆ true  ┆ false   ┆ false         ┆ false       ┆ true      │\n",
      "│ rab$bit     ┆ true  ┆ true    ┆ false         ┆ true        ┆ false     │\n",
      "│ 张          ┆ false ┆ false   ┆ false         ┆ false       ┆ false     │\n",
      "│ null        ┆ null  ┆ null    ┆ null          ┆ null        ┆ null      │\n",
      "└─────────────┴───────┴─────────┴───────────────┴─────────────┴───────────┘\n"
     ]
    }
   ],
   "source": [
    "out = df.select(\n",
    "    pl.col(\"animal\"),\n",
    "    pl.col(\"animal\").str.contains(\"cat|bit\").alias(\"regex\"),\n",
    "    pl.col(\"animal\").str.contains(\"rab$\", literal=True).alias(\"literal\"),  #匹配$原始字符\n",
    "    pl.col(\"animal\").str.contains(\"rab$\").alias(\"regex_pattern\"),\n",
    "    pl.col(\"animal\").str.starts_with(\"rab\").alias(\"starts_with\"),\n",
    "    pl.col(\"animal\").str.ends_with(\"dog\").alias(\"ends_with\"),\n",
    ")\n",
    "print(out)"
   ]
  },
  {
   "cell_type": "markdown",
   "id": "01e70c10",
   "metadata": {},
   "source": [
    "正则表达式的各种标识，需要写到字符串开始，用括号括起来，`(?iLmsuxU)`"
   ]
  },
  {
   "cell_type": "code",
   "execution_count": 4,
   "id": "8c426eb6",
   "metadata": {
    "ExecuteTime": {
     "end_time": "2024-05-23T08:43:42.738823Z",
     "start_time": "2024-05-23T08:43:42.730272Z"
    }
   },
   "outputs": [
    {
     "name": "stdout",
     "output_type": "stream",
     "text": [
      "shape: (3, 3)\n",
      "┌─────┬───────────────┬───────────────────┐\n",
      "│ s   ┆ default_match ┆ insensitive_match │\n",
      "│ --- ┆ ---           ┆ ---               │\n",
      "│ str ┆ bool          ┆ bool              │\n",
      "╞═════╪═══════════════╪═══════════════════╡\n",
      "│ AAA ┆ true          ┆ true              │\n",
      "│ aAa ┆ false         ┆ true              │\n",
      "│ aaa ┆ false         ┆ true              │\n",
      "└─────┴───────────────┴───────────────────┘\n"
     ]
    }
   ],
   "source": [
    "out=pl.DataFrame({\"s\": [\"AAA\", \"aAa\", \"aaa\"]}).with_columns(\n",
    "    default_match=pl.col(\"s\").str.contains(\"AA\"),\n",
    "    insensitive_match=pl.col(\"s\").str.contains(\"(?i)AA\")  #忽略大小写\n",
    ")\n",
    "\n",
    "print(out)"
   ]
  },
  {
   "cell_type": "markdown",
   "id": "c2416b1a",
   "metadata": {},
   "source": [
    "# 根据正则表达式提取特定字符"
   ]
  },
  {
   "cell_type": "markdown",
   "id": "20ebf2c8",
   "metadata": {},
   "source": [
    "使用`extract`方法，根据提供的正则表达式模式，进行提取匹配到的字符串,需要提供想要获取的组索引 `group_index`，默认是第1个"
   ]
  },
  {
   "cell_type": "code",
   "execution_count": 5,
   "id": "012ed6f7",
   "metadata": {
    "ExecuteTime": {
     "end_time": "2024-05-23T08:43:42.753592Z",
     "start_time": "2024-05-23T08:43:42.741840Z"
    }
   },
   "outputs": [
    {
     "name": "stdout",
     "output_type": "stream",
     "text": [
      "shape: (3, 3)\n",
      "┌─────────┬───────────────────┬─────────┐\n",
      "│ a1      ┆ a2                ┆ a3      │\n",
      "│ ---     ┆ ---               ┆ ---     │\n",
      "│ str     ┆ str               ┆ str     │\n",
      "╞═════════╪═══════════════════╪═════════╡\n",
      "│ messi   ┆ candidate=messi   ┆ messi   │\n",
      "│ null    ┆ null              ┆ null    │\n",
      "│ ronaldo ┆ candidate=ronaldo ┆ ronaldo │\n",
      "└─────────┴───────────────────┴─────────┘\n"
     ]
    }
   ],
   "source": [
    "df = pl.DataFrame(\n",
    "    {\n",
    "        \"a\": [\n",
    "            \"http://vote.com/ballon_dor?candidate=messi&ref=polars\",\n",
    "            \"http://vote.com/ballon_dor?candidat=jorginho&ref=polars\",\n",
    "            \"http://vote.com/ballon_dor?candidate=ronaldo&ref=polars\",\n",
    "        ]\n",
    "    }\n",
    ")\n",
    "out = df.select(\n",
    "    a1=pl.col(\"a\").str.extract(r\"candidate=(\\w+)\", group_index=1),\n",
    "    a2=pl.col(\"a\").str.extract(r\"candidate=(\\w+)\", group_index=0),\n",
    "    a3=pl.col(\"a\").str.extract(r\"candidate=(\\w+)\")  #默认获取第1个\n",
    ")\n",
    "print(out)"
   ]
  },
  {
   "cell_type": "markdown",
   "id": "d4fc626b",
   "metadata": {
    "ExecuteTime": {
     "end_time": "2024-05-23T08:08:29.181805Z",
     "start_time": "2024-05-23T08:08:29.172394Z"
    }
   },
   "source": [
    "如果想获取所有正则表达式匹配到的字符串，需要使用 `extract_all` 方法，结果是一个列表"
   ]
  },
  {
   "cell_type": "code",
   "execution_count": 6,
   "id": "e18591a4",
   "metadata": {
    "ExecuteTime": {
     "end_time": "2024-05-23T08:43:42.764278Z",
     "start_time": "2024-05-23T08:43:42.756604Z"
    }
   },
   "outputs": [
    {
     "name": "stdout",
     "output_type": "stream",
     "text": [
      "shape: (2, 1)\n",
      "┌────────────────┐\n",
      "│ extracted_nrs  │\n",
      "│ ---            │\n",
      "│ list[str]      │\n",
      "╞════════════════╡\n",
      "│ [\"123\", \"45\"]  │\n",
      "│ [\"678\", \"910\"] │\n",
      "└────────────────┘\n"
     ]
    }
   ],
   "source": [
    "df = pl.DataFrame({\"foo\": [\"123 bla 45 asd\", \"xyz 678 910t\"]})\n",
    "out = df.select(\n",
    "    pl.col(\"foo\").str.extract_all(r\"(\\d+)\").alias(\"extracted_nrs\"),\n",
    ")\n",
    "print(out)"
   ]
  },
  {
   "cell_type": "markdown",
   "id": "8d3d0de3",
   "metadata": {},
   "source": [
    "# 字符串替换"
   ]
  },
  {
   "cell_type": "markdown",
   "id": "4fe4c98b",
   "metadata": {
    "ExecuteTime": {
     "end_time": "2024-05-23T08:12:28.710522Z",
     "start_time": "2024-05-23T08:12:28.705402Z"
    }
   },
   "source": [
    "- replace：替换第一次匹配到的字符串，为新的字符串\n",
    "- replace_all：替换所有匹配到的字符串，为新的字符串"
   ]
  },
  {
   "cell_type": "code",
   "execution_count": 7,
   "id": "0a79c241",
   "metadata": {
    "ExecuteTime": {
     "end_time": "2024-05-23T08:43:42.777512Z",
     "start_time": "2024-05-23T08:43:42.767291Z"
    }
   },
   "outputs": [
    {
     "name": "stdout",
     "output_type": "stream",
     "text": [
      "shape: (2, 5)\n",
      "┌─────┬───────────┬───────────┬───────────┬───────────┐\n",
      "│ id  ┆ text      ┆ s1        ┆ s2        ┆ s3        │\n",
      "│ --- ┆ ---       ┆ ---       ┆ ---       ┆ ---       │\n",
      "│ i64 ┆ str       ┆ str       ┆ str       ┆ str       │\n",
      "╞═════╪═══════════╪═══════════╪═══════════╪═══════════╡\n",
      "│ 1   ┆ abc123abc ┆ abc123ABC ┆ -bc123abc ┆ -bc123-bc │\n",
      "│ 2   ┆ abc456    ┆ abc456    ┆ -bc456    ┆ -bc456    │\n",
      "└─────┴───────────┴───────────┴───────────┴───────────┘\n"
     ]
    }
   ],
   "source": [
    "df = pl.DataFrame({\"id\": [1, 2], \"text\": [\"abc123abc\", \"abc456\"]})\n",
    "out = df.with_columns(\n",
    "    s1=pl.col(\"text\").str.replace(r\"abc\\b\", \"ABC\"), #\\b 字符串结束位置，以 abc 出现在字符串结尾处\n",
    "    s2=pl.col(\"text\").str.replace(\"a\", \"-\"), #只替换第一次出现的 a\n",
    "    s3=pl.col(\"text\").str.replace_all(\"a\", \"-\", literal=True) #替换所有的 a\n",
    ")\n",
    "print(out)"
   ]
  },
  {
   "cell_type": "code",
   "execution_count": null,
   "id": "dfe1398c",
   "metadata": {},
   "outputs": [],
   "source": []
  }
 ],
 "metadata": {
  "kernelspec": {
   "display_name": "Python 3.11",
   "language": "python",
   "name": "python3.11"
  },
  "language_info": {
   "codemirror_mode": {
    "name": "ipython",
    "version": 3
   },
   "file_extension": ".py",
   "mimetype": "text/x-python",
   "name": "python",
   "nbconvert_exporter": "python",
   "pygments_lexer": "ipython3",
   "version": "3.11.9"
  },
  "toc": {
   "base_numbering": 1,
   "nav_menu": {},
   "number_sections": true,
   "sideBar": true,
   "skip_h1_title": false,
   "title_cell": "Table of Contents",
   "title_sidebar": "Contents",
   "toc_cell": false,
   "toc_position": {
    "height": "calc(100% - 180px)",
    "left": "10px",
    "top": "150px",
    "width": "179.188px"
   },
   "toc_section_display": true,
   "toc_window_display": true
  }
 },
 "nbformat": 4,
 "nbformat_minor": 5
}
