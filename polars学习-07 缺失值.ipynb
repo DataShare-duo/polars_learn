{
 "cells": [
  {
   "cell_type": "markdown",
   "id": "c34b3c2c",
   "metadata": {},
   "source": [
    "# 小编环境"
   ]
  },
  {
   "cell_type": "code",
   "execution_count": 1,
   "id": "b5a2f7a9",
   "metadata": {
    "ExecuteTime": {
     "end_time": "2024-06-25T11:23:34.197252Z",
     "start_time": "2024-06-25T11:23:34.037275Z"
    }
   },
   "outputs": [
    {
     "name": "stdout",
     "output_type": "stream",
     "text": [
      "python 版本： 3.11.9 \n",
      "polars 版本： 0.20.22\n"
     ]
    }
   ],
   "source": [
    "import sys\n",
    "\n",
    "print('python 版本：',sys.version.split('|')[0])\n",
    "#python 版本： 3.11.9 \n",
    "\n",
    "import polars as pl\n",
    "\n",
    "print(\"polars 版本：\",pl.__version__)\n",
    "#polars 版本： 0.20.22"
   ]
  },
  {
   "cell_type": "markdown",
   "id": "9bb28971",
   "metadata": {},
   "source": [
    "# polars 中缺失值的定义"
   ]
  },
  {
   "cell_type": "markdown",
   "id": "3d5ec7de",
   "metadata": {
    "ExecuteTime": {
     "end_time": "2024-06-25T09:20:56.039076Z",
     "start_time": "2024-06-25T09:20:56.028577Z"
    }
   },
   "source": [
    "在polars中缺失值用 null 来表示，只有这1种表示方式，这个与pandas不同，在pandas中 NaN（NotaNumber）也代表是缺失值，但在polars中把 NaN 归属为一种浮点数据"
   ]
  },
  {
   "cell_type": "code",
   "execution_count": 2,
   "id": "6e1959f4",
   "metadata": {
    "ExecuteTime": {
     "end_time": "2024-06-25T11:23:34.207618Z",
     "start_time": "2024-06-25T11:23:34.200248Z"
    }
   },
   "outputs": [
    {
     "name": "stdout",
     "output_type": "stream",
     "text": [
      "shape: (9, 1)\n",
      "┌───────┐\n",
      "│ value │\n",
      "│ ---   │\n",
      "│ i64   │\n",
      "╞═══════╡\n",
      "│ 1     │\n",
      "│ 2     │\n",
      "│ 3     │\n",
      "│ null  │\n",
      "│ 5     │\n",
      "│ 6     │\n",
      "│ null  │\n",
      "│ 8     │\n",
      "│ 9     │\n",
      "└───────┘\n"
     ]
    }
   ],
   "source": [
    "df = pl.DataFrame(\n",
    "    {\n",
    "        \"value\": [1,2,3, None,5,6,None,8,9],\n",
    "    },\n",
    ")\n",
    "print(df)"
   ]
  },
  {
   "cell_type": "markdown",
   "id": "1004d9d7",
   "metadata": {},
   "source": [
    "# polars中缺失值包括的2种元信息"
   ]
  },
  {
   "cell_type": "markdown",
   "id": "c5a892b3",
   "metadata": {},
   "source": [
    "- 缺失值数量，可以通过 `null_count` 方法来快速获取，因为已经是计算好的，所以调用该方法会立即返回结果\n",
    "- 有效位图（validity bitmap），代表是否是缺失值，在内存中用 0 或 1 进行编码来表示，所占的内存空间非常小，通常占用空间为（数据框长度 / 8) bytes，通过 `is_null` 方法来查看数据是否是缺失值"
   ]
  },
  {
   "cell_type": "code",
   "execution_count": 3,
   "id": "7f2892df",
   "metadata": {
    "ExecuteTime": {
     "end_time": "2024-06-25T11:23:34.215336Z",
     "start_time": "2024-06-25T11:23:34.209615Z"
    }
   },
   "outputs": [
    {
     "name": "stdout",
     "output_type": "stream",
     "text": [
      "shape: (1, 1)\n",
      "┌───────┐\n",
      "│ value │\n",
      "│ ---   │\n",
      "│ u32   │\n",
      "╞═══════╡\n",
      "│ 2     │\n",
      "└───────┘\n"
     ]
    }
   ],
   "source": [
    "null_count_df = df.null_count()\n",
    "print(null_count_df)"
   ]
  },
  {
   "cell_type": "code",
   "execution_count": 4,
   "id": "5cb63397",
   "metadata": {
    "ExecuteTime": {
     "end_time": "2024-06-25T11:23:34.226853Z",
     "start_time": "2024-06-25T11:23:34.217854Z"
    }
   },
   "outputs": [
    {
     "name": "stdout",
     "output_type": "stream",
     "text": [
      "shape: (9, 1)\n",
      "┌───────┐\n",
      "│ value │\n",
      "│ ---   │\n",
      "│ bool  │\n",
      "╞═══════╡\n",
      "│ false │\n",
      "│ false │\n",
      "│ false │\n",
      "│ true  │\n",
      "│ false │\n",
      "│ false │\n",
      "│ true  │\n",
      "│ false │\n",
      "│ false │\n",
      "└───────┘\n"
     ]
    }
   ],
   "source": [
    "is_null_series = df.select(\n",
    "    pl.col(\"value\").is_null(),\n",
    ")\n",
    "print(is_null_series)"
   ]
  },
  {
   "cell_type": "markdown",
   "id": "5ed55523",
   "metadata": {},
   "source": [
    "# 缺失值填充"
   ]
  },
  {
   "cell_type": "markdown",
   "id": "34d1026a",
   "metadata": {},
   "source": [
    "缺失值填充主要通过 `fill_null`方法来处理，但是需求指定填充缺失值的方法\n",
    "- 常量，比如用 0 来填充\n",
    "- 填充策略，例如：向前、向后 等\n",
    "- 通过表达式，比如利用其他列来填充\n",
    "- 插值法"
   ]
  },
  {
   "cell_type": "code",
   "execution_count": 5,
   "id": "537ad411",
   "metadata": {
    "ExecuteTime": {
     "end_time": "2024-06-25T11:23:34.240100Z",
     "start_time": "2024-06-25T11:23:34.230856Z"
    }
   },
   "outputs": [
    {
     "name": "stdout",
     "output_type": "stream",
     "text": [
      "shape: (3, 2)\n",
      "┌──────┬──────┐\n",
      "│ col1 ┆ col2 │\n",
      "│ ---  ┆ ---  │\n",
      "│ i64  ┆ i64  │\n",
      "╞══════╪══════╡\n",
      "│ 1    ┆ 1    │\n",
      "│ 2    ┆ null │\n",
      "│ 3    ┆ 3    │\n",
      "└──────┴──────┘\n"
     ]
    }
   ],
   "source": [
    "df = pl.DataFrame(\n",
    "    {\n",
    "        \"col1\": [1, 2, 3],\n",
    "        \"col2\": [1, None, 3],\n",
    "    },\n",
    ")\n",
    "print(df)"
   ]
  },
  {
   "cell_type": "markdown",
   "id": "19c1e483",
   "metadata": {},
   "source": [
    "## 常量填充"
   ]
  },
  {
   "cell_type": "code",
   "execution_count": 6,
   "id": "1239abf1",
   "metadata": {
    "ExecuteTime": {
     "end_time": "2024-06-25T11:23:34.251376Z",
     "start_time": "2024-06-25T11:23:34.243095Z"
    }
   },
   "outputs": [
    {
     "name": "stdout",
     "output_type": "stream",
     "text": [
      "shape: (3, 3)\n",
      "┌──────┬──────┬──────┐\n",
      "│ col1 ┆ col2 ┆ fill │\n",
      "│ ---  ┆ ---  ┆ ---  │\n",
      "│ i64  ┆ i64  ┆ i64  │\n",
      "╞══════╪══════╪══════╡\n",
      "│ 1    ┆ 1    ┆ 1    │\n",
      "│ 2    ┆ null ┆ 2    │\n",
      "│ 3    ┆ 3    ┆ 3    │\n",
      "└──────┴──────┴──────┘\n"
     ]
    }
   ],
   "source": [
    "fill_literal_df = df.with_columns(\n",
    "    fill=pl.col(\"col2\").fill_null(pl.lit(2)),\n",
    ")\n",
    "print(fill_literal_df)"
   ]
  },
  {
   "cell_type": "markdown",
   "id": "71d6f803",
   "metadata": {},
   "source": [
    "## 填充策略"
   ]
  },
  {
   "cell_type": "markdown",
   "id": "04f65546",
   "metadata": {},
   "source": [
    "填充策略：{'forward', 'backward', 'min', 'max', 'mean', 'zero', 'one'}"
   ]
  },
  {
   "cell_type": "code",
   "execution_count": 7,
   "id": "ce75b540",
   "metadata": {
    "ExecuteTime": {
     "end_time": "2024-06-25T11:23:34.262460Z",
     "start_time": "2024-06-25T11:23:34.254353Z"
    }
   },
   "outputs": [
    {
     "name": "stdout",
     "output_type": "stream",
     "text": [
      "shape: (3, 4)\n",
      "┌──────┬──────┬─────────┬──────────┐\n",
      "│ col1 ┆ col2 ┆ forward ┆ backward │\n",
      "│ ---  ┆ ---  ┆ ---     ┆ ---      │\n",
      "│ i64  ┆ i64  ┆ i64     ┆ i64      │\n",
      "╞══════╪══════╪═════════╪══════════╡\n",
      "│ 1    ┆ 1    ┆ 1       ┆ 1        │\n",
      "│ 2    ┆ null ┆ 1       ┆ 3        │\n",
      "│ 3    ┆ 3    ┆ 3       ┆ 3        │\n",
      "└──────┴──────┴─────────┴──────────┘\n"
     ]
    }
   ],
   "source": [
    "fill_df = df.with_columns(\n",
    "    forward=pl.col(\"col2\").fill_null(strategy=\"forward\"),\n",
    "    backward=pl.col(\"col2\").fill_null(strategy=\"backward\"),\n",
    ")\n",
    "print(fill_df)"
   ]
  },
  {
   "cell_type": "markdown",
   "id": "c346af39",
   "metadata": {},
   "source": [
    "## 通过表达式"
   ]
  },
  {
   "cell_type": "code",
   "execution_count": 8,
   "id": "43d0a694",
   "metadata": {
    "ExecuteTime": {
     "end_time": "2024-06-25T11:23:34.274154Z",
     "start_time": "2024-06-25T11:23:34.266452Z"
    }
   },
   "outputs": [
    {
     "name": "stdout",
     "output_type": "stream",
     "text": [
      "shape: (3, 3)\n",
      "┌──────┬──────┬──────┐\n",
      "│ col1 ┆ col2 ┆ fill │\n",
      "│ ---  ┆ ---  ┆ ---  │\n",
      "│ i64  ┆ i64  ┆ f64  │\n",
      "╞══════╪══════╪══════╡\n",
      "│ 1    ┆ 1    ┆ 1.0  │\n",
      "│ 2    ┆ null ┆ 2.0  │\n",
      "│ 3    ┆ 3    ┆ 3.0  │\n",
      "└──────┴──────┴──────┘\n"
     ]
    }
   ],
   "source": [
    "fill_median_df = df.with_columns(\n",
    "    fill=pl.col(\"col2\").fill_null(pl.median(\"col2\")), #类型会转换为浮点型\n",
    ")\n",
    "print(fill_median_df)"
   ]
  },
  {
   "cell_type": "markdown",
   "id": "ba641f87",
   "metadata": {},
   "source": [
    "## 通过插值法"
   ]
  },
  {
   "cell_type": "code",
   "execution_count": 9,
   "id": "d72b06f8",
   "metadata": {
    "ExecuteTime": {
     "end_time": "2024-06-25T11:23:34.285691Z",
     "start_time": "2024-06-25T11:23:34.277155Z"
    }
   },
   "outputs": [
    {
     "name": "stdout",
     "output_type": "stream",
     "text": [
      "shape: (3, 3)\n",
      "┌──────┬──────┬──────┐\n",
      "│ col1 ┆ col2 ┆ fill │\n",
      "│ ---  ┆ ---  ┆ ---  │\n",
      "│ i64  ┆ i64  ┆ f64  │\n",
      "╞══════╪══════╪══════╡\n",
      "│ 1    ┆ 1    ┆ 1.0  │\n",
      "│ 2    ┆ null ┆ 2.0  │\n",
      "│ 3    ┆ 3    ┆ 3.0  │\n",
      "└──────┴──────┴──────┘\n"
     ]
    }
   ],
   "source": [
    "fill_interpolation_df = df.with_columns(\n",
    "    fill=pl.col(\"col2\").interpolate(),  \n",
    ")\n",
    "print(fill_interpolation_df)"
   ]
  },
  {
   "cell_type": "code",
   "execution_count": null,
   "id": "e11749a0",
   "metadata": {},
   "outputs": [],
   "source": []
  }
 ],
 "metadata": {
  "kernelspec": {
   "display_name": "Python 3.11",
   "language": "python",
   "name": "python3.11"
  },
  "language_info": {
   "codemirror_mode": {
    "name": "ipython",
    "version": 3
   },
   "file_extension": ".py",
   "mimetype": "text/x-python",
   "name": "python",
   "nbconvert_exporter": "python",
   "pygments_lexer": "ipython3",
   "version": "3.11.9"
  },
  "toc": {
   "base_numbering": 1,
   "nav_menu": {},
   "number_sections": true,
   "sideBar": true,
   "skip_h1_title": false,
   "title_cell": "Table of Contents",
   "title_sidebar": "Contents",
   "toc_cell": false,
   "toc_position": {
    "height": "calc(100% - 180px)",
    "left": "10px",
    "top": "150px",
    "width": "165px"
   },
   "toc_section_display": true,
   "toc_window_display": true
  }
 },
 "nbformat": 4,
 "nbformat_minor": 5
}
