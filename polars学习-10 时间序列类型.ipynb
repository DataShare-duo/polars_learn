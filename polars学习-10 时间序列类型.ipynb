{
 "cells": [
  {
   "cell_type": "markdown",
   "id": "b433796f",
   "metadata": {},
   "source": [
    "# 小编环境"
   ]
  },
  {
   "cell_type": "code",
   "execution_count": 1,
   "id": "5ad87f8c",
   "metadata": {
    "ExecuteTime": {
     "end_time": "2024-08-05T08:48:04.994130Z",
     "start_time": "2024-08-05T08:48:04.790079Z"
    }
   },
   "outputs": [
    {
     "name": "stdout",
     "output_type": "stream",
     "text": [
      "python 版本： 3.11.9 \n",
      "polars 版本： 1.2.1\n"
     ]
    }
   ],
   "source": [
    "import sys\n",
    "\n",
    "print('python 版本：',sys.version.split('|')[0])\n",
    "#python 版本： 3.11.9 \n",
    "\n",
    "import polars as pl\n",
    "\n",
    "print(\"polars 版本：\",pl.__version__)\n",
    "#polars 版本： 1.2.1"
   ]
  },
  {
   "cell_type": "markdown",
   "id": "ce31c3fd",
   "metadata": {},
   "source": [
    "# 日期时间类型"
   ]
  },
  {
   "cell_type": "markdown",
   "id": "d75cdf86",
   "metadata": {},
   "source": [
    "Polars 原生支持解析时间序列数据，而且能执行一些复杂的操作\n",
    "\n",
    "包含的日期时间类型：\n",
    "- **Date**：日期类型，例如：2014-07-08，内部表示为自1970-01-01的天数，用32位有符号整数表示\n",
    "- **Datetime**：日期时间类型，例如：2014-07-08 07:00:00\n",
    "- **Duration**：时间间隔类型\n",
    "- **Time**：时间类型"
   ]
  },
  {
   "cell_type": "markdown",
   "id": "2a96674d",
   "metadata": {},
   "source": [
    "# 从文件加载数据时，解析时间"
   ]
  },
  {
   "cell_type": "markdown",
   "id": "5e09bce1",
   "metadata": {},
   "source": [
    "从csv文件加载数据时，可以指定 `try_parse_dates=True`，让polars去尝试解析日期时间"
   ]
  },
  {
   "cell_type": "code",
   "execution_count": 2,
   "id": "2c93cdd5",
   "metadata": {
    "ExecuteTime": {
     "end_time": "2024-08-05T08:48:05.013141Z",
     "start_time": "2024-08-05T08:48:05.000132Z"
    }
   },
   "outputs": [
    {
     "name": "stdout",
     "output_type": "stream",
     "text": [
      "shape: (100, 2)\n",
      "┌────────────┬────────┐\n",
      "│ Date       ┆ Close  │\n",
      "│ ---        ┆ ---    │\n",
      "│ date       ┆ f64    │\n",
      "╞════════════╪════════╡\n",
      "│ 1981-02-23 ┆ 24.62  │\n",
      "│ 1981-05-06 ┆ 27.38  │\n",
      "│ 1981-05-18 ┆ 28.0   │\n",
      "│ 1981-09-25 ┆ 14.25  │\n",
      "│ 1982-07-08 ┆ 11.0   │\n",
      "│ …          ┆ …      │\n",
      "│ 2012-05-16 ┆ 546.08 │\n",
      "│ 2012-12-04 ┆ 575.85 │\n",
      "│ 2013-07-05 ┆ 417.42 │\n",
      "│ 2013-11-07 ┆ 512.49 │\n",
      "│ 2014-02-25 ┆ 522.06 │\n",
      "└────────────┴────────┘\n"
     ]
    }
   ],
   "source": [
    "df = pl.read_csv(\"./data/apple_stock.csv\", try_parse_dates=True)\n",
    "print(df)"
   ]
  },
  {
   "cell_type": "markdown",
   "id": "e6020ae7",
   "metadata": {},
   "source": [
    "# 字符串转换为日期时间类型"
   ]
  },
  {
   "cell_type": "markdown",
   "id": "13ac0655",
   "metadata": {},
   "source": [
    "通过调用字符串的 `str.to_date` 方法，需要指定日期时间解析时的格式"
   ]
  },
  {
   "cell_type": "markdown",
   "id": "1e6b88a0",
   "metadata": {
    "ExecuteTime": {
     "end_time": "2024-08-05T05:20:28.909476Z",
     "start_time": "2024-08-05T05:20:28.899245Z"
    }
   },
   "source": [
    "日期时间解析格式，可参考该文档：\n",
    "\n",
    "[https://docs.rs/chrono/latest/chrono/format/strftime/index.html](https://docs.rs/chrono/latest/chrono/format/strftime/index.html)"
   ]
  },
  {
   "cell_type": "code",
   "execution_count": 3,
   "id": "f3d75ecf",
   "metadata": {
    "ExecuteTime": {
     "end_time": "2024-08-05T08:48:05.027135Z",
     "start_time": "2024-08-05T08:48:05.016129Z"
    }
   },
   "outputs": [
    {
     "name": "stdout",
     "output_type": "stream",
     "text": [
      "shape: (100, 2)\n",
      "┌────────────┬────────┐\n",
      "│ Date       ┆ Close  │\n",
      "│ ---        ┆ ---    │\n",
      "│ date       ┆ f64    │\n",
      "╞════════════╪════════╡\n",
      "│ 1981-02-23 ┆ 24.62  │\n",
      "│ 1981-05-06 ┆ 27.38  │\n",
      "│ 1981-05-18 ┆ 28.0   │\n",
      "│ 1981-09-25 ┆ 14.25  │\n",
      "│ 1982-07-08 ┆ 11.0   │\n",
      "│ …          ┆ …      │\n",
      "│ 2012-05-16 ┆ 546.08 │\n",
      "│ 2012-12-04 ┆ 575.85 │\n",
      "│ 2013-07-05 ┆ 417.42 │\n",
      "│ 2013-11-07 ┆ 512.49 │\n",
      "│ 2014-02-25 ┆ 522.06 │\n",
      "└────────────┴────────┘\n"
     ]
    }
   ],
   "source": [
    "df = pl.read_csv(\"./data/apple_stock.csv\", try_parse_dates=False)\n",
    "\n",
    "df = df.with_columns(pl.col(\"Date\").str.to_date(\"%Y-%m-%d\"))\n",
    "print(df)"
   ]
  },
  {
   "cell_type": "markdown",
   "id": "1dbb5b6d",
   "metadata": {},
   "source": [
    "# 从日期时间类型中提取特定的日期类型"
   ]
  },
  {
   "cell_type": "markdown",
   "id": "08065284",
   "metadata": {
    "ExecuteTime": {
     "end_time": "2024-08-05T05:24:23.767263Z",
     "start_time": "2024-08-05T05:24:23.758648Z"
    }
   },
   "source": [
    "比如从日期时间类型列中提取年份、日期等，通过 `.dt` 来提取"
   ]
  },
  {
   "cell_type": "code",
   "execution_count": 4,
   "id": "d8c70190",
   "metadata": {
    "ExecuteTime": {
     "end_time": "2024-08-05T08:48:05.041657Z",
     "start_time": "2024-08-05T08:48:05.031131Z"
    }
   },
   "outputs": [
    {
     "name": "stdout",
     "output_type": "stream",
     "text": [
      "shape: (100, 3)\n",
      "┌────────────┬────────┬──────┐\n",
      "│ Date       ┆ Close  ┆ year │\n",
      "│ ---        ┆ ---    ┆ ---  │\n",
      "│ date       ┆ f64    ┆ i32  │\n",
      "╞════════════╪════════╪══════╡\n",
      "│ 1981-02-23 ┆ 24.62  ┆ 1981 │\n",
      "│ 1981-05-06 ┆ 27.38  ┆ 1981 │\n",
      "│ 1981-05-18 ┆ 28.0   ┆ 1981 │\n",
      "│ 1981-09-25 ┆ 14.25  ┆ 1981 │\n",
      "│ 1982-07-08 ┆ 11.0   ┆ 1982 │\n",
      "│ …          ┆ …      ┆ …    │\n",
      "│ 2012-05-16 ┆ 546.08 ┆ 2012 │\n",
      "│ 2012-12-04 ┆ 575.85 ┆ 2012 │\n",
      "│ 2013-07-05 ┆ 417.42 ┆ 2013 │\n",
      "│ 2013-11-07 ┆ 512.49 ┆ 2013 │\n",
      "│ 2014-02-25 ┆ 522.06 ┆ 2014 │\n",
      "└────────────┴────────┴──────┘\n"
     ]
    }
   ],
   "source": [
    "df_with_year = df.with_columns(pl.col(\"Date\").dt.year().alias(\"year\"))\n",
    "print(df_with_year)"
   ]
  },
  {
   "cell_type": "markdown",
   "id": "d1bf0d13",
   "metadata": {},
   "source": [
    "# 混合时差"
   ]
  },
  {
   "cell_type": "markdown",
   "id": "a2fa2178",
   "metadata": {
    "ExecuteTime": {
     "end_time": "2024-08-05T05:29:26.192389Z",
     "start_time": "2024-08-05T05:29:26.186387Z"
    }
   },
   "source": [
    "当有混合时差（例如，由于跨越夏令时），可以使用 `dt.convert_time_zone` 来进行转换"
   ]
  },
  {
   "cell_type": "code",
   "execution_count": 5,
   "id": "d826a769",
   "metadata": {
    "ExecuteTime": {
     "end_time": "2024-08-05T08:48:05.054290Z",
     "start_time": "2024-08-05T08:48:05.044649Z"
    }
   },
   "outputs": [
    {
     "name": "stdout",
     "output_type": "stream",
     "text": [
      "shape: (4,)\n",
      "Series: '' [datetime[μs, Europe/Brussels]]\n",
      "[\n",
      "\t2021-03-27 00:00:00 CET\n",
      "\t2021-03-28 00:00:00 CET\n",
      "\t2021-03-29 00:00:00 CEST\n",
      "\t2021-03-30 00:00:00 CEST\n",
      "]\n"
     ]
    }
   ],
   "source": [
    "data = [\n",
    "    \"2021-03-27T00:00:00+0100\",\n",
    "    \"2021-03-28T00:00:00+0100\",\n",
    "    \"2021-03-29T00:00:00+0200\",\n",
    "    \"2021-03-30T00:00:00+0200\",\n",
    "]\n",
    "mixed_parsed = (\n",
    "    pl.Series(data)\n",
    "    .str.to_datetime(\"%Y-%m-%dT%H:%M:%S%z\")\n",
    "    .dt.convert_time_zone(\"Europe/Brussels\")\n",
    ")\n",
    "\n",
    "\n",
    "print(mixed_parsed)"
   ]
  },
  {
   "cell_type": "code",
   "execution_count": 6,
   "id": "32199e07",
   "metadata": {
    "ExecuteTime": {
     "end_time": "2024-08-05T08:48:05.069163Z",
     "start_time": "2024-08-05T08:48:05.057327Z"
    }
   },
   "outputs": [
    {
     "data": {
      "text/html": [
       "<div><style>\n",
       ".dataframe > thead > tr,\n",
       ".dataframe > tbody > tr {\n",
       "  text-align: right;\n",
       "  white-space: pre-wrap;\n",
       "}\n",
       "</style>\n",
       "<small>shape: (4,)</small><table border=\"1\" class=\"dataframe\"><thead><tr><th></th></tr><tr><td>datetime[μs, Europe/Brussels]</td></tr></thead><tbody><tr><td>2021-03-27 00:00:00 CET</td></tr><tr><td>2021-03-28 00:00:00 CET</td></tr><tr><td>2021-03-29 00:00:00 CEST</td></tr><tr><td>2021-03-30 00:00:00 CEST</td></tr></tbody></table></div>"
      ],
      "text/plain": [
       "shape: (4,)\n",
       "Series: '' [datetime[μs, Europe/Brussels]]\n",
       "[\n",
       "\t2021-03-27 00:00:00 CET\n",
       "\t2021-03-28 00:00:00 CET\n",
       "\t2021-03-29 00:00:00 CEST\n",
       "\t2021-03-30 00:00:00 CEST\n",
       "]"
      ]
     },
     "execution_count": 6,
     "metadata": {},
     "output_type": "execute_result"
    }
   ],
   "source": [
    "mixed_parsed"
   ]
  },
  {
   "cell_type": "markdown",
   "id": "ea0458c3",
   "metadata": {},
   "source": [
    "# 日期时间数据筛选"
   ]
  },
  {
   "cell_type": "code",
   "execution_count": 7,
   "id": "0b827749",
   "metadata": {
    "ExecuteTime": {
     "end_time": "2024-08-05T08:48:05.082154Z",
     "start_time": "2024-08-05T08:48:05.074161Z"
    }
   },
   "outputs": [
    {
     "name": "stdout",
     "output_type": "stream",
     "text": [
      "shape: (100, 2)\n",
      "┌────────────┬────────┐\n",
      "│ Date       ┆ Close  │\n",
      "│ ---        ┆ ---    │\n",
      "│ date       ┆ f64    │\n",
      "╞════════════╪════════╡\n",
      "│ 1981-02-23 ┆ 24.62  │\n",
      "│ 1981-05-06 ┆ 27.38  │\n",
      "│ 1981-05-18 ┆ 28.0   │\n",
      "│ 1981-09-25 ┆ 14.25  │\n",
      "│ 1982-07-08 ┆ 11.0   │\n",
      "│ …          ┆ …      │\n",
      "│ 2012-05-16 ┆ 546.08 │\n",
      "│ 2012-12-04 ┆ 575.85 │\n",
      "│ 2013-07-05 ┆ 417.42 │\n",
      "│ 2013-11-07 ┆ 512.49 │\n",
      "│ 2014-02-25 ┆ 522.06 │\n",
      "└────────────┴────────┘\n"
     ]
    }
   ],
   "source": [
    "from datetime import datetime\n",
    "\n",
    "df = pl.read_csv(\"./data/apple_stock.csv\", try_parse_dates=True)\n",
    "\n",
    "print(df)"
   ]
  },
  {
   "cell_type": "markdown",
   "id": "a4fa4a2b",
   "metadata": {},
   "source": [
    "## 筛选单个日期时间对象"
   ]
  },
  {
   "cell_type": "code",
   "execution_count": 8,
   "id": "ee241a1f",
   "metadata": {
    "ExecuteTime": {
     "end_time": "2024-08-05T08:48:05.093799Z",
     "start_time": "2024-08-05T08:48:05.085155Z"
    }
   },
   "outputs": [
    {
     "name": "stdout",
     "output_type": "stream",
     "text": [
      "shape: (1, 2)\n",
      "┌────────────┬───────┐\n",
      "│ Date       ┆ Close │\n",
      "│ ---        ┆ ---   │\n",
      "│ date       ┆ f64   │\n",
      "╞════════════╪═══════╡\n",
      "│ 1995-10-16 ┆ 36.13 │\n",
      "└────────────┴───────┘\n"
     ]
    }
   ],
   "source": [
    "filtered_df = df.filter(\n",
    "    pl.col(\"Date\") == datetime(1995, 10, 16),\n",
    ")\n",
    "print(filtered_df)"
   ]
  },
  {
   "cell_type": "markdown",
   "id": "66b6ec94",
   "metadata": {},
   "source": [
    "## 筛选一个日期范围"
   ]
  },
  {
   "cell_type": "markdown",
   "id": "30a1b442",
   "metadata": {},
   "source": [
    "通过 `is_between` 方法，指定一个范围"
   ]
  },
  {
   "cell_type": "code",
   "execution_count": 9,
   "id": "83ce3af3",
   "metadata": {
    "ExecuteTime": {
     "end_time": "2024-08-05T08:48:05.105988Z",
     "start_time": "2024-08-05T08:48:05.096798Z"
    }
   },
   "outputs": [
    {
     "name": "stdout",
     "output_type": "stream",
     "text": [
      "shape: (2, 2)\n",
      "┌────────────┬───────┐\n",
      "│ Date       ┆ Close │\n",
      "│ ---        ┆ ---   │\n",
      "│ date       ┆ f64   │\n",
      "╞════════════╪═══════╡\n",
      "│ 1995-07-06 ┆ 47.0  │\n",
      "│ 1995-10-16 ┆ 36.13 │\n",
      "└────────────┴───────┘\n"
     ]
    }
   ],
   "source": [
    "filtered_range_df = df.filter(\n",
    "    pl.col(\"Date\").is_between(datetime(1995, 7, 1), datetime(1995, 11, 1)),\n",
    ")\n",
    "print(filtered_range_df)"
   ]
  },
  {
   "cell_type": "markdown",
   "id": "c366c64c",
   "metadata": {},
   "source": [
    "## 筛选 负数日期"
   ]
  },
  {
   "cell_type": "markdown",
   "id": "341072e6",
   "metadata": {},
   "source": [
    "考古领域数据可能会涉及这类日期"
   ]
  },
  {
   "cell_type": "code",
   "execution_count": 10,
   "id": "cd0ff503",
   "metadata": {
    "ExecuteTime": {
     "end_time": "2024-08-05T08:48:05.121984Z",
     "start_time": "2024-08-05T08:48:05.111983Z"
    }
   },
   "outputs": [
    {
     "name": "stdout",
     "output_type": "stream",
     "text": [
      "shape: (1, 2)\n",
      "┌─────────────┬────────┐\n",
      "│ ts          ┆ values │\n",
      "│ ---         ┆ ---    │\n",
      "│ date        ┆ i64    │\n",
      "╞═════════════╪════════╡\n",
      "│ -1400-03-02 ┆ 4      │\n",
      "└─────────────┴────────┘\n"
     ]
    }
   ],
   "source": [
    "ts = pl.Series([\"-1300-05-23\", \"-1400-03-02\"]).str.to_date()\n",
    "\n",
    "negative_dates_df = pl.DataFrame({\"ts\": ts, \"values\": [3, 4]})\n",
    "\n",
    "negative_dates_filtered_df = negative_dates_df.filter(pl.col(\"ts\").dt.year() < -1300)\n",
    "print(negative_dates_filtered_df)"
   ]
  },
  {
   "cell_type": "code",
   "execution_count": null,
   "id": "a46e17ff",
   "metadata": {},
   "outputs": [],
   "source": []
  }
 ],
 "metadata": {
  "kernelspec": {
   "display_name": "Python 3.11",
   "language": "python",
   "name": "python3.11"
  },
  "language_info": {
   "codemirror_mode": {
    "name": "ipython",
    "version": 3
   },
   "file_extension": ".py",
   "mimetype": "text/x-python",
   "name": "python",
   "nbconvert_exporter": "python",
   "pygments_lexer": "ipython3",
   "version": "3.11.9"
  },
  "toc": {
   "base_numbering": 1,
   "nav_menu": {},
   "number_sections": true,
   "sideBar": true,
   "skip_h1_title": false,
   "title_cell": "Table of Contents",
   "title_sidebar": "Contents",
   "toc_cell": false,
   "toc_position": {
    "height": "calc(100% - 180px)",
    "left": "10px",
    "top": "150px",
    "width": "165px"
   },
   "toc_section_display": true,
   "toc_window_display": true
  }
 },
 "nbformat": 4,
 "nbformat_minor": 5
}
