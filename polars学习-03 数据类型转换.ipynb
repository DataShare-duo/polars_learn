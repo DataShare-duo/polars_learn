{
 "cells": [
  {
   "cell_type": "markdown",
   "id": "2a82b245",
   "metadata": {},
   "source": [
    ">Casting is available with the cast() method\n",
    "\n",
    ">By default, strict=True, which means that Polars will throw an error to notify the user of the failed conversion and provide details on the values that couldn't be cast. \n",
    "\n",
    ">On the other hand, if strict=False, any values that can't be converted to the target DataType will be quietly converted to null."
   ]
  },
  {
   "cell_type": "markdown",
   "id": "c7c48415",
   "metadata": {},
   "source": [
    "数据类型转换，主要是通过 `cast` 方法来进行操作，该方法中有个参数 `strict` ，该参数决定当原数据类型不能转换为目标数据类型时，应该如何处理\n",
    "- 严格模式， `strict=True`(该参数默认是True)，就会进行报错，打印出详细的错误信息\n",
    "- 非严格模式， `strict=False` ,不会报错，无法转换为目标数据类型的值都会被置为 `null`"
   ]
  },
  {
   "cell_type": "code",
   "execution_count": 1,
   "id": "7501bbb0",
   "metadata": {
    "ExecuteTime": {
     "end_time": "2024-05-13T11:14:18.395124Z",
     "start_time": "2024-05-13T11:14:18.236353Z"
    }
   },
   "outputs": [
    {
     "name": "stdout",
     "output_type": "stream",
     "text": [
      "python 版本： 3.11.5 \n",
      "polars 版本： 0.20.22\n"
     ]
    }
   ],
   "source": [
    "import sys\n",
    "\n",
    "print('python 版本：',sys.version.split('|')[0])\n",
    "#python 版本： 3.11.5 \n",
    "\n",
    "import polars as pl\n",
    "\n",
    "print(\"polars 版本：\",pl.__version__)\n",
    "#polars 版本： 0.20.22"
   ]
  },
  {
   "cell_type": "markdown",
   "id": "67562004",
   "metadata": {},
   "source": [
    "# 数值类型"
   ]
  },
  {
   "cell_type": "markdown",
   "id": "e2b153be",
   "metadata": {
    "ExecuteTime": {
     "end_time": "2024-05-13T08:51:46.614316Z",
     "start_time": "2024-05-13T08:51:46.609140Z"
    }
   },
   "source": [
    "浮点型数值转换为整型时，会向下取整"
   ]
  },
  {
   "cell_type": "code",
   "execution_count": 2,
   "id": "e7cbe474",
   "metadata": {
    "ExecuteTime": {
     "end_time": "2024-05-13T11:14:18.402871Z",
     "start_time": "2024-05-13T11:14:18.397127Z"
    }
   },
   "outputs": [],
   "source": [
    "df = pl.DataFrame(\n",
    "    {\n",
    "        \"integers\": [1, 2, 3, 4, 5],\n",
    "        \"big_integers\": [1, 10000002, 3, 10000004, 10000005],\n",
    "        \"floats\": [4.0, 5.0, 6.0, 7.0, 8.0],\n",
    "        \"floats_with_decimal\": [4.532, 5.5, 6.5, 7.5, 8.5],\n",
    "    }\n",
    ")"
   ]
  },
  {
   "cell_type": "code",
   "execution_count": 3,
   "id": "d432f177",
   "metadata": {
    "ExecuteTime": {
     "end_time": "2024-05-13T11:14:18.412575Z",
     "start_time": "2024-05-13T11:14:18.404387Z"
    }
   },
   "outputs": [
    {
     "name": "stdout",
     "output_type": "stream",
     "text": [
      "shape: (5, 4)\n",
      "┌──────────┬──────────────┬────────┬─────────────────────┐\n",
      "│ integers ┆ big_integers ┆ floats ┆ floats_with_decimal │\n",
      "│ ---      ┆ ---          ┆ ---    ┆ ---                 │\n",
      "│ i64      ┆ i64          ┆ f64    ┆ f64                 │\n",
      "╞══════════╪══════════════╪════════╪═════════════════════╡\n",
      "│ 1        ┆ 1            ┆ 4.0    ┆ 4.532               │\n",
      "│ 2        ┆ 10000002     ┆ 5.0    ┆ 5.5                 │\n",
      "│ 3        ┆ 3            ┆ 6.0    ┆ 6.5                 │\n",
      "│ 4        ┆ 10000004     ┆ 7.0    ┆ 7.5                 │\n",
      "│ 5        ┆ 10000005     ┆ 8.0    ┆ 8.5                 │\n",
      "└──────────┴──────────────┴────────┴─────────────────────┘\n"
     ]
    }
   ],
   "source": [
    "print(df)"
   ]
  },
  {
   "cell_type": "code",
   "execution_count": 4,
   "id": "72d3cb36",
   "metadata": {
    "ExecuteTime": {
     "end_time": "2024-05-13T11:14:18.426778Z",
     "start_time": "2024-05-13T11:14:18.416591Z"
    }
   },
   "outputs": [
    {
     "name": "stdout",
     "output_type": "stream",
     "text": [
      "shape: (5, 3)\n",
      "┌────────────────────┬────────────────────┬─────────────────────────────────┐\n",
      "│ integers_as_floats ┆ floats_as_integers ┆ floats_with_decimal_as_integers │\n",
      "│ ---                ┆ ---                ┆ ---                             │\n",
      "│ f32                ┆ i32                ┆ i32                             │\n",
      "╞════════════════════╪════════════════════╪═════════════════════════════════╡\n",
      "│ 1.0                ┆ 4                  ┆ 4                               │\n",
      "│ 2.0                ┆ 5                  ┆ 5                               │\n",
      "│ 3.0                ┆ 6                  ┆ 6                               │\n",
      "│ 4.0                ┆ 7                  ┆ 7                               │\n",
      "│ 5.0                ┆ 8                  ┆ 8                               │\n",
      "└────────────────────┴────────────────────┴─────────────────────────────────┘\n"
     ]
    }
   ],
   "source": [
    "out=df.select(\n",
    "        pl.col(\"integers\").cast(pl.Float32).alias(\"integers_as_floats\"),\n",
    "        pl.col(\"floats\").cast(pl.Int32).alias(\"floats_as_integers\"),\n",
    "        pl.col(\"floats_with_decimal\").cast(pl.Int32).alias(\"floats_with_decimal_as_integers\")\n",
    "    )\n",
    "\n",
    "print(out)"
   ]
  },
  {
   "cell_type": "code",
   "execution_count": 5,
   "id": "24e6879e",
   "metadata": {
    "ExecuteTime": {
     "end_time": "2024-05-13T11:14:18.435830Z",
     "start_time": "2024-05-13T11:14:18.428772Z"
    }
   },
   "outputs": [
    {
     "name": "stdout",
     "output_type": "stream",
     "text": [
      "shape: (5, 2)\n",
      "┌─────────────────────────┬───────────────────────┐\n",
      "│ integers_smallfootprint ┆ floats_smallfootprint │\n",
      "│ ---                     ┆ ---                   │\n",
      "│ i16                     ┆ f32                   │\n",
      "╞═════════════════════════╪═══════════════════════╡\n",
      "│ 1                       ┆ 4.0                   │\n",
      "│ 2                       ┆ 5.0                   │\n",
      "│ 3                       ┆ 6.0                   │\n",
      "│ 4                       ┆ 7.0                   │\n",
      "│ 5                       ┆ 8.0                   │\n",
      "└─────────────────────────┴───────────────────────┘\n"
     ]
    }
   ],
   "source": [
    "out=df.select(\n",
    "        pl.col(\"integers\").cast(pl.Int16).alias(\"integers_smallfootprint\"),\n",
    "        pl.col(\"floats\").cast(pl.Float32).alias(\"floats_smallfootprint\"),\n",
    "    )\n",
    "\n",
    "print(out)"
   ]
  },
  {
   "cell_type": "code",
   "execution_count": 6,
   "id": "dced34c3",
   "metadata": {
    "ExecuteTime": {
     "end_time": "2024-05-13T11:14:18.447460Z",
     "start_time": "2024-05-13T11:14:18.439869Z"
    }
   },
   "outputs": [
    {
     "name": "stdout",
     "output_type": "stream",
     "text": [
      "conversion from `i64` to `i8` failed in column 'big_integers' for 3 out of 5 values: [10000002, 10000004, 10000005]\n"
     ]
    }
   ],
   "source": [
    "try:\n",
    "    out = df.select(pl.col(\"big_integers\").cast(pl.Int8))\n",
    "    print(out)\n",
    "except Exception as e:\n",
    "    print(e)"
   ]
  },
  {
   "cell_type": "code",
   "execution_count": 7,
   "id": "26ac3e0d",
   "metadata": {
    "ExecuteTime": {
     "end_time": "2024-05-13T11:14:18.456880Z",
     "start_time": "2024-05-13T11:14:18.449461Z"
    }
   },
   "outputs": [
    {
     "name": "stdout",
     "output_type": "stream",
     "text": [
      "shape: (5, 1)\n",
      "┌──────────────┐\n",
      "│ big_integers │\n",
      "│ ---          │\n",
      "│ i8           │\n",
      "╞══════════════╡\n",
      "│ 1            │\n",
      "│ null         │\n",
      "│ 3            │\n",
      "│ null         │\n",
      "│ null         │\n",
      "└──────────────┘\n"
     ]
    }
   ],
   "source": [
    "out=df.select(pl.col(\"big_integers\").cast(pl.Int8, strict=False))\n",
    "print(out)"
   ]
  },
  {
   "cell_type": "markdown",
   "id": "53c19729",
   "metadata": {},
   "source": [
    "# 字符串类型"
   ]
  },
  {
   "cell_type": "code",
   "execution_count": 8,
   "id": "638390f9",
   "metadata": {
    "ExecuteTime": {
     "end_time": "2024-05-13T11:14:18.468409Z",
     "start_time": "2024-05-13T11:14:18.459878Z"
    }
   },
   "outputs": [
    {
     "name": "stdout",
     "output_type": "stream",
     "text": [
      "shape: (5, 3)\n",
      "┌──────────┬───────┬──────────────────┐\n",
      "│ integers ┆ float ┆ floats_as_string │\n",
      "│ ---      ┆ ---   ┆ ---              │\n",
      "│ i64      ┆ f64   ┆ str              │\n",
      "╞══════════╪═══════╪══════════════════╡\n",
      "│ 1        ┆ 4.0   ┆ 4.0              │\n",
      "│ 2        ┆ 5.03  ┆ 5.0              │\n",
      "│ 3        ┆ 6.0   ┆ 6.0              │\n",
      "│ 4        ┆ 7.0   ┆ 7.0              │\n",
      "│ 5        ┆ 8.0   ┆ 8.0              │\n",
      "└──────────┴───────┴──────────────────┘\n"
     ]
    }
   ],
   "source": [
    "df = pl.DataFrame(\n",
    "    {\n",
    "        \"integers\": [1, 2, 3, 4, 5],\n",
    "        \"float\": [4.0, 5.03, 6.0, 7.0, 8.0],\n",
    "        \"floats_as_string\": [\"4.0\", \"5.0\", \"6.0\", \"7.0\", \"8.0\"],\n",
    "    }\n",
    ")\n",
    "\n",
    "print(df)"
   ]
  },
  {
   "cell_type": "code",
   "execution_count": 9,
   "id": "f8ae5cda",
   "metadata": {
    "ExecuteTime": {
     "end_time": "2024-05-13T11:14:18.481719Z",
     "start_time": "2024-05-13T11:14:18.472414Z"
    }
   },
   "outputs": [
    {
     "name": "stdout",
     "output_type": "stream",
     "text": [
      "shape: (5, 3)\n",
      "┌──────────┬───────┬──────────────────┐\n",
      "│ integers ┆ float ┆ floats_as_string │\n",
      "│ ---      ┆ ---   ┆ ---              │\n",
      "│ str      ┆ str   ┆ f64              │\n",
      "╞══════════╪═══════╪══════════════════╡\n",
      "│ 1        ┆ 4.0   ┆ 4.0              │\n",
      "│ 2        ┆ 5.03  ┆ 5.0              │\n",
      "│ 3        ┆ 6.0   ┆ 6.0              │\n",
      "│ 4        ┆ 7.0   ┆ 7.0              │\n",
      "│ 5        ┆ 8.0   ┆ 8.0              │\n",
      "└──────────┴───────┴──────────────────┘\n"
     ]
    }
   ],
   "source": [
    "out=df.select(\n",
    "        pl.col(\"integers\").cast(pl.String),\n",
    "        pl.col(\"float\").cast(pl.String),\n",
    "        pl.col(\"floats_as_string\").cast(pl.Float64),\n",
    "    )\n",
    "\n",
    "print(out)"
   ]
  },
  {
   "cell_type": "code",
   "execution_count": 10,
   "id": "f89b0379",
   "metadata": {
    "ExecuteTime": {
     "end_time": "2024-05-13T11:14:18.492190Z",
     "start_time": "2024-05-13T11:14:18.485715Z"
    }
   },
   "outputs": [
    {
     "name": "stdout",
     "output_type": "stream",
     "text": [
      "shape: (5, 1)\n",
      "┌───────────────────┐\n",
      "│ strings_not_float │\n",
      "│ ---               │\n",
      "│ str               │\n",
      "╞═══════════════════╡\n",
      "│ 4.0               │\n",
      "│ not_a_number      │\n",
      "│ 6.0               │\n",
      "│ 7.0               │\n",
      "│ 8.0               │\n",
      "└───────────────────┘\n"
     ]
    }
   ],
   "source": [
    "df = pl.DataFrame({\"strings_not_float\": [\"4.0\", \"not_a_number\", \"6.0\", \"7.0\", \"8.0\"]})\n",
    "print(df)"
   ]
  },
  {
   "cell_type": "code",
   "execution_count": 11,
   "id": "d3732ca1",
   "metadata": {
    "ExecuteTime": {
     "end_time": "2024-05-13T11:14:20.188532Z",
     "start_time": "2024-05-13T11:14:18.496169Z"
    }
   },
   "outputs": [
    {
     "ename": "ComputeError",
     "evalue": "conversion from `str` to `f64` failed in column 'strings_not_float' for 1 out of 5 values: [\"not_a_number\"]",
     "output_type": "error",
     "traceback": [
      "\u001b[1;31m---------------------------------------------------------------------------\u001b[0m",
      "\u001b[1;31mComputeError\u001b[0m                              Traceback (most recent call last)",
      "Cell \u001b[1;32mIn[11], line 1\u001b[0m\n\u001b[1;32m----> 1\u001b[0m out\u001b[38;5;241m=\u001b[39mdf\u001b[38;5;241m.\u001b[39mselect(pl\u001b[38;5;241m.\u001b[39mcol(\u001b[38;5;124m\"\u001b[39m\u001b[38;5;124mstrings_not_float\u001b[39m\u001b[38;5;124m\"\u001b[39m)\u001b[38;5;241m.\u001b[39mcast(pl\u001b[38;5;241m.\u001b[39mFloat64))\n",
      "File \u001b[1;32mD:\\ProgramData\\Anaconda3\\envs\\python311\\Lib\\site-packages\\polars\\dataframe\\frame.py:7699\u001b[0m, in \u001b[0;36mDataFrame.select\u001b[1;34m(self, *exprs, **named_exprs)\u001b[0m\n\u001b[0;32m   7599\u001b[0m \u001b[38;5;28;01mdef\u001b[39;00m \u001b[38;5;21mselect\u001b[39m(\n\u001b[0;32m   7600\u001b[0m     \u001b[38;5;28mself\u001b[39m, \u001b[38;5;241m*\u001b[39mexprs: IntoExpr \u001b[38;5;241m|\u001b[39m Iterable[IntoExpr], \u001b[38;5;241m*\u001b[39m\u001b[38;5;241m*\u001b[39mnamed_exprs: IntoExpr\n\u001b[0;32m   7601\u001b[0m ) \u001b[38;5;241m-\u001b[39m\u001b[38;5;241m>\u001b[39m DataFrame:\n\u001b[0;32m   7602\u001b[0m \u001b[38;5;250m    \u001b[39m\u001b[38;5;124;03m\"\"\"\u001b[39;00m\n\u001b[0;32m   7603\u001b[0m \u001b[38;5;124;03m    Select columns from this DataFrame.\u001b[39;00m\n\u001b[0;32m   7604\u001b[0m \n\u001b[1;32m   (...)\u001b[0m\n\u001b[0;32m   7697\u001b[0m \u001b[38;5;124;03m    └───────────┘\u001b[39;00m\n\u001b[0;32m   7698\u001b[0m \u001b[38;5;124;03m    \"\"\"\u001b[39;00m\n\u001b[1;32m-> 7699\u001b[0m     \u001b[38;5;28;01mreturn\u001b[39;00m \u001b[38;5;28mself\u001b[39m\u001b[38;5;241m.\u001b[39mlazy()\u001b[38;5;241m.\u001b[39mselect(\u001b[38;5;241m*\u001b[39mexprs, \u001b[38;5;241m*\u001b[39m\u001b[38;5;241m*\u001b[39mnamed_exprs)\u001b[38;5;241m.\u001b[39mcollect(_eager\u001b[38;5;241m=\u001b[39m\u001b[38;5;28;01mTrue\u001b[39;00m)\n",
      "File \u001b[1;32mD:\\ProgramData\\Anaconda3\\envs\\python311\\Lib\\site-packages\\polars\\lazyframe\\frame.py:1700\u001b[0m, in \u001b[0;36mLazyFrame.collect\u001b[1;34m(self, type_coercion, predicate_pushdown, projection_pushdown, simplify_expression, slice_pushdown, comm_subplan_elim, comm_subexpr_elim, no_optimization, streaming, background, _eager)\u001b[0m\n\u001b[0;32m   1697\u001b[0m \u001b[38;5;28;01mif\u001b[39;00m background:\n\u001b[0;32m   1698\u001b[0m     \u001b[38;5;28;01mreturn\u001b[39;00m InProcessQuery(ldf\u001b[38;5;241m.\u001b[39mcollect_concurrently())\n\u001b[1;32m-> 1700\u001b[0m \u001b[38;5;28;01mreturn\u001b[39;00m wrap_df(ldf\u001b[38;5;241m.\u001b[39mcollect())\n",
      "\u001b[1;31mComputeError\u001b[0m: conversion from `str` to `f64` failed in column 'strings_not_float' for 1 out of 5 values: [\"not_a_number\"]"
     ]
    }
   ],
   "source": [
    "out=df.select(pl.col(\"strings_not_float\").cast(pl.Float64))"
   ]
  },
  {
   "cell_type": "code",
   "execution_count": null,
   "id": "c7a2a8ce",
   "metadata": {
    "ExecuteTime": {
     "end_time": "2024-05-13T11:14:20.191511Z",
     "start_time": "2024-05-13T11:14:20.191511Z"
    }
   },
   "outputs": [],
   "source": [
    "out=df.select(pl.col(\"strings_not_float\").cast(pl.Float64,strict=False))\n",
    "print(out)"
   ]
  },
  {
   "cell_type": "markdown",
   "id": "4b08d5e1",
   "metadata": {},
   "source": [
    "# 布尔型"
   ]
  },
  {
   "cell_type": "markdown",
   "id": "c2bdb7ae",
   "metadata": {},
   "source": [
    "数值型与布尔型可以相互转换，但是不允许字符型转换为布尔型"
   ]
  },
  {
   "cell_type": "code",
   "execution_count": 12,
   "id": "22dcb784",
   "metadata": {
    "ExecuteTime": {
     "end_time": "2024-05-13T11:14:34.664396Z",
     "start_time": "2024-05-13T11:14:34.657514Z"
    }
   },
   "outputs": [
    {
     "name": "stdout",
     "output_type": "stream",
     "text": [
      "shape: (5, 3)\n",
      "┌──────────┬────────┬───────┐\n",
      "│ integers ┆ floats ┆ bools │\n",
      "│ ---      ┆ ---    ┆ ---   │\n",
      "│ i64      ┆ f64    ┆ bool  │\n",
      "╞══════════╪════════╪═══════╡\n",
      "│ -1       ┆ 0.0    ┆ true  │\n",
      "│ 0        ┆ 1.0    ┆ false │\n",
      "│ 2        ┆ 2.0    ┆ true  │\n",
      "│ 3        ┆ 3.0    ┆ false │\n",
      "│ 4        ┆ 4.0    ┆ true  │\n",
      "└──────────┴────────┴───────┘\n"
     ]
    }
   ],
   "source": [
    "df = pl.DataFrame(\n",
    "    {\n",
    "        \"integers\": [-1, 0, 2, 3, 4],\n",
    "        \"floats\": [0.0, 1.0, 2.0, 3.0, 4.0],\n",
    "        \"bools\": [True, False, True, False, True],\n",
    "    }\n",
    ")\n",
    "\n",
    "print(df)"
   ]
  },
  {
   "cell_type": "code",
   "execution_count": 13,
   "id": "1122cad4",
   "metadata": {
    "ExecuteTime": {
     "end_time": "2024-05-13T11:14:35.101500Z",
     "start_time": "2024-05-13T11:14:35.095683Z"
    }
   },
   "outputs": [
    {
     "name": "stdout",
     "output_type": "stream",
     "text": [
      "shape: (5, 2)\n",
      "┌──────────┬────────┐\n",
      "│ integers ┆ floats │\n",
      "│ ---      ┆ ---    │\n",
      "│ bool     ┆ bool   │\n",
      "╞══════════╪════════╡\n",
      "│ true     ┆ false  │\n",
      "│ false    ┆ true   │\n",
      "│ true     ┆ true   │\n",
      "│ true     ┆ true   │\n",
      "│ true     ┆ true   │\n",
      "└──────────┴────────┘\n"
     ]
    }
   ],
   "source": [
    "out=df.select(pl.col(\"integers\").cast(pl.Boolean), \n",
    "              pl.col(\"floats\").cast(pl.Boolean)\n",
    "             )\n",
    "print(out)"
   ]
  },
  {
   "cell_type": "markdown",
   "id": "d087d10b",
   "metadata": {},
   "source": [
    "# 时间类型"
   ]
  },
  {
   "cell_type": "markdown",
   "id": "7ed57c49",
   "metadata": {},
   "source": [
    "`Date` 或 `Datetime` 等时间数据类型表示为自纪元（1970年1月1日）以来的天数（`Date`）和微秒数（`Datetime`），因此数值类型与时间数据类型能直接相互转换\n",
    "\n",
    "字符串类型与时间类型，可以通过 dt.to_string、str.to_datetime进行相互转换"
   ]
  },
  {
   "cell_type": "code",
   "execution_count": 14,
   "id": "7fe7dc44",
   "metadata": {
    "ExecuteTime": {
     "end_time": "2024-05-13T11:14:35.868598Z",
     "start_time": "2024-05-13T11:14:35.860793Z"
    }
   },
   "outputs": [
    {
     "name": "stdout",
     "output_type": "stream",
     "text": [
      "shape: (5, 2)\n",
      "┌────────────┬─────────────────────┐\n",
      "│ date       ┆ datetime            │\n",
      "│ ---        ┆ ---                 │\n",
      "│ date       ┆ datetime[μs]        │\n",
      "╞════════════╪═════════════════════╡\n",
      "│ 2022-01-01 ┆ 2022-01-01 00:00:00 │\n",
      "│ 2022-01-02 ┆ 2022-01-02 00:00:00 │\n",
      "│ 2022-01-03 ┆ 2022-01-03 00:00:00 │\n",
      "│ 2022-01-04 ┆ 2022-01-04 00:00:00 │\n",
      "│ 2022-01-05 ┆ 2022-01-05 00:00:00 │\n",
      "└────────────┴─────────────────────┘\n"
     ]
    }
   ],
   "source": [
    "from datetime import date, datetime\n",
    "\n",
    "df = pl.DataFrame(\n",
    "    {\n",
    "        \"date\": pl.date_range(date(2022, 1, 1), date(2022, 1, 5), eager=True),\n",
    "        \"datetime\": pl.datetime_range(\n",
    "            datetime(2022, 1, 1), datetime(2022, 1, 5), eager=True\n",
    "        ),\n",
    "    }\n",
    ")\n",
    "\n",
    "print(df)"
   ]
  },
  {
   "cell_type": "code",
   "execution_count": 15,
   "id": "a0bc34f2",
   "metadata": {
    "ExecuteTime": {
     "end_time": "2024-05-13T11:14:36.042254Z",
     "start_time": "2024-05-13T11:14:36.034598Z"
    }
   },
   "outputs": [
    {
     "name": "stdout",
     "output_type": "stream",
     "text": [
      "shape: (5, 2)\n",
      "┌───────┬──────────────────┐\n",
      "│ date  ┆ datetime         │\n",
      "│ ---   ┆ ---              │\n",
      "│ i64   ┆ i64              │\n",
      "╞═══════╪══════════════════╡\n",
      "│ 18993 ┆ 1640995200000000 │\n",
      "│ 18994 ┆ 1641081600000000 │\n",
      "│ 18995 ┆ 1641168000000000 │\n",
      "│ 18996 ┆ 1641254400000000 │\n",
      "│ 18997 ┆ 1641340800000000 │\n",
      "└───────┴──────────────────┘\n"
     ]
    }
   ],
   "source": [
    "out=df.select(pl.col(\"date\").cast(pl.Int64),\n",
    "              pl.col(\"datetime\").cast(pl.Int64)\n",
    "             )\n",
    "\n",
    "print(out)"
   ]
  },
  {
   "cell_type": "code",
   "execution_count": 16,
   "id": "c33924ee",
   "metadata": {
    "ExecuteTime": {
     "end_time": "2024-05-13T11:14:36.257320Z",
     "start_time": "2024-05-13T11:14:36.248254Z"
    }
   },
   "outputs": [
    {
     "data": {
      "text/plain": [
       "18981"
      ]
     },
     "execution_count": 16,
     "metadata": {},
     "output_type": "execute_result"
    }
   ],
   "source": [
    "365*(2022-1970)+1"
   ]
  },
  {
   "cell_type": "code",
   "execution_count": 17,
   "id": "14214380",
   "metadata": {
    "ExecuteTime": {
     "end_time": "2024-05-13T11:14:36.882324Z",
     "start_time": "2024-05-13T11:14:36.875788Z"
    }
   },
   "outputs": [
    {
     "name": "stdout",
     "output_type": "stream",
     "text": [
      "shape: (5, 2)\n",
      "┌────────────┬────────────┐\n",
      "│ date       ┆ string     │\n",
      "│ ---        ┆ ---        │\n",
      "│ date       ┆ str        │\n",
      "╞════════════╪════════════╡\n",
      "│ 2022-01-01 ┆ 2022-01-01 │\n",
      "│ 2022-01-02 ┆ 2022-01-02 │\n",
      "│ 2022-01-03 ┆ 2022-01-03 │\n",
      "│ 2022-01-04 ┆ 2022-01-04 │\n",
      "│ 2022-01-05 ┆ 2022-01-05 │\n",
      "└────────────┴────────────┘\n"
     ]
    }
   ],
   "source": [
    "df = pl.DataFrame(\n",
    "    {\n",
    "        \"date\": pl.date_range(date(2022, 1, 1), date(2022, 1, 5), eager=True),\n",
    "        \"string\": [\n",
    "            \"2022-01-01\",\n",
    "            \"2022-01-02\",\n",
    "            \"2022-01-03\",\n",
    "            \"2022-01-04\",\n",
    "            \"2022-01-05\",\n",
    "        ],\n",
    "    }\n",
    ")\n",
    "\n",
    "print(df)"
   ]
  },
  {
   "cell_type": "code",
   "execution_count": 18,
   "id": "04d844df",
   "metadata": {
    "ExecuteTime": {
     "end_time": "2024-05-13T11:14:37.356918Z",
     "start_time": "2024-05-13T11:14:37.348305Z"
    }
   },
   "outputs": [
    {
     "name": "stdout",
     "output_type": "stream",
     "text": [
      "shape: (5, 3)\n",
      "┌────────────┬─────────────────────┬────────────────┐\n",
      "│ date       ┆ string              ┆ string_to_data │\n",
      "│ ---        ┆ ---                 ┆ ---            │\n",
      "│ str        ┆ datetime[μs]        ┆ date           │\n",
      "╞════════════╪═════════════════════╪════════════════╡\n",
      "│ 2022-01-01 ┆ 2022-01-01 00:00:00 ┆ 2022-01-01     │\n",
      "│ 2022-01-02 ┆ 2022-01-02 00:00:00 ┆ 2022-01-02     │\n",
      "│ 2022-01-03 ┆ 2022-01-03 00:00:00 ┆ 2022-01-03     │\n",
      "│ 2022-01-04 ┆ 2022-01-04 00:00:00 ┆ 2022-01-04     │\n",
      "│ 2022-01-05 ┆ 2022-01-05 00:00:00 ┆ 2022-01-05     │\n",
      "└────────────┴─────────────────────┴────────────────┘\n"
     ]
    }
   ],
   "source": [
    "out=df.select(\n",
    "    pl.col(\"date\").dt.to_string(\"%Y-%m-%d\"),\n",
    "    pl.col(\"string\").str.to_datetime(\"%Y-%m-%d\"),\n",
    "    pl.col(\"string\").str.to_date(\"%Y-%m-%d\").alias(\"string_to_data\")\n",
    ")\n",
    "\n",
    "print(out)"
   ]
  },
  {
   "cell_type": "code",
   "execution_count": null,
   "id": "04e3c2a5",
   "metadata": {},
   "outputs": [],
   "source": []
  },
  {
   "cell_type": "code",
   "execution_count": null,
   "id": "361a1d05",
   "metadata": {},
   "outputs": [],
   "source": []
  }
 ],
 "metadata": {
  "kernelspec": {
   "display_name": "Python 3.11",
   "language": "python",
   "name": "python3.11"
  },
  "language_info": {
   "codemirror_mode": {
    "name": "ipython",
    "version": 3
   },
   "file_extension": ".py",
   "mimetype": "text/x-python",
   "name": "python",
   "nbconvert_exporter": "python",
   "pygments_lexer": "ipython3",
   "version": "3.11.9"
  },
  "toc": {
   "base_numbering": 1,
   "nav_menu": {},
   "number_sections": true,
   "sideBar": true,
   "skip_h1_title": false,
   "title_cell": "Table of Contents",
   "title_sidebar": "Contents",
   "toc_cell": false,
   "toc_position": {
    "height": "calc(100% - 180px)",
    "left": "10px",
    "top": "150px",
    "width": "175.797px"
   },
   "toc_section_display": true,
   "toc_window_display": true
  }
 },
 "nbformat": 4,
 "nbformat_minor": 5
}
