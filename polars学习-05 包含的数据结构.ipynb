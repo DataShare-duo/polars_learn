{
 "cells": [
  {
   "cell_type": "markdown",
   "id": "772b741d",
   "metadata": {},
   "source": [
    "# 小编环境"
   ]
  },
  {
   "cell_type": "code",
   "execution_count": 1,
   "id": "935427fb",
   "metadata": {
    "ExecuteTime": {
     "end_time": "2024-06-14T08:07:06.763492Z",
     "start_time": "2024-06-14T08:07:04.082680Z"
    }
   },
   "outputs": [
    {
     "name": "stdout",
     "output_type": "stream",
     "text": [
      "python 版本： 3.11.9 \n",
      "polars 版本： 0.20.22\n"
     ]
    }
   ],
   "source": [
    "import sys\n",
    "\n",
    "print('python 版本：',sys.version.split('|')[0])\n",
    "#python 版本： 3.11.9 \n",
    "\n",
    "import polars as pl\n",
    "\n",
    "print(\"polars 版本：\",pl.__version__)\n",
    "#polars 版本： 0.20.22"
   ]
  },
  {
   "cell_type": "markdown",
   "id": "ca05aa2e",
   "metadata": {},
   "source": [
    "# Series 数据列"
   ]
  },
  {
   "cell_type": "markdown",
   "id": "c52ef252",
   "metadata": {
    "ExecuteTime": {
     "end_time": "2024-06-14T08:10:43.976559Z",
     "start_time": "2024-06-14T08:10:43.971136Z"
    }
   },
   "source": [
    "Series 是一维的数据结构，其有相同的数据类型"
   ]
  },
  {
   "cell_type": "code",
   "execution_count": 3,
   "id": "1facebbd",
   "metadata": {
    "ExecuteTime": {
     "end_time": "2024-06-14T08:11:05.968960Z",
     "start_time": "2024-06-14T08:11:05.962614Z"
    }
   },
   "outputs": [
    {
     "name": "stdout",
     "output_type": "stream",
     "text": [
      "shape: (5,)\n",
      "Series: 'a' [i64]\n",
      "[\n",
      "\t1\n",
      "\t2\n",
      "\t3\n",
      "\t4\n",
      "\t5\n",
      "]\n"
     ]
    }
   ],
   "source": [
    "import polars as pl\n",
    "\n",
    "s = pl.Series(\"a\", [1, 2, 3, 4, 5])\n",
    "print(s)"
   ]
  },
  {
   "cell_type": "markdown",
   "id": "474350bc",
   "metadata": {},
   "source": [
    "## 数据列的操作"
   ]
  },
  {
   "cell_type": "code",
   "execution_count": 12,
   "id": "09f80393",
   "metadata": {
    "ExecuteTime": {
     "end_time": "2024-06-14T08:18:43.739329Z",
     "start_time": "2024-06-14T08:18:43.733303Z"
    }
   },
   "outputs": [
    {
     "name": "stdout",
     "output_type": "stream",
     "text": [
      "1\n"
     ]
    }
   ],
   "source": [
    "print(s.min())"
   ]
  },
  {
   "cell_type": "code",
   "execution_count": 13,
   "id": "66d008f9",
   "metadata": {
    "ExecuteTime": {
     "end_time": "2024-06-14T08:18:53.096066Z",
     "start_time": "2024-06-14T08:18:53.091150Z"
    }
   },
   "outputs": [
    {
     "name": "stdout",
     "output_type": "stream",
     "text": [
      "5\n"
     ]
    }
   ],
   "source": [
    "print(s.max())"
   ]
  },
  {
   "cell_type": "code",
   "execution_count": 14,
   "id": "0e9a5e67",
   "metadata": {
    "ExecuteTime": {
     "end_time": "2024-06-14T08:18:59.362531Z",
     "start_time": "2024-06-14T08:18:59.358340Z"
    }
   },
   "outputs": [
    {
     "name": "stdout",
     "output_type": "stream",
     "text": [
      "3.0\n"
     ]
    }
   ],
   "source": [
    "print(s.mean())"
   ]
  },
  {
   "cell_type": "code",
   "execution_count": 15,
   "id": "93dde66c",
   "metadata": {
    "ExecuteTime": {
     "end_time": "2024-06-14T08:19:08.851074Z",
     "start_time": "2024-06-14T08:19:08.845874Z"
    }
   },
   "outputs": [
    {
     "name": "stdout",
     "output_type": "stream",
     "text": [
      "5\n"
     ]
    }
   ],
   "source": [
    "print(s.count())"
   ]
  },
  {
   "cell_type": "markdown",
   "id": "2ee64d04",
   "metadata": {},
   "source": [
    "# DataFrame 数据框"
   ]
  },
  {
   "cell_type": "markdown",
   "id": "aa821757",
   "metadata": {},
   "source": [
    "DataFrame 是一个二维的数据结构，其是由一系列的 Series 组成"
   ]
  },
  {
   "cell_type": "code",
   "execution_count": 4,
   "id": "e401b1d3",
   "metadata": {
    "ExecuteTime": {
     "end_time": "2024-06-14T08:13:27.092315Z",
     "start_time": "2024-06-14T08:13:27.073155Z"
    }
   },
   "outputs": [
    {
     "name": "stdout",
     "output_type": "stream",
     "text": [
      "shape: (5, 3)\n",
      "┌─────────┬─────────────────────┬───────┐\n",
      "│ integer ┆ date                ┆ float │\n",
      "│ ---     ┆ ---                 ┆ ---   │\n",
      "│ i64     ┆ datetime[μs]        ┆ f64   │\n",
      "╞═════════╪═════════════════════╪═══════╡\n",
      "│ 1       ┆ 2022-01-01 00:00:00 ┆ 4.0   │\n",
      "│ 2       ┆ 2022-01-02 00:00:00 ┆ 5.0   │\n",
      "│ 3       ┆ 2022-01-03 00:00:00 ┆ 6.0   │\n",
      "│ 4       ┆ 2022-01-04 00:00:00 ┆ 7.0   │\n",
      "│ 5       ┆ 2022-01-05 00:00:00 ┆ 8.0   │\n",
      "└─────────┴─────────────────────┴───────┘\n"
     ]
    }
   ],
   "source": [
    "from datetime import datetime\n",
    "\n",
    "df = pl.DataFrame(\n",
    "    {\n",
    "        \"integer\": [1, 2, 3, 4, 5],\n",
    "        \"date\": [\n",
    "            datetime(2022, 1, 1),\n",
    "            datetime(2022, 1, 2),\n",
    "            datetime(2022, 1, 3),\n",
    "            datetime(2022, 1, 4),\n",
    "            datetime(2022, 1, 5),\n",
    "        ],\n",
    "        \"float\": [4.0, 5.0, 6.0, 7.0, 8.0],\n",
    "    }\n",
    ")\n",
    "\n",
    "print(df)"
   ]
  },
  {
   "cell_type": "markdown",
   "id": "3b8ed46b",
   "metadata": {},
   "source": [
    "## Head "
   ]
  },
  {
   "cell_type": "markdown",
   "id": "a53efbce",
   "metadata": {},
   "source": [
    "默认展示前5行数据，也可以传出要展示的行数"
   ]
  },
  {
   "cell_type": "code",
   "execution_count": 5,
   "id": "2c3b40b3",
   "metadata": {
    "ExecuteTime": {
     "end_time": "2024-06-14T08:15:34.511732Z",
     "start_time": "2024-06-14T08:15:34.505746Z"
    }
   },
   "outputs": [
    {
     "name": "stdout",
     "output_type": "stream",
     "text": [
      "shape: (5, 3)\n",
      "┌─────────┬─────────────────────┬───────┐\n",
      "│ integer ┆ date                ┆ float │\n",
      "│ ---     ┆ ---                 ┆ ---   │\n",
      "│ i64     ┆ datetime[μs]        ┆ f64   │\n",
      "╞═════════╪═════════════════════╪═══════╡\n",
      "│ 1       ┆ 2022-01-01 00:00:00 ┆ 4.0   │\n",
      "│ 2       ┆ 2022-01-02 00:00:00 ┆ 5.0   │\n",
      "│ 3       ┆ 2022-01-03 00:00:00 ┆ 6.0   │\n",
      "│ 4       ┆ 2022-01-04 00:00:00 ┆ 7.0   │\n",
      "│ 5       ┆ 2022-01-05 00:00:00 ┆ 8.0   │\n",
      "└─────────┴─────────────────────┴───────┘\n"
     ]
    }
   ],
   "source": [
    "print(df.head())"
   ]
  },
  {
   "cell_type": "code",
   "execution_count": 6,
   "id": "58316148",
   "metadata": {
    "ExecuteTime": {
     "end_time": "2024-06-14T08:15:38.862711Z",
     "start_time": "2024-06-14T08:15:38.856182Z"
    }
   },
   "outputs": [
    {
     "name": "stdout",
     "output_type": "stream",
     "text": [
      "shape: (3, 3)\n",
      "┌─────────┬─────────────────────┬───────┐\n",
      "│ integer ┆ date                ┆ float │\n",
      "│ ---     ┆ ---                 ┆ ---   │\n",
      "│ i64     ┆ datetime[μs]        ┆ f64   │\n",
      "╞═════════╪═════════════════════╪═══════╡\n",
      "│ 1       ┆ 2022-01-01 00:00:00 ┆ 4.0   │\n",
      "│ 2       ┆ 2022-01-02 00:00:00 ┆ 5.0   │\n",
      "│ 3       ┆ 2022-01-03 00:00:00 ┆ 6.0   │\n",
      "└─────────┴─────────────────────┴───────┘\n"
     ]
    }
   ],
   "source": [
    "print(df.head(3))"
   ]
  },
  {
   "cell_type": "markdown",
   "id": "07524381",
   "metadata": {},
   "source": [
    "## tail"
   ]
  },
  {
   "cell_type": "markdown",
   "id": "94cfde22",
   "metadata": {},
   "source": [
    "默认展示最后5行数据，也可以传出要展示的行数"
   ]
  },
  {
   "cell_type": "code",
   "execution_count": 7,
   "id": "b68ff510",
   "metadata": {
    "ExecuteTime": {
     "end_time": "2024-06-14T08:16:33.303568Z",
     "start_time": "2024-06-14T08:16:33.297665Z"
    }
   },
   "outputs": [
    {
     "name": "stdout",
     "output_type": "stream",
     "text": [
      "shape: (5, 3)\n",
      "┌─────────┬─────────────────────┬───────┐\n",
      "│ integer ┆ date                ┆ float │\n",
      "│ ---     ┆ ---                 ┆ ---   │\n",
      "│ i64     ┆ datetime[μs]        ┆ f64   │\n",
      "╞═════════╪═════════════════════╪═══════╡\n",
      "│ 1       ┆ 2022-01-01 00:00:00 ┆ 4.0   │\n",
      "│ 2       ┆ 2022-01-02 00:00:00 ┆ 5.0   │\n",
      "│ 3       ┆ 2022-01-03 00:00:00 ┆ 6.0   │\n",
      "│ 4       ┆ 2022-01-04 00:00:00 ┆ 7.0   │\n",
      "│ 5       ┆ 2022-01-05 00:00:00 ┆ 8.0   │\n",
      "└─────────┴─────────────────────┴───────┘\n"
     ]
    }
   ],
   "source": [
    "print(df.tail())"
   ]
  },
  {
   "cell_type": "code",
   "execution_count": 8,
   "id": "658eb0f6",
   "metadata": {
    "ExecuteTime": {
     "end_time": "2024-06-14T08:16:37.487169Z",
     "start_time": "2024-06-14T08:16:37.480780Z"
    }
   },
   "outputs": [
    {
     "name": "stdout",
     "output_type": "stream",
     "text": [
      "shape: (3, 3)\n",
      "┌─────────┬─────────────────────┬───────┐\n",
      "│ integer ┆ date                ┆ float │\n",
      "│ ---     ┆ ---                 ┆ ---   │\n",
      "│ i64     ┆ datetime[μs]        ┆ f64   │\n",
      "╞═════════╪═════════════════════╪═══════╡\n",
      "│ 3       ┆ 2022-01-03 00:00:00 ┆ 6.0   │\n",
      "│ 4       ┆ 2022-01-04 00:00:00 ┆ 7.0   │\n",
      "│ 5       ┆ 2022-01-05 00:00:00 ┆ 8.0   │\n",
      "└─────────┴─────────────────────┴───────┘\n"
     ]
    }
   ],
   "source": [
    "print(df.tail(3))"
   ]
  },
  {
   "cell_type": "markdown",
   "id": "b9d203a0",
   "metadata": {},
   "source": [
    "## Sample 随机抽样"
   ]
  },
  {
   "cell_type": "code",
   "execution_count": 9,
   "id": "58206777",
   "metadata": {
    "ExecuteTime": {
     "end_time": "2024-06-14T08:17:16.808169Z",
     "start_time": "2024-06-14T08:17:16.713807Z"
    }
   },
   "outputs": [
    {
     "name": "stdout",
     "output_type": "stream",
     "text": [
      "shape: (3, 3)\n",
      "┌─────────┬─────────────────────┬───────┐\n",
      "│ integer ┆ date                ┆ float │\n",
      "│ ---     ┆ ---                 ┆ ---   │\n",
      "│ i64     ┆ datetime[μs]        ┆ f64   │\n",
      "╞═════════╪═════════════════════╪═══════╡\n",
      "│ 5       ┆ 2022-01-05 00:00:00 ┆ 8.0   │\n",
      "│ 3       ┆ 2022-01-03 00:00:00 ┆ 6.0   │\n",
      "│ 1       ┆ 2022-01-01 00:00:00 ┆ 4.0   │\n",
      "└─────────┴─────────────────────┴───────┘\n"
     ]
    }
   ],
   "source": [
    "print(df.sample(3))"
   ]
  },
  {
   "cell_type": "markdown",
   "id": "ac716a3d",
   "metadata": {},
   "source": [
    "## Describe 数据概况"
   ]
  },
  {
   "cell_type": "code",
   "execution_count": 10,
   "id": "0f36b256",
   "metadata": {
    "ExecuteTime": {
     "end_time": "2024-06-14T08:18:03.263284Z",
     "start_time": "2024-06-14T08:18:03.244348Z"
    }
   },
   "outputs": [
    {
     "name": "stdout",
     "output_type": "stream",
     "text": [
      "shape: (9, 4)\n",
      "┌────────────┬──────────┬─────────────────────┬──────────┐\n",
      "│ statistic  ┆ integer  ┆ date                ┆ float    │\n",
      "│ ---        ┆ ---      ┆ ---                 ┆ ---      │\n",
      "│ str        ┆ f64      ┆ str                 ┆ f64      │\n",
      "╞════════════╪══════════╪═════════════════════╪══════════╡\n",
      "│ count      ┆ 5.0      ┆ 5                   ┆ 5.0      │\n",
      "│ null_count ┆ 0.0      ┆ 0                   ┆ 0.0      │\n",
      "│ mean       ┆ 3.0      ┆ 2022-01-03 00:00:00 ┆ 6.0      │\n",
      "│ std        ┆ 1.581139 ┆ null                ┆ 1.581139 │\n",
      "│ min        ┆ 1.0      ┆ 2022-01-01 00:00:00 ┆ 4.0      │\n",
      "│ 25%        ┆ 2.0      ┆ 2022-01-02 00:00:00 ┆ 5.0      │\n",
      "│ 50%        ┆ 3.0      ┆ 2022-01-03 00:00:00 ┆ 6.0      │\n",
      "│ 75%        ┆ 4.0      ┆ 2022-01-04 00:00:00 ┆ 7.0      │\n",
      "│ max        ┆ 5.0      ┆ 2022-01-05 00:00:00 ┆ 8.0      │\n",
      "└────────────┴──────────┴─────────────────────┴──────────┘\n"
     ]
    }
   ],
   "source": [
    "print(df.describe())"
   ]
  },
  {
   "cell_type": "code",
   "execution_count": null,
   "id": "24488ae2",
   "metadata": {},
   "outputs": [],
   "source": []
  }
 ],
 "metadata": {
  "kernelspec": {
   "display_name": "Python 3.11",
   "language": "python",
   "name": "python3.11"
  },
  "language_info": {
   "codemirror_mode": {
    "name": "ipython",
    "version": 3
   },
   "file_extension": ".py",
   "mimetype": "text/x-python",
   "name": "python",
   "nbconvert_exporter": "python",
   "pygments_lexer": "ipython3",
   "version": "3.11.9"
  },
  "toc": {
   "base_numbering": 1,
   "nav_menu": {},
   "number_sections": true,
   "sideBar": true,
   "skip_h1_title": false,
   "title_cell": "Table of Contents",
   "title_sidebar": "Contents",
   "toc_cell": false,
   "toc_position": {
    "height": "calc(100% - 180px)",
    "left": "10px",
    "top": "150px",
    "width": "194px"
   },
   "toc_section_display": true,
   "toc_window_display": true
  }
 },
 "nbformat": 4,
 "nbformat_minor": 5
}
