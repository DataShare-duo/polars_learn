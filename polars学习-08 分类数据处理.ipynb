{
 "cells": [
  {
   "cell_type": "markdown",
   "id": "9f1c68c2",
   "metadata": {},
   "source": [
    "# 小编环境"
   ]
  },
  {
   "cell_type": "code",
   "execution_count": 1,
   "id": "481f853b",
   "metadata": {
    "ExecuteTime": {
     "end_time": "2024-07-08T02:34:52.673111Z",
     "start_time": "2024-07-08T02:34:48.626613Z"
    }
   },
   "outputs": [
    {
     "name": "stdout",
     "output_type": "stream",
     "text": [
      "python 版本： 3.11.9 \n",
      "polars 版本： 0.20.22\n"
     ]
    }
   ],
   "source": [
    "import sys\n",
    "\n",
    "print('python 版本：',sys.version.split('|')[0])\n",
    "#python 版本： 3.11.9 \n",
    "\n",
    "import polars as pl\n",
    "\n",
    "print(\"polars 版本：\",pl.__version__)\n",
    "#polars 版本： 0.20.22"
   ]
  },
  {
   "cell_type": "markdown",
   "id": "cb5405fc",
   "metadata": {},
   "source": [
    "# 分类数据 Categorical data"
   ]
  },
  {
   "cell_type": "markdown",
   "id": "e4ca10f0",
   "metadata": {},
   "source": [
    "分类数据就是平时在数据库中能进行编码的数据，比如：性别、年龄、国家、城市、职业 等等，可以对这些数据进行编码，可以节省存储空间"
   ]
  },
  {
   "cell_type": "markdown",
   "id": "563183a8",
   "metadata": {
    "ExecuteTime": {
     "end_time": "2024-07-05T07:53:08.591592Z",
     "start_time": "2024-07-05T07:53:08.585677Z"
    }
   },
   "source": [
    "Polars 支持两种不同的数据类型来处理分类数据：`Enum` 和 `Categorical`\n",
    "- 当类别预先已知时使用 `Enum`，需要提前提供所有类别\n",
    "- 当不知道类别或类别不固定时，可以使用 `Categorical`"
   ]
  },
  {
   "cell_type": "code",
   "execution_count": 2,
   "id": "e9ffd171",
   "metadata": {
    "ExecuteTime": {
     "end_time": "2024-07-08T02:34:52.684039Z",
     "start_time": "2024-07-08T02:34:52.676107Z"
    }
   },
   "outputs": [],
   "source": [
    "enum_dtype = pl.Enum([\"Polar\", \"Panda\", \"Brown\"])\n",
    "enum_series = pl.Series(\n",
    "    [\"Polar\", \"Panda\", \"Brown\", \"Brown\", \"Polar\"], \n",
    "    dtype=enum_dtype)\n",
    "\n",
    "cat_series = pl.Series(\n",
    "    [\"Polar\", \"Panda\", \"Brown\", \"Brown\", \"Polar\"], \n",
    "    dtype=pl.Categorical\n",
    ")"
   ]
  },
  {
   "cell_type": "markdown",
   "id": "78dc8b1d",
   "metadata": {},
   "source": [
    "# Categorical"
   ]
  },
  {
   "cell_type": "markdown",
   "id": "ba49ed06",
   "metadata": {
    "ExecuteTime": {
     "end_time": "2024-07-05T09:44:53.748909Z",
     "start_time": "2024-07-05T09:44:53.607829Z"
    }
   },
   "source": [
    "`Categorical`相对比较灵活，不用提前获取所有的类别，当有新类别时，会自动进行编码"
   ]
  },
  {
   "cell_type": "markdown",
   "id": "fe4614f6",
   "metadata": {},
   "source": [
    "当对来自2个不同的 Categorical 类别列直接进行拼接时，以下这种方式会比较慢，polars 是根据字符串出现的先后顺序进行编码，不同的字符串在不同的序列里面编码可能不一样，直接合并的话全局会再进行一次编码，速度会比较慢"
   ]
  },
  {
   "cell_type": "code",
   "execution_count": 3,
   "id": "1106960e",
   "metadata": {
    "ExecuteTime": {
     "end_time": "2024-07-08T02:34:52.696181Z",
     "start_time": "2024-07-08T02:34:52.688056Z"
    }
   },
   "outputs": [
    {
     "name": "stdout",
     "output_type": "stream",
     "text": [
      "shape: (10,)\n",
      "Series: '' [cat]\n",
      "[\n",
      "\t\"Polar\"\n",
      "\t\"Panda\"\n",
      "\t\"Brown\"\n",
      "\t\"Brown\"\n",
      "\t\"Polar\"\n",
      "\t\"Panda\"\n",
      "\t\"Brown\"\n",
      "\t\"Brown\"\n",
      "\t\"Polar\"\n",
      "\t\"Polar\"\n",
      "]\n"
     ]
    },
    {
     "name": "stderr",
     "output_type": "stream",
     "text": [
      "C:\\Users\\admin\\AppData\\Local\\Temp\\ipykernel_13100\\3512107605.py:11: CategoricalRemappingWarning: Local categoricals have different encodings, expensive re-encoding is done to perform this merge operation. Consider using a StringCache or an Enum type if the categories are known in advance\n",
      "  print(cat_series.append(cat2_series))\n"
     ]
    }
   ],
   "source": [
    "cat_series = pl.Series(\n",
    "    [\"Polar\", \"Panda\", \"Brown\", \"Brown\", \"Polar\"], dtype=pl.Categorical\n",
    ")\n",
    "cat2_series = pl.Series(\n",
    "    [\"Panda\", \"Brown\", \"Brown\", \"Polar\", \"Polar\"], dtype=pl.Categorical\n",
    ")\n",
    "\n",
    "#CategoricalRemappingWarning: Local categoricals have different encodings, \n",
    "#expensive re-encoding is done to perform this merge operation. \n",
    "#Consider using a StringCache or an Enum type if the categories are known in advance\n",
    "print(cat_series.append(cat2_series))"
   ]
  },
  {
   "cell_type": "markdown",
   "id": "bd245470",
   "metadata": {},
   "source": [
    "可以使用polars提供的全局字符缓存`StringCache`，来提升数据处理效率"
   ]
  },
  {
   "cell_type": "code",
   "execution_count": 4,
   "id": "0af078ed",
   "metadata": {
    "ExecuteTime": {
     "end_time": "2024-07-08T02:34:52.707372Z",
     "start_time": "2024-07-08T02:34:52.700236Z"
    }
   },
   "outputs": [
    {
     "name": "stdout",
     "output_type": "stream",
     "text": [
      "shape: (10,)\n",
      "Series: '' [cat]\n",
      "[\n",
      "\t\"Polar\"\n",
      "\t\"Panda\"\n",
      "\t\"Brown\"\n",
      "\t\"Brown\"\n",
      "\t\"Polar\"\n",
      "\t\"Panda\"\n",
      "\t\"Brown\"\n",
      "\t\"Brown\"\n",
      "\t\"Polar\"\n",
      "\t\"Polar\"\n",
      "]\n"
     ]
    }
   ],
   "source": [
    "with pl.StringCache():\n",
    "    cat_series = pl.Series(\n",
    "        [\"Polar\", \"Panda\", \"Brown\", \"Brown\", \"Polar\"], dtype=pl.Categorical\n",
    "    )\n",
    "    cat2_series = pl.Series(\n",
    "        [\"Panda\", \"Brown\", \"Brown\", \"Polar\", \"Polar\"], dtype=pl.Categorical\n",
    "    )\n",
    "    print(cat_series.append(cat2_series))"
   ]
  },
  {
   "cell_type": "markdown",
   "id": "bc3fd691",
   "metadata": {},
   "source": [
    "# Enum"
   ]
  },
  {
   "cell_type": "markdown",
   "id": "678fefa9",
   "metadata": {
    "ExecuteTime": {
     "end_time": "2024-07-05T09:55:48.362780Z",
     "start_time": "2024-07-05T09:55:48.355256Z"
    }
   },
   "source": [
    "上面来自2个不同类型列进行拼接的耗时的情况，在`Enum`中不会存在，因为已经提前获取到了全部的类别"
   ]
  },
  {
   "cell_type": "code",
   "execution_count": 5,
   "id": "d9048b41",
   "metadata": {
    "ExecuteTime": {
     "end_time": "2024-07-08T02:34:52.718398Z",
     "start_time": "2024-07-08T02:34:52.712385Z"
    }
   },
   "outputs": [
    {
     "name": "stdout",
     "output_type": "stream",
     "text": [
      "shape: (10,)\n",
      "Series: '' [enum]\n",
      "[\n",
      "\t\"Polar\"\n",
      "\t\"Panda\"\n",
      "\t\"Brown\"\n",
      "\t\"Brown\"\n",
      "\t\"Polar\"\n",
      "\t\"Panda\"\n",
      "\t\"Brown\"\n",
      "\t\"Brown\"\n",
      "\t\"Polar\"\n",
      "\t\"Polar\"\n",
      "]\n"
     ]
    }
   ],
   "source": [
    "dtype = pl.Enum([\"Polar\", \"Panda\", \"Brown\"])\n",
    "cat_series = pl.Series([\"Polar\", \"Panda\", \"Brown\", \"Brown\", \"Polar\"], dtype=dtype)\n",
    "cat2_series = pl.Series([\"Panda\", \"Brown\", \"Brown\", \"Polar\", \"Polar\"], dtype=dtype)\n",
    "print(cat_series.append(cat2_series))"
   ]
  },
  {
   "cell_type": "markdown",
   "id": "eb517056",
   "metadata": {},
   "source": [
    "如果有编码的字符串类别，当不在提前获取的`Enum`中时，则会报错：`OutOfBounds`"
   ]
  },
  {
   "cell_type": "code",
   "execution_count": 6,
   "id": "bd6bd9d5",
   "metadata": {
    "ExecuteTime": {
     "end_time": "2024-07-08T02:34:52.730183Z",
     "start_time": "2024-07-08T02:34:52.722413Z"
    }
   },
   "outputs": [
    {
     "name": "stdout",
     "output_type": "stream",
     "text": [
      "conversion from `str` to `enum` failed in column '' for 1 out of 4 values: [\"Black\"]\n",
      "\n",
      "Ensure that all values in the input column are present in the categories of the enum datatype.\n"
     ]
    }
   ],
   "source": [
    "dtype = pl.Enum([\"Polar\", \"Panda\", \"Brown\"])\n",
    "try:\n",
    "    cat_series = pl.Series([\"Polar\", \"Panda\", \"Brown\", \"Black\"], dtype=dtype)\n",
    "except Exception as e:\n",
    "    print(e)"
   ]
  },
  {
   "cell_type": "markdown",
   "id": "19290841",
   "metadata": {},
   "source": [
    "# 比较"
   ]
  },
  {
   "cell_type": "markdown",
   "id": "43eb5414",
   "metadata": {},
   "source": [
    "- Categorical vs Categorical\n",
    "- Categorical vs String\n",
    "- Enum vs Enum\n",
    "- Enum vs String(该字符串必须要在提前获取的Enum中)"
   ]
  },
  {
   "cell_type": "markdown",
   "id": "5a7df4ea",
   "metadata": {},
   "source": [
    "## Categorical vs Categorical"
   ]
  },
  {
   "cell_type": "code",
   "execution_count": 7,
   "id": "f4d1a2ea",
   "metadata": {
    "ExecuteTime": {
     "end_time": "2024-07-08T02:34:52.740034Z",
     "start_time": "2024-07-08T02:34:52.732196Z"
    }
   },
   "outputs": [
    {
     "name": "stdout",
     "output_type": "stream",
     "text": [
      "shape: (3,)\n",
      "Series: '' [bool]\n",
      "[\n",
      "\tfalse\n",
      "\ttrue\n",
      "\tfalse\n",
      "]\n"
     ]
    }
   ],
   "source": [
    "with pl.StringCache():\n",
    "    cat_series = pl.Series([\"Brown\", \"Panda\", \"Polar\"], dtype=pl.Categorical)\n",
    "    cat_series2 = pl.Series([\"Polar\", \"Panda\", \"Black\"], dtype=pl.Categorical)\n",
    "    print(cat_series == cat_series2)"
   ]
  },
  {
   "cell_type": "markdown",
   "id": "c383a69d",
   "metadata": {
    "ExecuteTime": {
     "end_time": "2024-07-05T10:01:13.148769Z",
     "start_time": "2024-07-05T10:01:13.145015Z"
    }
   },
   "source": [
    "## Categorical vs String"
   ]
  },
  {
   "cell_type": "code",
   "execution_count": 8,
   "id": "077d4559",
   "metadata": {
    "ExecuteTime": {
     "end_time": "2024-07-08T02:34:52.749206Z",
     "start_time": "2024-07-08T02:34:52.745048Z"
    }
   },
   "outputs": [
    {
     "name": "stdout",
     "output_type": "stream",
     "text": [
      "shape: (3,)\n",
      "Series: '' [bool]\n",
      "[\n",
      "\ttrue\n",
      "\tfalse\n",
      "\tfalse\n",
      "]\n"
     ]
    }
   ],
   "source": [
    "cat_series = pl.Series([\"Brown\", \"Panda\", \"Polar\"], dtype=pl.Categorical)\n",
    "print(cat_series <= \"Cat\")"
   ]
  },
  {
   "cell_type": "code",
   "execution_count": 9,
   "id": "dd91d42f",
   "metadata": {
    "ExecuteTime": {
     "end_time": "2024-07-08T02:34:52.761192Z",
     "start_time": "2024-07-08T02:34:52.753217Z"
    }
   },
   "outputs": [
    {
     "name": "stdout",
     "output_type": "stream",
     "text": [
      "shape: (3,)\n",
      "Series: '' [bool]\n",
      "[\n",
      "\ttrue\n",
      "\ttrue\n",
      "\tfalse\n",
      "]\n"
     ]
    }
   ],
   "source": [
    "cat_series = pl.Series([\"Brown\", \"Panda\", \"Polar\"], dtype=pl.Categorical)\n",
    "cat_series_utf = pl.Series([\"Panda\", \"Panda\", \"A Polar\"])\n",
    "print(cat_series <= cat_series_utf)"
   ]
  },
  {
   "cell_type": "markdown",
   "id": "6df678b1",
   "metadata": {},
   "source": [
    "## Enum vs Enum"
   ]
  },
  {
   "cell_type": "code",
   "execution_count": 10,
   "id": "9b663d8b",
   "metadata": {
    "ExecuteTime": {
     "end_time": "2024-07-08T02:34:52.772613Z",
     "start_time": "2024-07-08T02:34:52.764245Z"
    }
   },
   "outputs": [
    {
     "name": "stdout",
     "output_type": "stream",
     "text": [
      "shape: (3,)\n",
      "Series: '' [bool]\n",
      "[\n",
      "\tfalse\n",
      "\ttrue\n",
      "\tfalse\n",
      "]\n"
     ]
    }
   ],
   "source": [
    "dtype = pl.Enum([\"Polar\", \"Panda\", \"Brown\"])\n",
    "cat_series = pl.Series([\"Brown\", \"Panda\", \"Polar\"], dtype=dtype)\n",
    "cat_series2 = pl.Series([\"Polar\", \"Panda\", \"Brown\"], dtype=dtype)\n",
    "print(cat_series == cat_series2)"
   ]
  },
  {
   "cell_type": "markdown",
   "id": "587a6c1d",
   "metadata": {},
   "source": [
    "## Enum vs String(该字符串必须要在提前获取的Enum中)"
   ]
  },
  {
   "cell_type": "code",
   "execution_count": 11,
   "id": "71d864a1",
   "metadata": {
    "ExecuteTime": {
     "end_time": "2024-07-08T02:34:52.782267Z",
     "start_time": "2024-07-08T02:34:52.776623Z"
    }
   },
   "outputs": [
    {
     "name": "stdout",
     "output_type": "stream",
     "text": [
      "conversion from `str` to `enum` failed in column '' for 1 out of 1 values: [\"Excellent\"]\n",
      "\n",
      "Ensure that all values in the input column are present in the categories of the enum datatype.\n"
     ]
    }
   ],
   "source": [
    "try:\n",
    "    cat_series = pl.Series(\n",
    "        [\"Low\", \"Medium\", \"High\"], dtype=pl.Enum([\"Low\", \"Medium\", \"High\"])\n",
    "    )\n",
    "    cat_series <= \"Excellent\"\n",
    "except Exception as e:\n",
    "    print(e)"
   ]
  },
  {
   "cell_type": "code",
   "execution_count": 12,
   "id": "96932415",
   "metadata": {
    "ExecuteTime": {
     "end_time": "2024-07-08T02:34:52.791855Z",
     "start_time": "2024-07-08T02:34:52.785280Z"
    }
   },
   "outputs": [
    {
     "name": "stdout",
     "output_type": "stream",
     "text": [
      "shape: (3,)\n",
      "Series: '' [bool]\n",
      "[\n",
      "\ttrue\n",
      "\ttrue\n",
      "\tfalse\n",
      "]\n"
     ]
    }
   ],
   "source": [
    "dtype = pl.Enum([\"Low\", \"Medium\", \"High\"])\n",
    "cat_series = pl.Series([\"Low\", \"Medium\", \"High\"], dtype=dtype)\n",
    "print(cat_series <= \"Medium\")"
   ]
  },
  {
   "cell_type": "code",
   "execution_count": 13,
   "id": "53dac67f",
   "metadata": {
    "ExecuteTime": {
     "end_time": "2024-07-08T02:34:52.802647Z",
     "start_time": "2024-07-08T02:34:52.794874Z"
    }
   },
   "outputs": [
    {
     "name": "stdout",
     "output_type": "stream",
     "text": [
      "shape: (3,)\n",
      "Series: '' [bool]\n",
      "[\n",
      "\ttrue\n",
      "\ttrue\n",
      "\tfalse\n",
      "]\n"
     ]
    }
   ],
   "source": [
    "dtype = pl.Enum([\"Low\", \"Medium\", \"High\"])\n",
    "cat_series = pl.Series([\"Low\", \"Medium\", \"High\"], dtype=dtype)\n",
    "cat_series2 = pl.Series([\"High\", \"High\", \"Low\"])\n",
    "print(cat_series <= cat_series2)"
   ]
  },
  {
   "cell_type": "code",
   "execution_count": null,
   "id": "0160d03f",
   "metadata": {},
   "outputs": [],
   "source": []
  }
 ],
 "metadata": {
  "kernelspec": {
   "display_name": "Python 3.11",
   "language": "python",
   "name": "python3.11"
  },
  "language_info": {
   "codemirror_mode": {
    "name": "ipython",
    "version": 3
   },
   "file_extension": ".py",
   "mimetype": "text/x-python",
   "name": "python",
   "nbconvert_exporter": "python",
   "pygments_lexer": "ipython3",
   "version": "3.11.9"
  },
  "toc": {
   "base_numbering": 1,
   "nav_menu": {},
   "number_sections": true,
   "sideBar": true,
   "skip_h1_title": false,
   "title_cell": "Table of Contents",
   "title_sidebar": "Contents",
   "toc_cell": false,
   "toc_position": {
    "height": "calc(100% - 180px)",
    "left": "10px",
    "top": "150px",
    "width": "192.594px"
   },
   "toc_section_display": true,
   "toc_window_display": true
  }
 },
 "nbformat": 4,
 "nbformat_minor": 5
}
