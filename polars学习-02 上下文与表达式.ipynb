{
 "cells": [
  {
   "cell_type": "markdown",
   "id": "268e8b70",
   "metadata": {},
   "source": [
    ">Polars has developed its own Domain Specific Language (DSL) for transforming data. \\\n",
    "The language is very easy to use and allows for complex queries that remain human readable. \\\n",
    "The two core components of the language are Contexts and Expressions\n"
   ]
  },
  {
   "cell_type": "markdown",
   "id": "096ec828",
   "metadata": {
    "ExecuteTime": {
     "end_time": "2024-04-28T02:01:22.865797Z",
     "start_time": "2024-04-28T02:01:22.758796Z"
    }
   },
   "source": [
    "Polars 开发了自己的特定领域语言 (DSL)，用于转换数据。\\\n",
    "该语言非常容易使用，允许进行复杂的查询，但仍保持人类可读性。\\\n",
    "该语言的两个核心组成部分是上下文和表达式"
   ]
  },
  {
   "cell_type": "markdown",
   "id": "97dd40c2",
   "metadata": {},
   "source": [
    "Polars 自己设计了一套用于处理数据的功能。\\\n",
    "该功能易于使用，而且能以易理解的方式进行复杂的数据处理。\\\n",
    "上下文与表达式是该功能的两个核心组成部分。"
   ]
  },
  {
   "cell_type": "markdown",
   "id": "a458113f",
   "metadata": {},
   "source": [
    "# 上下文与表达式概述"
   ]
  },
  {
   "cell_type": "markdown",
   "id": "52e60710",
   "metadata": {
    "ExecuteTime": {
     "end_time": "2024-04-28T01:43:35.968507Z",
     "start_time": "2024-04-28T01:43:35.958439Z"
    }
   },
   "source": [
    "## Contexts 上下文"
   ]
  },
  {
   "cell_type": "markdown",
   "id": "93c55843",
   "metadata": {
    "ExecuteTime": {
     "end_time": "2024-04-28T01:43:35.968507Z",
     "start_time": "2024-04-28T01:43:35.958439Z"
    }
   },
   "source": [
    "顾名思义，上下文是指需要计算表达式的上下文\n",
    "\n",
    "- 选择：df.select(...)，df.with_columns(...)\n",
    "- 过滤：df.filter()\n",
    "- 分组聚合：df.group_by(...).agg(...)"
   ]
  },
  {
   "cell_type": "markdown",
   "id": "6c980d82",
   "metadata": {},
   "source": [
    "## Expressions  表达式"
   ]
  },
  {
   "cell_type": "markdown",
   "id": "c2336dca",
   "metadata": {
    "ExecuteTime": {
     "end_time": "2024-04-28T02:20:11.703860Z",
     "start_time": "2024-04-28T02:20:11.697725Z"
    }
   },
   "source": [
    "表达式是许多数据科学运算的核心：\n",
    "\n",
    "- 选取特定的列\n",
    "- 从一列中抽取特定的行\n",
    "- 将一列与值相乘\n",
    "- 从一个日期列中，提取年份\n",
    "- 将一列字符串转换为小写\n",
    "- ......"
   ]
  },
  {
   "cell_type": "markdown",
   "id": "53172272",
   "metadata": {
    "ExecuteTime": {
     "end_time": "2024-04-28T02:27:17.725210Z",
     "start_time": "2024-04-28T02:27:17.718048Z"
    }
   },
   "source": [
    "**在Polars中，需要Contexts 上下文 与 Expressions 表达式，结合使用**"
   ]
  },
  {
   "cell_type": "markdown",
   "id": "d786cfbd",
   "metadata": {
    "ExecuteTime": {
     "end_time": "2024-04-28T02:29:08.062355Z",
     "start_time": "2024-04-28T02:29:08.058206Z"
    }
   },
   "source": [
    "# 运行环境"
   ]
  },
  {
   "cell_type": "code",
   "execution_count": 1,
   "id": "36fed809",
   "metadata": {
    "ExecuteTime": {
     "end_time": "2024-04-29T07:52:29.798829Z",
     "start_time": "2024-04-29T07:52:29.788119Z"
    }
   },
   "outputs": [
    {
     "name": "stdout",
     "output_type": "stream",
     "text": [
      "python 版本： 3.11.5 \n"
     ]
    }
   ],
   "source": [
    "import sys\n",
    "\n",
    "print('python 版本：',sys.version.split('|')[0])"
   ]
  },
  {
   "cell_type": "code",
   "execution_count": 2,
   "id": "5f73a06f",
   "metadata": {
    "ExecuteTime": {
     "end_time": "2024-04-29T07:52:30.151217Z",
     "start_time": "2024-04-29T07:52:29.800840Z"
    }
   },
   "outputs": [
    {
     "name": "stdout",
     "output_type": "stream",
     "text": [
      "polars 版本： 0.20.22\n"
     ]
    }
   ],
   "source": [
    "import polars as pl\n",
    "\n",
    "print(\"polars 版本：\",pl.__version__)"
   ]
  },
  {
   "cell_type": "markdown",
   "id": "bb8fd569",
   "metadata": {
    "ExecuteTime": {
     "end_time": "2024-04-28T02:29:08.062355Z",
     "start_time": "2024-04-28T02:29:08.058206Z"
    }
   },
   "source": [
    "# 演示数据"
   ]
  },
  {
   "cell_type": "code",
   "execution_count": 3,
   "id": "c44ca3e6",
   "metadata": {
    "ExecuteTime": {
     "end_time": "2024-04-29T07:52:30.183341Z",
     "start_time": "2024-04-29T07:52:30.153267Z"
    }
   },
   "outputs": [],
   "source": [
    "df=pl.read_csv('./data/iris.csv')"
   ]
  },
  {
   "cell_type": "code",
   "execution_count": 4,
   "id": "d642ea37",
   "metadata": {
    "ExecuteTime": {
     "end_time": "2024-04-29T07:52:30.199606Z",
     "start_time": "2024-04-29T07:52:30.186358Z"
    }
   },
   "outputs": [
    {
     "data": {
      "text/html": [
       "<div><style>\n",
       ".dataframe > thead > tr,\n",
       ".dataframe > tbody > tr {\n",
       "  text-align: right;\n",
       "  white-space: pre-wrap;\n",
       "}\n",
       "</style>\n",
       "<small>shape: (10, 6)</small><table border=\"1\" class=\"dataframe\"><thead><tr><th>index</th><th>Sepal.Length</th><th>Sepal.Width</th><th>Petal.Length</th><th>Petal.Width</th><th>Species</th></tr><tr><td>i64</td><td>f64</td><td>f64</td><td>f64</td><td>f64</td><td>str</td></tr></thead><tbody><tr><td>1</td><td>5.1</td><td>3.5</td><td>1.4</td><td>0.2</td><td>&quot;setosa&quot;</td></tr><tr><td>2</td><td>4.9</td><td>3.0</td><td>1.4</td><td>0.2</td><td>&quot;setosa&quot;</td></tr><tr><td>3</td><td>4.7</td><td>3.2</td><td>1.3</td><td>0.2</td><td>&quot;setosa&quot;</td></tr><tr><td>4</td><td>4.6</td><td>3.1</td><td>1.5</td><td>0.2</td><td>&quot;setosa&quot;</td></tr><tr><td>5</td><td>5.0</td><td>3.6</td><td>1.4</td><td>0.2</td><td>&quot;setosa&quot;</td></tr><tr><td>6</td><td>5.4</td><td>3.9</td><td>1.7</td><td>0.4</td><td>&quot;setosa&quot;</td></tr><tr><td>7</td><td>4.6</td><td>3.4</td><td>1.4</td><td>0.3</td><td>&quot;setosa&quot;</td></tr><tr><td>8</td><td>5.0</td><td>3.4</td><td>1.5</td><td>0.2</td><td>&quot;setosa&quot;</td></tr><tr><td>9</td><td>4.4</td><td>2.9</td><td>1.4</td><td>0.2</td><td>&quot;setosa&quot;</td></tr><tr><td>10</td><td>4.9</td><td>3.1</td><td>1.5</td><td>0.1</td><td>&quot;setosa&quot;</td></tr></tbody></table></div>"
      ],
      "text/plain": [
       "shape: (10, 6)\n",
       "┌───────┬──────────────┬─────────────┬──────────────┬─────────────┬─────────┐\n",
       "│ index ┆ Sepal.Length ┆ Sepal.Width ┆ Petal.Length ┆ Petal.Width ┆ Species │\n",
       "│ ---   ┆ ---          ┆ ---         ┆ ---          ┆ ---         ┆ ---     │\n",
       "│ i64   ┆ f64          ┆ f64         ┆ f64          ┆ f64         ┆ str     │\n",
       "╞═══════╪══════════════╪═════════════╪══════════════╪═════════════╪═════════╡\n",
       "│ 1     ┆ 5.1          ┆ 3.5         ┆ 1.4          ┆ 0.2         ┆ setosa  │\n",
       "│ 2     ┆ 4.9          ┆ 3.0         ┆ 1.4          ┆ 0.2         ┆ setosa  │\n",
       "│ 3     ┆ 4.7          ┆ 3.2         ┆ 1.3          ┆ 0.2         ┆ setosa  │\n",
       "│ 4     ┆ 4.6          ┆ 3.1         ┆ 1.5          ┆ 0.2         ┆ setosa  │\n",
       "│ 5     ┆ 5.0          ┆ 3.6         ┆ 1.4          ┆ 0.2         ┆ setosa  │\n",
       "│ 6     ┆ 5.4          ┆ 3.9         ┆ 1.7          ┆ 0.4         ┆ setosa  │\n",
       "│ 7     ┆ 4.6          ┆ 3.4         ┆ 1.4          ┆ 0.3         ┆ setosa  │\n",
       "│ 8     ┆ 5.0          ┆ 3.4         ┆ 1.5          ┆ 0.2         ┆ setosa  │\n",
       "│ 9     ┆ 4.4          ┆ 2.9         ┆ 1.4          ┆ 0.2         ┆ setosa  │\n",
       "│ 10    ┆ 4.9          ┆ 3.1         ┆ 1.5          ┆ 0.1         ┆ setosa  │\n",
       "└───────┴──────────────┴─────────────┴──────────────┴─────────────┴─────────┘"
      ]
     },
     "execution_count": 4,
     "metadata": {},
     "output_type": "execute_result"
    }
   ],
   "source": [
    "df.head(10)"
   ]
  },
  {
   "cell_type": "code",
   "execution_count": 5,
   "id": "25a97ae3",
   "metadata": {
    "ExecuteTime": {
     "end_time": "2024-04-29T07:52:30.211560Z",
     "start_time": "2024-04-29T07:52:30.201619Z"
    }
   },
   "outputs": [
    {
     "name": "stdout",
     "output_type": "stream",
     "text": [
      "shape: (10, 6)\n",
      "┌───────┬──────────────┬─────────────┬──────────────┬─────────────┬─────────┐\n",
      "│ index ┆ Sepal.Length ┆ Sepal.Width ┆ Petal.Length ┆ Petal.Width ┆ Species │\n",
      "│ ---   ┆ ---          ┆ ---         ┆ ---          ┆ ---         ┆ ---     │\n",
      "│ i64   ┆ f64          ┆ f64         ┆ f64          ┆ f64         ┆ str     │\n",
      "╞═══════╪══════════════╪═════════════╪══════════════╪═════════════╪═════════╡\n",
      "│ 1     ┆ 5.1          ┆ 3.5         ┆ 1.4          ┆ 0.2         ┆ setosa  │\n",
      "│ 2     ┆ 4.9          ┆ 3.0         ┆ 1.4          ┆ 0.2         ┆ setosa  │\n",
      "│ 3     ┆ 4.7          ┆ 3.2         ┆ 1.3          ┆ 0.2         ┆ setosa  │\n",
      "│ 4     ┆ 4.6          ┆ 3.1         ┆ 1.5          ┆ 0.2         ┆ setosa  │\n",
      "│ 5     ┆ 5.0          ┆ 3.6         ┆ 1.4          ┆ 0.2         ┆ setosa  │\n",
      "│ 6     ┆ 5.4          ┆ 3.9         ┆ 1.7          ┆ 0.4         ┆ setosa  │\n",
      "│ 7     ┆ 4.6          ┆ 3.4         ┆ 1.4          ┆ 0.3         ┆ setosa  │\n",
      "│ 8     ┆ 5.0          ┆ 3.4         ┆ 1.5          ┆ 0.2         ┆ setosa  │\n",
      "│ 9     ┆ 4.4          ┆ 2.9         ┆ 1.4          ┆ 0.2         ┆ setosa  │\n",
      "│ 10    ┆ 4.9          ┆ 3.1         ┆ 1.5          ┆ 0.1         ┆ setosa  │\n",
      "└───────┴──────────────┴─────────────┴──────────────┴─────────────┴─────────┘\n"
     ]
    }
   ],
   "source": [
    "print(df.head(10))   #注意字符串 str 列类型与上面的区别"
   ]
  },
  {
   "cell_type": "code",
   "execution_count": 6,
   "id": "5d9f19fd",
   "metadata": {
    "ExecuteTime": {
     "end_time": "2024-04-29T07:52:30.218520Z",
     "start_time": "2024-04-29T07:52:30.213595Z"
    }
   },
   "outputs": [
    {
     "data": {
      "text/plain": [
       "(150, 6)"
      ]
     },
     "execution_count": 6,
     "metadata": {},
     "output_type": "execute_result"
    }
   ],
   "source": [
    "df.shape"
   ]
  },
  {
   "cell_type": "markdown",
   "id": "d33f9dcc",
   "metadata": {},
   "source": [
    "# 选取需要的列"
   ]
  },
  {
   "cell_type": "code",
   "execution_count": 7,
   "id": "56b6d776",
   "metadata": {
    "ExecuteTime": {
     "end_time": "2024-04-29T07:52:30.229779Z",
     "start_time": "2024-04-29T07:52:30.221532Z"
    }
   },
   "outputs": [
    {
     "data": {
      "text/html": [
       "<div><style>\n",
       ".dataframe > thead > tr,\n",
       ".dataframe > tbody > tr {\n",
       "  text-align: right;\n",
       "  white-space: pre-wrap;\n",
       "}\n",
       "</style>\n",
       "<small>shape: (150, 1)</small><table border=\"1\" class=\"dataframe\"><thead><tr><th>Sepal.Length</th></tr><tr><td>f64</td></tr></thead><tbody><tr><td>5.1</td></tr><tr><td>4.9</td></tr><tr><td>4.7</td></tr><tr><td>4.6</td></tr><tr><td>5.0</td></tr><tr><td>&hellip;</td></tr><tr><td>6.7</td></tr><tr><td>6.3</td></tr><tr><td>6.5</td></tr><tr><td>6.2</td></tr><tr><td>5.9</td></tr></tbody></table></div>"
      ],
      "text/plain": [
       "shape: (150, 1)\n",
       "┌──────────────┐\n",
       "│ Sepal.Length │\n",
       "│ ---          │\n",
       "│ f64          │\n",
       "╞══════════════╡\n",
       "│ 5.1          │\n",
       "│ 4.9          │\n",
       "│ 4.7          │\n",
       "│ 4.6          │\n",
       "│ 5.0          │\n",
       "│ …            │\n",
       "│ 6.7          │\n",
       "│ 6.3          │\n",
       "│ 6.5          │\n",
       "│ 6.2          │\n",
       "│ 5.9          │\n",
       "└──────────────┘"
      ]
     },
     "execution_count": 7,
     "metadata": {},
     "output_type": "execute_result"
    }
   ],
   "source": [
    "df.select(pl.col(\"Sepal.Length\"))  #选取特定的列"
   ]
  },
  {
   "cell_type": "code",
   "execution_count": 8,
   "id": "3807b8ba",
   "metadata": {
    "ExecuteTime": {
     "end_time": "2024-04-29T07:52:30.243830Z",
     "start_time": "2024-04-29T07:52:30.231792Z"
    }
   },
   "outputs": [
    {
     "data": {
      "text/html": [
       "<div><style>\n",
       ".dataframe > thead > tr,\n",
       ".dataframe > tbody > tr {\n",
       "  text-align: right;\n",
       "  white-space: pre-wrap;\n",
       "}\n",
       "</style>\n",
       "<small>shape: (150, 2)</small><table border=\"1\" class=\"dataframe\"><thead><tr><th>Sepal.Length</th><th>Petal.Length</th></tr><tr><td>f64</td><td>f64</td></tr></thead><tbody><tr><td>5.1</td><td>1.4</td></tr><tr><td>4.9</td><td>1.4</td></tr><tr><td>4.7</td><td>1.3</td></tr><tr><td>4.6</td><td>1.5</td></tr><tr><td>5.0</td><td>1.4</td></tr><tr><td>&hellip;</td><td>&hellip;</td></tr><tr><td>6.7</td><td>5.2</td></tr><tr><td>6.3</td><td>5.0</td></tr><tr><td>6.5</td><td>5.2</td></tr><tr><td>6.2</td><td>5.4</td></tr><tr><td>5.9</td><td>5.1</td></tr></tbody></table></div>"
      ],
      "text/plain": [
       "shape: (150, 2)\n",
       "┌──────────────┬──────────────┐\n",
       "│ Sepal.Length ┆ Petal.Length │\n",
       "│ ---          ┆ ---          │\n",
       "│ f64          ┆ f64          │\n",
       "╞══════════════╪══════════════╡\n",
       "│ 5.1          ┆ 1.4          │\n",
       "│ 4.9          ┆ 1.4          │\n",
       "│ 4.7          ┆ 1.3          │\n",
       "│ 4.6          ┆ 1.5          │\n",
       "│ 5.0          ┆ 1.4          │\n",
       "│ …            ┆ …            │\n",
       "│ 6.7          ┆ 5.2          │\n",
       "│ 6.3          ┆ 5.0          │\n",
       "│ 6.5          ┆ 5.2          │\n",
       "│ 6.2          ┆ 5.4          │\n",
       "│ 5.9          ┆ 5.1          │\n",
       "└──────────────┴──────────────┘"
      ]
     },
     "execution_count": 8,
     "metadata": {},
     "output_type": "execute_result"
    }
   ],
   "source": [
    "df.select(pl.col(\"Sepal.Length\",\"Petal.Length\"))"
   ]
  },
  {
   "cell_type": "code",
   "execution_count": 9,
   "id": "e9fb2f3d",
   "metadata": {
    "ExecuteTime": {
     "end_time": "2024-04-29T07:52:30.257866Z",
     "start_time": "2024-04-29T07:52:30.245846Z"
    }
   },
   "outputs": [
    {
     "data": {
      "text/html": [
       "<div><style>\n",
       ".dataframe > thead > tr,\n",
       ".dataframe > tbody > tr {\n",
       "  text-align: right;\n",
       "  white-space: pre-wrap;\n",
       "}\n",
       "</style>\n",
       "<small>shape: (150, 6)</small><table border=\"1\" class=\"dataframe\"><thead><tr><th>index</th><th>Sepal.Length</th><th>Sepal.Width</th><th>Petal.Length</th><th>Petal.Width</th><th>Species</th></tr><tr><td>i64</td><td>f64</td><td>f64</td><td>f64</td><td>f64</td><td>str</td></tr></thead><tbody><tr><td>1</td><td>5.1</td><td>3.5</td><td>1.4</td><td>0.2</td><td>&quot;setosa&quot;</td></tr><tr><td>2</td><td>4.9</td><td>3.0</td><td>1.4</td><td>0.2</td><td>&quot;setosa&quot;</td></tr><tr><td>3</td><td>4.7</td><td>3.2</td><td>1.3</td><td>0.2</td><td>&quot;setosa&quot;</td></tr><tr><td>4</td><td>4.6</td><td>3.1</td><td>1.5</td><td>0.2</td><td>&quot;setosa&quot;</td></tr><tr><td>5</td><td>5.0</td><td>3.6</td><td>1.4</td><td>0.2</td><td>&quot;setosa&quot;</td></tr><tr><td>&hellip;</td><td>&hellip;</td><td>&hellip;</td><td>&hellip;</td><td>&hellip;</td><td>&hellip;</td></tr><tr><td>146</td><td>6.7</td><td>3.0</td><td>5.2</td><td>2.3</td><td>&quot;virginica&quot;</td></tr><tr><td>147</td><td>6.3</td><td>2.5</td><td>5.0</td><td>1.9</td><td>&quot;virginica&quot;</td></tr><tr><td>148</td><td>6.5</td><td>3.0</td><td>5.2</td><td>2.0</td><td>&quot;virginica&quot;</td></tr><tr><td>149</td><td>6.2</td><td>3.4</td><td>5.4</td><td>2.3</td><td>&quot;virginica&quot;</td></tr><tr><td>150</td><td>5.9</td><td>3.0</td><td>5.1</td><td>1.8</td><td>&quot;virginica&quot;</td></tr></tbody></table></div>"
      ],
      "text/plain": [
       "shape: (150, 6)\n",
       "┌───────┬──────────────┬─────────────┬──────────────┬─────────────┬───────────┐\n",
       "│ index ┆ Sepal.Length ┆ Sepal.Width ┆ Petal.Length ┆ Petal.Width ┆ Species   │\n",
       "│ ---   ┆ ---          ┆ ---         ┆ ---          ┆ ---         ┆ ---       │\n",
       "│ i64   ┆ f64          ┆ f64         ┆ f64          ┆ f64         ┆ str       │\n",
       "╞═══════╪══════════════╪═════════════╪══════════════╪═════════════╪═══════════╡\n",
       "│ 1     ┆ 5.1          ┆ 3.5         ┆ 1.4          ┆ 0.2         ┆ setosa    │\n",
       "│ 2     ┆ 4.9          ┆ 3.0         ┆ 1.4          ┆ 0.2         ┆ setosa    │\n",
       "│ 3     ┆ 4.7          ┆ 3.2         ┆ 1.3          ┆ 0.2         ┆ setosa    │\n",
       "│ 4     ┆ 4.6          ┆ 3.1         ┆ 1.5          ┆ 0.2         ┆ setosa    │\n",
       "│ 5     ┆ 5.0          ┆ 3.6         ┆ 1.4          ┆ 0.2         ┆ setosa    │\n",
       "│ …     ┆ …            ┆ …           ┆ …            ┆ …           ┆ …         │\n",
       "│ 146   ┆ 6.7          ┆ 3.0         ┆ 5.2          ┆ 2.3         ┆ virginica │\n",
       "│ 147   ┆ 6.3          ┆ 2.5         ┆ 5.0          ┆ 1.9         ┆ virginica │\n",
       "│ 148   ┆ 6.5          ┆ 3.0         ┆ 5.2          ┆ 2.0         ┆ virginica │\n",
       "│ 149   ┆ 6.2          ┆ 3.4         ┆ 5.4          ┆ 2.3         ┆ virginica │\n",
       "│ 150   ┆ 5.9          ┆ 3.0         ┆ 5.1          ┆ 1.8         ┆ virginica │\n",
       "└───────┴──────────────┴─────────────┴──────────────┴─────────────┴───────────┘"
      ]
     },
     "execution_count": 9,
     "metadata": {},
     "output_type": "execute_result"
    }
   ],
   "source": [
    "df.select(pl.col(\"*\"))  #选取所有列"
   ]
  },
  {
   "cell_type": "code",
   "execution_count": 10,
   "id": "8bf0ba8c",
   "metadata": {
    "ExecuteTime": {
     "end_time": "2024-04-29T07:52:30.278141Z",
     "start_time": "2024-04-29T07:52:30.262879Z"
    }
   },
   "outputs": [
    {
     "data": {
      "text/html": [
       "<div><style>\n",
       ".dataframe > thead > tr,\n",
       ".dataframe > tbody > tr {\n",
       "  text-align: right;\n",
       "  white-space: pre-wrap;\n",
       "}\n",
       "</style>\n",
       "<small>shape: (150, 6)</small><table border=\"1\" class=\"dataframe\"><thead><tr><th>index</th><th>Sepal.Length</th><th>Sepal.Width</th><th>Petal.Length</th><th>Petal.Width</th><th>Species</th></tr><tr><td>i64</td><td>f64</td><td>f64</td><td>f64</td><td>f64</td><td>str</td></tr></thead><tbody><tr><td>1</td><td>5.1</td><td>3.5</td><td>1.4</td><td>0.2</td><td>&quot;setosa&quot;</td></tr><tr><td>2</td><td>4.9</td><td>3.0</td><td>1.4</td><td>0.2</td><td>&quot;setosa&quot;</td></tr><tr><td>3</td><td>4.7</td><td>3.2</td><td>1.3</td><td>0.2</td><td>&quot;setosa&quot;</td></tr><tr><td>4</td><td>4.6</td><td>3.1</td><td>1.5</td><td>0.2</td><td>&quot;setosa&quot;</td></tr><tr><td>5</td><td>5.0</td><td>3.6</td><td>1.4</td><td>0.2</td><td>&quot;setosa&quot;</td></tr><tr><td>&hellip;</td><td>&hellip;</td><td>&hellip;</td><td>&hellip;</td><td>&hellip;</td><td>&hellip;</td></tr><tr><td>146</td><td>6.7</td><td>3.0</td><td>5.2</td><td>2.3</td><td>&quot;virginica&quot;</td></tr><tr><td>147</td><td>6.3</td><td>2.5</td><td>5.0</td><td>1.9</td><td>&quot;virginica&quot;</td></tr><tr><td>148</td><td>6.5</td><td>3.0</td><td>5.2</td><td>2.0</td><td>&quot;virginica&quot;</td></tr><tr><td>149</td><td>6.2</td><td>3.4</td><td>5.4</td><td>2.3</td><td>&quot;virginica&quot;</td></tr><tr><td>150</td><td>5.9</td><td>3.0</td><td>5.1</td><td>1.8</td><td>&quot;virginica&quot;</td></tr></tbody></table></div>"
      ],
      "text/plain": [
       "shape: (150, 6)\n",
       "┌───────┬──────────────┬─────────────┬──────────────┬─────────────┬───────────┐\n",
       "│ index ┆ Sepal.Length ┆ Sepal.Width ┆ Petal.Length ┆ Petal.Width ┆ Species   │\n",
       "│ ---   ┆ ---          ┆ ---         ┆ ---          ┆ ---         ┆ ---       │\n",
       "│ i64   ┆ f64          ┆ f64         ┆ f64          ┆ f64         ┆ str       │\n",
       "╞═══════╪══════════════╪═════════════╪══════════════╪═════════════╪═══════════╡\n",
       "│ 1     ┆ 5.1          ┆ 3.5         ┆ 1.4          ┆ 0.2         ┆ setosa    │\n",
       "│ 2     ┆ 4.9          ┆ 3.0         ┆ 1.4          ┆ 0.2         ┆ setosa    │\n",
       "│ 3     ┆ 4.7          ┆ 3.2         ┆ 1.3          ┆ 0.2         ┆ setosa    │\n",
       "│ 4     ┆ 4.6          ┆ 3.1         ┆ 1.5          ┆ 0.2         ┆ setosa    │\n",
       "│ 5     ┆ 5.0          ┆ 3.6         ┆ 1.4          ┆ 0.2         ┆ setosa    │\n",
       "│ …     ┆ …            ┆ …           ┆ …            ┆ …           ┆ …         │\n",
       "│ 146   ┆ 6.7          ┆ 3.0         ┆ 5.2          ┆ 2.3         ┆ virginica │\n",
       "│ 147   ┆ 6.3          ┆ 2.5         ┆ 5.0          ┆ 1.9         ┆ virginica │\n",
       "│ 148   ┆ 6.5          ┆ 3.0         ┆ 5.2          ┆ 2.0         ┆ virginica │\n",
       "│ 149   ┆ 6.2          ┆ 3.4         ┆ 5.4          ┆ 2.3         ┆ virginica │\n",
       "│ 150   ┆ 5.9          ┆ 3.0         ┆ 5.1          ┆ 1.8         ┆ virginica │\n",
       "└───────┴──────────────┴─────────────┴──────────────┴─────────────┴───────────┘"
      ]
     },
     "execution_count": 10,
     "metadata": {},
     "output_type": "execute_result"
    }
   ],
   "source": [
    "df.select(pl.all())  #选取所有列"
   ]
  },
  {
   "cell_type": "code",
   "execution_count": 11,
   "id": "8d1d1cf1",
   "metadata": {
    "ExecuteTime": {
     "end_time": "2024-04-29T07:52:30.297272Z",
     "start_time": "2024-04-29T07:52:30.281167Z"
    }
   },
   "outputs": [
    {
     "data": {
      "text/html": [
       "<div><style>\n",
       ".dataframe > thead > tr,\n",
       ".dataframe > tbody > tr {\n",
       "  text-align: right;\n",
       "  white-space: pre-wrap;\n",
       "}\n",
       "</style>\n",
       "<small>shape: (150, 4)</small><table border=\"1\" class=\"dataframe\"><thead><tr><th>Sepal.Length</th><th>Sepal.Width</th><th>Petal.Length</th><th>Petal.Width</th></tr><tr><td>f64</td><td>f64</td><td>f64</td><td>f64</td></tr></thead><tbody><tr><td>5.1</td><td>3.5</td><td>1.4</td><td>0.2</td></tr><tr><td>4.9</td><td>3.0</td><td>1.4</td><td>0.2</td></tr><tr><td>4.7</td><td>3.2</td><td>1.3</td><td>0.2</td></tr><tr><td>4.6</td><td>3.1</td><td>1.5</td><td>0.2</td></tr><tr><td>5.0</td><td>3.6</td><td>1.4</td><td>0.2</td></tr><tr><td>&hellip;</td><td>&hellip;</td><td>&hellip;</td><td>&hellip;</td></tr><tr><td>6.7</td><td>3.0</td><td>5.2</td><td>2.3</td></tr><tr><td>6.3</td><td>2.5</td><td>5.0</td><td>1.9</td></tr><tr><td>6.5</td><td>3.0</td><td>5.2</td><td>2.0</td></tr><tr><td>6.2</td><td>3.4</td><td>5.4</td><td>2.3</td></tr><tr><td>5.9</td><td>3.0</td><td>5.1</td><td>1.8</td></tr></tbody></table></div>"
      ],
      "text/plain": [
       "shape: (150, 4)\n",
       "┌──────────────┬─────────────┬──────────────┬─────────────┐\n",
       "│ Sepal.Length ┆ Sepal.Width ┆ Petal.Length ┆ Petal.Width │\n",
       "│ ---          ┆ ---         ┆ ---          ┆ ---         │\n",
       "│ f64          ┆ f64         ┆ f64          ┆ f64         │\n",
       "╞══════════════╪═════════════╪══════════════╪═════════════╡\n",
       "│ 5.1          ┆ 3.5         ┆ 1.4          ┆ 0.2         │\n",
       "│ 4.9          ┆ 3.0         ┆ 1.4          ┆ 0.2         │\n",
       "│ 4.7          ┆ 3.2         ┆ 1.3          ┆ 0.2         │\n",
       "│ 4.6          ┆ 3.1         ┆ 1.5          ┆ 0.2         │\n",
       "│ 5.0          ┆ 3.6         ┆ 1.4          ┆ 0.2         │\n",
       "│ …            ┆ …           ┆ …            ┆ …           │\n",
       "│ 6.7          ┆ 3.0         ┆ 5.2          ┆ 2.3         │\n",
       "│ 6.3          ┆ 2.5         ┆ 5.0          ┆ 1.9         │\n",
       "│ 6.5          ┆ 3.0         ┆ 5.2          ┆ 2.0         │\n",
       "│ 6.2          ┆ 3.4         ┆ 5.4          ┆ 2.3         │\n",
       "│ 5.9          ┆ 3.0         ┆ 5.1          ┆ 1.8         │\n",
       "└──────────────┴─────────────┴──────────────┴─────────────┘"
      ]
     },
     "execution_count": 11,
     "metadata": {},
     "output_type": "execute_result"
    }
   ],
   "source": [
    "df.select(pl.col(\"*\").exclude(\"index\", \"Species\"))  #选取列时，排除特定列"
   ]
  },
  {
   "cell_type": "code",
   "execution_count": 12,
   "id": "1b860736",
   "metadata": {
    "ExecuteTime": {
     "end_time": "2024-04-29T07:52:30.312271Z",
     "start_time": "2024-04-29T07:52:30.301288Z"
    }
   },
   "outputs": [
    {
     "data": {
      "text/html": [
       "<div><style>\n",
       ".dataframe > thead > tr,\n",
       ".dataframe > tbody > tr {\n",
       "  text-align: right;\n",
       "  white-space: pre-wrap;\n",
       "}\n",
       "</style>\n",
       "<small>shape: (150, 2)</small><table border=\"1\" class=\"dataframe\"><thead><tr><th>Sepal.Length</th><th>Petal.Length</th></tr><tr><td>f64</td><td>f64</td></tr></thead><tbody><tr><td>5.1</td><td>1.4</td></tr><tr><td>4.9</td><td>1.4</td></tr><tr><td>4.7</td><td>1.3</td></tr><tr><td>4.6</td><td>1.5</td></tr><tr><td>5.0</td><td>1.4</td></tr><tr><td>&hellip;</td><td>&hellip;</td></tr><tr><td>6.7</td><td>5.2</td></tr><tr><td>6.3</td><td>5.0</td></tr><tr><td>6.5</td><td>5.2</td></tr><tr><td>6.2</td><td>5.4</td></tr><tr><td>5.9</td><td>5.1</td></tr></tbody></table></div>"
      ],
      "text/plain": [
       "shape: (150, 2)\n",
       "┌──────────────┬──────────────┐\n",
       "│ Sepal.Length ┆ Petal.Length │\n",
       "│ ---          ┆ ---          │\n",
       "│ f64          ┆ f64          │\n",
       "╞══════════════╪══════════════╡\n",
       "│ 5.1          ┆ 1.4          │\n",
       "│ 4.9          ┆ 1.4          │\n",
       "│ 4.7          ┆ 1.3          │\n",
       "│ 4.6          ┆ 1.5          │\n",
       "│ 5.0          ┆ 1.4          │\n",
       "│ …            ┆ …            │\n",
       "│ 6.7          ┆ 5.2          │\n",
       "│ 6.3          ┆ 5.0          │\n",
       "│ 6.5          ┆ 5.2          │\n",
       "│ 6.2          ┆ 5.4          │\n",
       "│ 5.9          ┆ 5.1          │\n",
       "└──────────────┴──────────────┘"
      ]
     },
     "execution_count": 12,
     "metadata": {},
     "output_type": "execute_result"
    }
   ],
   "source": [
    "df.select(pl.col(\"^.*Length$\"))  #支持正则表达式，需要以 ^ 开始 $ 结尾"
   ]
  },
  {
   "cell_type": "code",
   "execution_count": 13,
   "id": "965b4547",
   "metadata": {
    "ExecuteTime": {
     "end_time": "2024-04-29T07:52:30.328264Z",
     "start_time": "2024-04-29T07:52:30.315286Z"
    }
   },
   "outputs": [
    {
     "data": {
      "text/html": [
       "<div><style>\n",
       ".dataframe > thead > tr,\n",
       ".dataframe > tbody > tr {\n",
       "  text-align: right;\n",
       "  white-space: pre-wrap;\n",
       "}\n",
       "</style>\n",
       "<small>shape: (150, 4)</small><table border=\"1\" class=\"dataframe\"><thead><tr><th>Sepal.Length</th><th>Sepal.Width</th><th>Petal.Length</th><th>Petal.Width</th></tr><tr><td>f64</td><td>f64</td><td>f64</td><td>f64</td></tr></thead><tbody><tr><td>5.1</td><td>3.5</td><td>1.4</td><td>0.2</td></tr><tr><td>4.9</td><td>3.0</td><td>1.4</td><td>0.2</td></tr><tr><td>4.7</td><td>3.2</td><td>1.3</td><td>0.2</td></tr><tr><td>4.6</td><td>3.1</td><td>1.5</td><td>0.2</td></tr><tr><td>5.0</td><td>3.6</td><td>1.4</td><td>0.2</td></tr><tr><td>&hellip;</td><td>&hellip;</td><td>&hellip;</td><td>&hellip;</td></tr><tr><td>6.7</td><td>3.0</td><td>5.2</td><td>2.3</td></tr><tr><td>6.3</td><td>2.5</td><td>5.0</td><td>1.9</td></tr><tr><td>6.5</td><td>3.0</td><td>5.2</td><td>2.0</td></tr><tr><td>6.2</td><td>3.4</td><td>5.4</td><td>2.3</td></tr><tr><td>5.9</td><td>3.0</td><td>5.1</td><td>1.8</td></tr></tbody></table></div>"
      ],
      "text/plain": [
       "shape: (150, 4)\n",
       "┌──────────────┬─────────────┬──────────────┬─────────────┐\n",
       "│ Sepal.Length ┆ Sepal.Width ┆ Petal.Length ┆ Petal.Width │\n",
       "│ ---          ┆ ---         ┆ ---          ┆ ---         │\n",
       "│ f64          ┆ f64         ┆ f64          ┆ f64         │\n",
       "╞══════════════╪═════════════╪══════════════╪═════════════╡\n",
       "│ 5.1          ┆ 3.5         ┆ 1.4          ┆ 0.2         │\n",
       "│ 4.9          ┆ 3.0         ┆ 1.4          ┆ 0.2         │\n",
       "│ 4.7          ┆ 3.2         ┆ 1.3          ┆ 0.2         │\n",
       "│ 4.6          ┆ 3.1         ┆ 1.5          ┆ 0.2         │\n",
       "│ 5.0          ┆ 3.6         ┆ 1.4          ┆ 0.2         │\n",
       "│ …            ┆ …           ┆ …            ┆ …           │\n",
       "│ 6.7          ┆ 3.0         ┆ 5.2          ┆ 2.3         │\n",
       "│ 6.3          ┆ 2.5         ┆ 5.0          ┆ 1.9         │\n",
       "│ 6.5          ┆ 3.0         ┆ 5.2          ┆ 2.0         │\n",
       "│ 6.2          ┆ 3.4         ┆ 5.4          ┆ 2.3         │\n",
       "│ 5.9          ┆ 3.0         ┆ 5.1          ┆ 1.8         │\n",
       "└──────────────┴─────────────┴──────────────┴─────────────┘"
      ]
     },
     "execution_count": 13,
     "metadata": {},
     "output_type": "execute_result"
    }
   ],
   "source": [
    "df.select(pl.col(pl.Float64))  #根据列的类型，进行选取"
   ]
  },
  {
   "cell_type": "markdown",
   "id": "bc06d9f4",
   "metadata": {
    "ExecuteTime": {
     "end_time": "2024-04-28T02:33:26.457445Z",
     "start_time": "2024-04-28T02:33:26.453540Z"
    }
   },
   "source": [
    "# 过滤出需要的行"
   ]
  },
  {
   "cell_type": "code",
   "execution_count": 14,
   "id": "5243dc5a",
   "metadata": {
    "ExecuteTime": {
     "end_time": "2024-04-29T07:52:30.341538Z",
     "start_time": "2024-04-29T07:52:30.331277Z"
    }
   },
   "outputs": [
    {
     "data": {
      "text/html": [
       "<div><style>\n",
       ".dataframe > thead > tr,\n",
       ".dataframe > tbody > tr {\n",
       "  text-align: right;\n",
       "  white-space: pre-wrap;\n",
       "}\n",
       "</style>\n",
       "<small>shape: (118, 6)</small><table border=\"1\" class=\"dataframe\"><thead><tr><th>index</th><th>Sepal.Length</th><th>Sepal.Width</th><th>Petal.Length</th><th>Petal.Width</th><th>Species</th></tr><tr><td>i64</td><td>f64</td><td>f64</td><td>f64</td><td>f64</td><td>str</td></tr></thead><tbody><tr><td>1</td><td>5.1</td><td>3.5</td><td>1.4</td><td>0.2</td><td>&quot;setosa&quot;</td></tr><tr><td>6</td><td>5.4</td><td>3.9</td><td>1.7</td><td>0.4</td><td>&quot;setosa&quot;</td></tr><tr><td>11</td><td>5.4</td><td>3.7</td><td>1.5</td><td>0.2</td><td>&quot;setosa&quot;</td></tr><tr><td>15</td><td>5.8</td><td>4.0</td><td>1.2</td><td>0.2</td><td>&quot;setosa&quot;</td></tr><tr><td>16</td><td>5.7</td><td>4.4</td><td>1.5</td><td>0.4</td><td>&quot;setosa&quot;</td></tr><tr><td>&hellip;</td><td>&hellip;</td><td>&hellip;</td><td>&hellip;</td><td>&hellip;</td><td>&hellip;</td></tr><tr><td>146</td><td>6.7</td><td>3.0</td><td>5.2</td><td>2.3</td><td>&quot;virginica&quot;</td></tr><tr><td>147</td><td>6.3</td><td>2.5</td><td>5.0</td><td>1.9</td><td>&quot;virginica&quot;</td></tr><tr><td>148</td><td>6.5</td><td>3.0</td><td>5.2</td><td>2.0</td><td>&quot;virginica&quot;</td></tr><tr><td>149</td><td>6.2</td><td>3.4</td><td>5.4</td><td>2.3</td><td>&quot;virginica&quot;</td></tr><tr><td>150</td><td>5.9</td><td>3.0</td><td>5.1</td><td>1.8</td><td>&quot;virginica&quot;</td></tr></tbody></table></div>"
      ],
      "text/plain": [
       "shape: (118, 6)\n",
       "┌───────┬──────────────┬─────────────┬──────────────┬─────────────┬───────────┐\n",
       "│ index ┆ Sepal.Length ┆ Sepal.Width ┆ Petal.Length ┆ Petal.Width ┆ Species   │\n",
       "│ ---   ┆ ---          ┆ ---         ┆ ---          ┆ ---         ┆ ---       │\n",
       "│ i64   ┆ f64          ┆ f64         ┆ f64          ┆ f64         ┆ str       │\n",
       "╞═══════╪══════════════╪═════════════╪══════════════╪═════════════╪═══════════╡\n",
       "│ 1     ┆ 5.1          ┆ 3.5         ┆ 1.4          ┆ 0.2         ┆ setosa    │\n",
       "│ 6     ┆ 5.4          ┆ 3.9         ┆ 1.7          ┆ 0.4         ┆ setosa    │\n",
       "│ 11    ┆ 5.4          ┆ 3.7         ┆ 1.5          ┆ 0.2         ┆ setosa    │\n",
       "│ 15    ┆ 5.8          ┆ 4.0         ┆ 1.2          ┆ 0.2         ┆ setosa    │\n",
       "│ 16    ┆ 5.7          ┆ 4.4         ┆ 1.5          ┆ 0.4         ┆ setosa    │\n",
       "│ …     ┆ …            ┆ …           ┆ …            ┆ …           ┆ …         │\n",
       "│ 146   ┆ 6.7          ┆ 3.0         ┆ 5.2          ┆ 2.3         ┆ virginica │\n",
       "│ 147   ┆ 6.3          ┆ 2.5         ┆ 5.0          ┆ 1.9         ┆ virginica │\n",
       "│ 148   ┆ 6.5          ┆ 3.0         ┆ 5.2          ┆ 2.0         ┆ virginica │\n",
       "│ 149   ┆ 6.2          ┆ 3.4         ┆ 5.4          ┆ 2.3         ┆ virginica │\n",
       "│ 150   ┆ 5.9          ┆ 3.0         ┆ 5.1          ┆ 1.8         ┆ virginica │\n",
       "└───────┴──────────────┴─────────────┴──────────────┴─────────────┴───────────┘"
      ]
     },
     "execution_count": 14,
     "metadata": {},
     "output_type": "execute_result"
    }
   ],
   "source": [
    "df.filter(pl.col(\"Sepal.Length\")>5)  "
   ]
  },
  {
   "cell_type": "code",
   "execution_count": 15,
   "id": "7acf6182",
   "metadata": {
    "ExecuteTime": {
     "end_time": "2024-04-29T07:52:30.356431Z",
     "start_time": "2024-04-29T07:52:30.343551Z"
    }
   },
   "outputs": [
    {
     "data": {
      "text/html": [
       "<div><style>\n",
       ".dataframe > thead > tr,\n",
       ".dataframe > tbody > tr {\n",
       "  text-align: right;\n",
       "  white-space: pre-wrap;\n",
       "}\n",
       "</style>\n",
       "<small>shape: (42, 6)</small><table border=\"1\" class=\"dataframe\"><thead><tr><th>index</th><th>Sepal.Length</th><th>Sepal.Width</th><th>Petal.Length</th><th>Petal.Width</th><th>Species</th></tr><tr><td>i64</td><td>f64</td><td>f64</td><td>f64</td><td>f64</td><td>str</td></tr></thead><tbody><tr><td>84</td><td>6.0</td><td>2.7</td><td>5.1</td><td>1.6</td><td>&quot;versicolor&quot;</td></tr><tr><td>101</td><td>6.3</td><td>3.3</td><td>6.0</td><td>2.5</td><td>&quot;virginica&quot;</td></tr><tr><td>102</td><td>5.8</td><td>2.7</td><td>5.1</td><td>1.9</td><td>&quot;virginica&quot;</td></tr><tr><td>103</td><td>7.1</td><td>3.0</td><td>5.9</td><td>2.1</td><td>&quot;virginica&quot;</td></tr><tr><td>104</td><td>6.3</td><td>2.9</td><td>5.6</td><td>1.8</td><td>&quot;virginica&quot;</td></tr><tr><td>&hellip;</td><td>&hellip;</td><td>&hellip;</td><td>&hellip;</td><td>&hellip;</td><td>&hellip;</td></tr><tr><td>145</td><td>6.7</td><td>3.3</td><td>5.7</td><td>2.5</td><td>&quot;virginica&quot;</td></tr><tr><td>146</td><td>6.7</td><td>3.0</td><td>5.2</td><td>2.3</td><td>&quot;virginica&quot;</td></tr><tr><td>148</td><td>6.5</td><td>3.0</td><td>5.2</td><td>2.0</td><td>&quot;virginica&quot;</td></tr><tr><td>149</td><td>6.2</td><td>3.4</td><td>5.4</td><td>2.3</td><td>&quot;virginica&quot;</td></tr><tr><td>150</td><td>5.9</td><td>3.0</td><td>5.1</td><td>1.8</td><td>&quot;virginica&quot;</td></tr></tbody></table></div>"
      ],
      "text/plain": [
       "shape: (42, 6)\n",
       "┌───────┬──────────────┬─────────────┬──────────────┬─────────────┬────────────┐\n",
       "│ index ┆ Sepal.Length ┆ Sepal.Width ┆ Petal.Length ┆ Petal.Width ┆ Species    │\n",
       "│ ---   ┆ ---          ┆ ---         ┆ ---          ┆ ---         ┆ ---        │\n",
       "│ i64   ┆ f64          ┆ f64         ┆ f64          ┆ f64         ┆ str        │\n",
       "╞═══════╪══════════════╪═════════════╪══════════════╪═════════════╪════════════╡\n",
       "│ 84    ┆ 6.0          ┆ 2.7         ┆ 5.1          ┆ 1.6         ┆ versicolor │\n",
       "│ 101   ┆ 6.3          ┆ 3.3         ┆ 6.0          ┆ 2.5         ┆ virginica  │\n",
       "│ 102   ┆ 5.8          ┆ 2.7         ┆ 5.1          ┆ 1.9         ┆ virginica  │\n",
       "│ 103   ┆ 7.1          ┆ 3.0         ┆ 5.9          ┆ 2.1         ┆ virginica  │\n",
       "│ 104   ┆ 6.3          ┆ 2.9         ┆ 5.6          ┆ 1.8         ┆ virginica  │\n",
       "│ …     ┆ …            ┆ …           ┆ …            ┆ …           ┆ …          │\n",
       "│ 145   ┆ 6.7          ┆ 3.3         ┆ 5.7          ┆ 2.5         ┆ virginica  │\n",
       "│ 146   ┆ 6.7          ┆ 3.0         ┆ 5.2          ┆ 2.3         ┆ virginica  │\n",
       "│ 148   ┆ 6.5          ┆ 3.0         ┆ 5.2          ┆ 2.0         ┆ virginica  │\n",
       "│ 149   ┆ 6.2          ┆ 3.4         ┆ 5.4          ┆ 2.3         ┆ virginica  │\n",
       "│ 150   ┆ 5.9          ┆ 3.0         ┆ 5.1          ┆ 1.8         ┆ virginica  │\n",
       "└───────┴──────────────┴─────────────┴──────────────┴─────────────┴────────────┘"
      ]
     },
     "execution_count": 15,
     "metadata": {},
     "output_type": "execute_result"
    }
   ],
   "source": [
    "df.filter((pl.col(\"Sepal.Length\")>5) & (pl.col(\"Petal.Length\")>5))  #需要把2个条件分别括起来！！！"
   ]
  },
  {
   "cell_type": "code",
   "execution_count": 16,
   "id": "2e6d0746",
   "metadata": {
    "ExecuteTime": {
     "end_time": "2024-04-29T07:52:30.370877Z",
     "start_time": "2024-04-29T07:52:30.359450Z"
    }
   },
   "outputs": [
    {
     "data": {
      "text/html": [
       "<div><style>\n",
       ".dataframe > thead > tr,\n",
       ".dataframe > tbody > tr {\n",
       "  text-align: right;\n",
       "  white-space: pre-wrap;\n",
       "}\n",
       "</style>\n",
       "<small>shape: (118, 6)</small><table border=\"1\" class=\"dataframe\"><thead><tr><th>index</th><th>Sepal.Length</th><th>Sepal.Width</th><th>Petal.Length</th><th>Petal.Width</th><th>Species</th></tr><tr><td>i64</td><td>f64</td><td>f64</td><td>f64</td><td>f64</td><td>str</td></tr></thead><tbody><tr><td>1</td><td>5.1</td><td>3.5</td><td>1.4</td><td>0.2</td><td>&quot;setosa&quot;</td></tr><tr><td>6</td><td>5.4</td><td>3.9</td><td>1.7</td><td>0.4</td><td>&quot;setosa&quot;</td></tr><tr><td>11</td><td>5.4</td><td>3.7</td><td>1.5</td><td>0.2</td><td>&quot;setosa&quot;</td></tr><tr><td>15</td><td>5.8</td><td>4.0</td><td>1.2</td><td>0.2</td><td>&quot;setosa&quot;</td></tr><tr><td>16</td><td>5.7</td><td>4.4</td><td>1.5</td><td>0.4</td><td>&quot;setosa&quot;</td></tr><tr><td>&hellip;</td><td>&hellip;</td><td>&hellip;</td><td>&hellip;</td><td>&hellip;</td><td>&hellip;</td></tr><tr><td>146</td><td>6.7</td><td>3.0</td><td>5.2</td><td>2.3</td><td>&quot;virginica&quot;</td></tr><tr><td>147</td><td>6.3</td><td>2.5</td><td>5.0</td><td>1.9</td><td>&quot;virginica&quot;</td></tr><tr><td>148</td><td>6.5</td><td>3.0</td><td>5.2</td><td>2.0</td><td>&quot;virginica&quot;</td></tr><tr><td>149</td><td>6.2</td><td>3.4</td><td>5.4</td><td>2.3</td><td>&quot;virginica&quot;</td></tr><tr><td>150</td><td>5.9</td><td>3.0</td><td>5.1</td><td>1.8</td><td>&quot;virginica&quot;</td></tr></tbody></table></div>"
      ],
      "text/plain": [
       "shape: (118, 6)\n",
       "┌───────┬──────────────┬─────────────┬──────────────┬─────────────┬───────────┐\n",
       "│ index ┆ Sepal.Length ┆ Sepal.Width ┆ Petal.Length ┆ Petal.Width ┆ Species   │\n",
       "│ ---   ┆ ---          ┆ ---         ┆ ---          ┆ ---         ┆ ---       │\n",
       "│ i64   ┆ f64          ┆ f64         ┆ f64          ┆ f64         ┆ str       │\n",
       "╞═══════╪══════════════╪═════════════╪══════════════╪═════════════╪═══════════╡\n",
       "│ 1     ┆ 5.1          ┆ 3.5         ┆ 1.4          ┆ 0.2         ┆ setosa    │\n",
       "│ 6     ┆ 5.4          ┆ 3.9         ┆ 1.7          ┆ 0.4         ┆ setosa    │\n",
       "│ 11    ┆ 5.4          ┆ 3.7         ┆ 1.5          ┆ 0.2         ┆ setosa    │\n",
       "│ 15    ┆ 5.8          ┆ 4.0         ┆ 1.2          ┆ 0.2         ┆ setosa    │\n",
       "│ 16    ┆ 5.7          ┆ 4.4         ┆ 1.5          ┆ 0.4         ┆ setosa    │\n",
       "│ …     ┆ …            ┆ …           ┆ …            ┆ …           ┆ …         │\n",
       "│ 146   ┆ 6.7          ┆ 3.0         ┆ 5.2          ┆ 2.3         ┆ virginica │\n",
       "│ 147   ┆ 6.3          ┆ 2.5         ┆ 5.0          ┆ 1.9         ┆ virginica │\n",
       "│ 148   ┆ 6.5          ┆ 3.0         ┆ 5.2          ┆ 2.0         ┆ virginica │\n",
       "│ 149   ┆ 6.2          ┆ 3.4         ┆ 5.4          ┆ 2.3         ┆ virginica │\n",
       "│ 150   ┆ 5.9          ┆ 3.0         ┆ 5.1          ┆ 1.8         ┆ virginica │\n",
       "└───────┴──────────────┴─────────────┴──────────────┴─────────────┴───────────┘"
      ]
     },
     "execution_count": 16,
     "metadata": {},
     "output_type": "execute_result"
    }
   ],
   "source": [
    "df.filter((pl.col(\"Sepal.Length\")>5) | (pl.col(\"Petal.Length\")>5))"
   ]
  },
  {
   "cell_type": "code",
   "execution_count": 17,
   "id": "990ff1c9",
   "metadata": {
    "ExecuteTime": {
     "end_time": "2024-04-29T07:52:30.381182Z",
     "start_time": "2024-04-29T07:52:30.372888Z"
    }
   },
   "outputs": [
    {
     "data": {
      "text/html": [
       "<div><style>\n",
       ".dataframe > thead > tr,\n",
       ".dataframe > tbody > tr {\n",
       "  text-align: right;\n",
       "  white-space: pre-wrap;\n",
       "}\n",
       "</style>\n",
       "<small>shape: (118, 2)</small><table border=\"1\" class=\"dataframe\"><thead><tr><th>Sepal.Width</th><th>Petal.Width</th></tr><tr><td>f64</td><td>f64</td></tr></thead><tbody><tr><td>3.5</td><td>0.2</td></tr><tr><td>3.9</td><td>0.4</td></tr><tr><td>3.7</td><td>0.2</td></tr><tr><td>4.0</td><td>0.2</td></tr><tr><td>4.4</td><td>0.4</td></tr><tr><td>&hellip;</td><td>&hellip;</td></tr><tr><td>3.0</td><td>2.3</td></tr><tr><td>2.5</td><td>1.9</td></tr><tr><td>3.0</td><td>2.0</td></tr><tr><td>3.4</td><td>2.3</td></tr><tr><td>3.0</td><td>1.8</td></tr></tbody></table></div>"
      ],
      "text/plain": [
       "shape: (118, 2)\n",
       "┌─────────────┬─────────────┐\n",
       "│ Sepal.Width ┆ Petal.Width │\n",
       "│ ---         ┆ ---         │\n",
       "│ f64         ┆ f64         │\n",
       "╞═════════════╪═════════════╡\n",
       "│ 3.5         ┆ 0.2         │\n",
       "│ 3.9         ┆ 0.4         │\n",
       "│ 3.7         ┆ 0.2         │\n",
       "│ 4.0         ┆ 0.2         │\n",
       "│ 4.4         ┆ 0.4         │\n",
       "│ …           ┆ …           │\n",
       "│ 3.0         ┆ 2.3         │\n",
       "│ 2.5         ┆ 1.9         │\n",
       "│ 3.0         ┆ 2.0         │\n",
       "│ 3.4         ┆ 2.3         │\n",
       "│ 3.0         ┆ 1.8         │\n",
       "└─────────────┴─────────────┘"
      ]
     },
     "execution_count": 17,
     "metadata": {},
     "output_type": "execute_result"
    }
   ],
   "source": [
    "df.select(pl.col(\"Sepal.Width\",\"Petal.Width\").filter(pl.col(\"Sepal.Length\")>5))  #根据过滤条件，选取特定列"
   ]
  },
  {
   "cell_type": "markdown",
   "id": "9bb417ca",
   "metadata": {},
   "source": [
    "# 增加新列"
   ]
  },
  {
   "cell_type": "code",
   "execution_count": 18,
   "id": "4668cf91",
   "metadata": {
    "ExecuteTime": {
     "end_time": "2024-04-29T07:52:30.415094Z",
     "start_time": "2024-04-29T07:52:30.383193Z"
    }
   },
   "outputs": [
    {
     "data": {
      "text/html": [
       "<div><style>\n",
       ".dataframe > thead > tr,\n",
       ".dataframe > tbody > tr {\n",
       "  text-align: right;\n",
       "  white-space: pre-wrap;\n",
       "}\n",
       "</style>\n",
       "<small>shape: (150, 8)</small><table border=\"1\" class=\"dataframe\"><thead><tr><th>index</th><th>Sepal.Length</th><th>Sepal.Width</th><th>Petal.Length</th><th>Petal.Width</th><th>Species</th><th>literal</th><th>lit_5</th></tr><tr><td>i64</td><td>f64</td><td>f64</td><td>f64</td><td>f64</td><td>str</td><td>i32</td><td>i32</td></tr></thead><tbody><tr><td>1</td><td>5.1</td><td>3.5</td><td>1.4</td><td>0.2</td><td>&quot;setosa&quot;</td><td>10</td><td>2</td></tr><tr><td>2</td><td>4.9</td><td>3.0</td><td>1.4</td><td>0.2</td><td>&quot;setosa&quot;</td><td>10</td><td>2</td></tr><tr><td>3</td><td>4.7</td><td>3.2</td><td>1.3</td><td>0.2</td><td>&quot;setosa&quot;</td><td>10</td><td>2</td></tr><tr><td>4</td><td>4.6</td><td>3.1</td><td>1.5</td><td>0.2</td><td>&quot;setosa&quot;</td><td>10</td><td>2</td></tr><tr><td>5</td><td>5.0</td><td>3.6</td><td>1.4</td><td>0.2</td><td>&quot;setosa&quot;</td><td>10</td><td>2</td></tr><tr><td>&hellip;</td><td>&hellip;</td><td>&hellip;</td><td>&hellip;</td><td>&hellip;</td><td>&hellip;</td><td>&hellip;</td><td>&hellip;</td></tr><tr><td>146</td><td>6.7</td><td>3.0</td><td>5.2</td><td>2.3</td><td>&quot;virginica&quot;</td><td>10</td><td>2</td></tr><tr><td>147</td><td>6.3</td><td>2.5</td><td>5.0</td><td>1.9</td><td>&quot;virginica&quot;</td><td>10</td><td>2</td></tr><tr><td>148</td><td>6.5</td><td>3.0</td><td>5.2</td><td>2.0</td><td>&quot;virginica&quot;</td><td>10</td><td>2</td></tr><tr><td>149</td><td>6.2</td><td>3.4</td><td>5.4</td><td>2.3</td><td>&quot;virginica&quot;</td><td>10</td><td>2</td></tr><tr><td>150</td><td>5.9</td><td>3.0</td><td>5.1</td><td>1.8</td><td>&quot;virginica&quot;</td><td>10</td><td>2</td></tr></tbody></table></div>"
      ],
      "text/plain": [
       "shape: (150, 8)\n",
       "┌───────┬──────────────┬─────────────┬──────────────┬─────────────┬───────────┬─────────┬───────┐\n",
       "│ index ┆ Sepal.Length ┆ Sepal.Width ┆ Petal.Length ┆ Petal.Width ┆ Species   ┆ literal ┆ lit_5 │\n",
       "│ ---   ┆ ---          ┆ ---         ┆ ---          ┆ ---         ┆ ---       ┆ ---     ┆ ---   │\n",
       "│ i64   ┆ f64          ┆ f64         ┆ f64          ┆ f64         ┆ str       ┆ i32     ┆ i32   │\n",
       "╞═══════╪══════════════╪═════════════╪══════════════╪═════════════╪═══════════╪═════════╪═══════╡\n",
       "│ 1     ┆ 5.1          ┆ 3.5         ┆ 1.4          ┆ 0.2         ┆ setosa    ┆ 10      ┆ 2     │\n",
       "│ 2     ┆ 4.9          ┆ 3.0         ┆ 1.4          ┆ 0.2         ┆ setosa    ┆ 10      ┆ 2     │\n",
       "│ 3     ┆ 4.7          ┆ 3.2         ┆ 1.3          ┆ 0.2         ┆ setosa    ┆ 10      ┆ 2     │\n",
       "│ 4     ┆ 4.6          ┆ 3.1         ┆ 1.5          ┆ 0.2         ┆ setosa    ┆ 10      ┆ 2     │\n",
       "│ 5     ┆ 5.0          ┆ 3.6         ┆ 1.4          ┆ 0.2         ┆ setosa    ┆ 10      ┆ 2     │\n",
       "│ …     ┆ …            ┆ …           ┆ …            ┆ …           ┆ …         ┆ …       ┆ …     │\n",
       "│ 146   ┆ 6.7          ┆ 3.0         ┆ 5.2          ┆ 2.3         ┆ virginica ┆ 10      ┆ 2     │\n",
       "│ 147   ┆ 6.3          ┆ 2.5         ┆ 5.0          ┆ 1.9         ┆ virginica ┆ 10      ┆ 2     │\n",
       "│ 148   ┆ 6.5          ┆ 3.0         ┆ 5.2          ┆ 2.0         ┆ virginica ┆ 10      ┆ 2     │\n",
       "│ 149   ┆ 6.2          ┆ 3.4         ┆ 5.4          ┆ 2.3         ┆ virginica ┆ 10      ┆ 2     │\n",
       "│ 150   ┆ 5.9          ┆ 3.0         ┆ 5.1          ┆ 1.8         ┆ virginica ┆ 10      ┆ 2     │\n",
       "└───────┴──────────────┴─────────────┴──────────────┴─────────────┴───────────┴─────────┴───────┘"
      ]
     },
     "execution_count": 18,
     "metadata": {},
     "output_type": "execute_result"
    }
   ],
   "source": [
    "df.with_columns(pl.lit(10),pl.lit(2).alias(\"lit_5\"))  #增加常数列，并设置别名"
   ]
  },
  {
   "cell_type": "code",
   "execution_count": 19,
   "id": "e2ac0bbe",
   "metadata": {
    "ExecuteTime": {
     "end_time": "2024-04-29T07:52:30.431206Z",
     "start_time": "2024-04-29T07:52:30.417106Z"
    }
   },
   "outputs": [
    {
     "data": {
      "text/html": [
       "<div><style>\n",
       ".dataframe > thead > tr,\n",
       ".dataframe > tbody > tr {\n",
       "  text-align: right;\n",
       "  white-space: pre-wrap;\n",
       "}\n",
       "</style>\n",
       "<small>shape: (150, 10)</small><table border=\"1\" class=\"dataframe\"><thead><tr><th>index</th><th>Sepal.Length</th><th>Sepal.Width</th><th>Petal.Length</th><th>Petal.Width</th><th>Species</th><th>max_Sepal.Length</th><th>min_Sepal.Length</th><th>avg_Sepal.Length</th><th>std_Sepal.Length</th></tr><tr><td>i64</td><td>f64</td><td>f64</td><td>f64</td><td>f64</td><td>str</td><td>f64</td><td>f64</td><td>f64</td><td>f64</td></tr></thead><tbody><tr><td>1</td><td>5.1</td><td>3.5</td><td>1.4</td><td>0.2</td><td>&quot;setosa&quot;</td><td>7.9</td><td>4.3</td><td>5.843333</td><td>0.828066</td></tr><tr><td>2</td><td>4.9</td><td>3.0</td><td>1.4</td><td>0.2</td><td>&quot;setosa&quot;</td><td>7.9</td><td>4.3</td><td>5.843333</td><td>0.828066</td></tr><tr><td>3</td><td>4.7</td><td>3.2</td><td>1.3</td><td>0.2</td><td>&quot;setosa&quot;</td><td>7.9</td><td>4.3</td><td>5.843333</td><td>0.828066</td></tr><tr><td>4</td><td>4.6</td><td>3.1</td><td>1.5</td><td>0.2</td><td>&quot;setosa&quot;</td><td>7.9</td><td>4.3</td><td>5.843333</td><td>0.828066</td></tr><tr><td>5</td><td>5.0</td><td>3.6</td><td>1.4</td><td>0.2</td><td>&quot;setosa&quot;</td><td>7.9</td><td>4.3</td><td>5.843333</td><td>0.828066</td></tr><tr><td>&hellip;</td><td>&hellip;</td><td>&hellip;</td><td>&hellip;</td><td>&hellip;</td><td>&hellip;</td><td>&hellip;</td><td>&hellip;</td><td>&hellip;</td><td>&hellip;</td></tr><tr><td>146</td><td>6.7</td><td>3.0</td><td>5.2</td><td>2.3</td><td>&quot;virginica&quot;</td><td>7.9</td><td>4.3</td><td>5.843333</td><td>0.828066</td></tr><tr><td>147</td><td>6.3</td><td>2.5</td><td>5.0</td><td>1.9</td><td>&quot;virginica&quot;</td><td>7.9</td><td>4.3</td><td>5.843333</td><td>0.828066</td></tr><tr><td>148</td><td>6.5</td><td>3.0</td><td>5.2</td><td>2.0</td><td>&quot;virginica&quot;</td><td>7.9</td><td>4.3</td><td>5.843333</td><td>0.828066</td></tr><tr><td>149</td><td>6.2</td><td>3.4</td><td>5.4</td><td>2.3</td><td>&quot;virginica&quot;</td><td>7.9</td><td>4.3</td><td>5.843333</td><td>0.828066</td></tr><tr><td>150</td><td>5.9</td><td>3.0</td><td>5.1</td><td>1.8</td><td>&quot;virginica&quot;</td><td>7.9</td><td>4.3</td><td>5.843333</td><td>0.828066</td></tr></tbody></table></div>"
      ],
      "text/plain": [
       "shape: (150, 10)\n",
       "┌───────┬──────────────┬─────────────┬──────────────┬───┬──────────────────┬──────────────────┬──────────────────┬─────────────────┐\n",
       "│ index ┆ Sepal.Length ┆ Sepal.Width ┆ Petal.Length ┆ … ┆ max_Sepal.Length ┆ min_Sepal.Length ┆ avg_Sepal.Length ┆ std_Sepal.Lengt │\n",
       "│ ---   ┆ ---          ┆ ---         ┆ ---          ┆   ┆ ---              ┆ ---              ┆ ---              ┆ h               │\n",
       "│ i64   ┆ f64          ┆ f64         ┆ f64          ┆   ┆ f64              ┆ f64              ┆ f64              ┆ ---             │\n",
       "│       ┆              ┆             ┆              ┆   ┆                  ┆                  ┆                  ┆ f64             │\n",
       "╞═══════╪══════════════╪═════════════╪══════════════╪═══╪══════════════════╪══════════════════╪══════════════════╪═════════════════╡\n",
       "│ 1     ┆ 5.1          ┆ 3.5         ┆ 1.4          ┆ … ┆ 7.9              ┆ 4.3              ┆ 5.843333         ┆ 0.828066        │\n",
       "│ 2     ┆ 4.9          ┆ 3.0         ┆ 1.4          ┆ … ┆ 7.9              ┆ 4.3              ┆ 5.843333         ┆ 0.828066        │\n",
       "│ 3     ┆ 4.7          ┆ 3.2         ┆ 1.3          ┆ … ┆ 7.9              ┆ 4.3              ┆ 5.843333         ┆ 0.828066        │\n",
       "│ 4     ┆ 4.6          ┆ 3.1         ┆ 1.5          ┆ … ┆ 7.9              ┆ 4.3              ┆ 5.843333         ┆ 0.828066        │\n",
       "│ 5     ┆ 5.0          ┆ 3.6         ┆ 1.4          ┆ … ┆ 7.9              ┆ 4.3              ┆ 5.843333         ┆ 0.828066        │\n",
       "│ …     ┆ …            ┆ …           ┆ …            ┆ … ┆ …                ┆ …                ┆ …                ┆ …               │\n",
       "│ 146   ┆ 6.7          ┆ 3.0         ┆ 5.2          ┆ … ┆ 7.9              ┆ 4.3              ┆ 5.843333         ┆ 0.828066        │\n",
       "│ 147   ┆ 6.3          ┆ 2.5         ┆ 5.0          ┆ … ┆ 7.9              ┆ 4.3              ┆ 5.843333         ┆ 0.828066        │\n",
       "│ 148   ┆ 6.5          ┆ 3.0         ┆ 5.2          ┆ … ┆ 7.9              ┆ 4.3              ┆ 5.843333         ┆ 0.828066        │\n",
       "│ 149   ┆ 6.2          ┆ 3.4         ┆ 5.4          ┆ … ┆ 7.9              ┆ 4.3              ┆ 5.843333         ┆ 0.828066        │\n",
       "│ 150   ┆ 5.9          ┆ 3.0         ┆ 5.1          ┆ … ┆ 7.9              ┆ 4.3              ┆ 5.843333         ┆ 0.828066        │\n",
       "└───────┴──────────────┴─────────────┴──────────────┴───┴──────────────────┴──────────────────┴──────────────────┴─────────────────┘"
      ]
     },
     "execution_count": 19,
     "metadata": {},
     "output_type": "execute_result"
    }
   ],
   "source": [
    "df.with_columns(pl.max(\"Sepal.Length\").alias(\"max_Sepal.Length\"),\n",
    "                pl.min(\"Sepal.Length\").alias(\"min_Sepal.Length\"),\n",
    "                pl.mean(\"Sepal.Length\").alias(\"avg_Sepal.Length\"),\n",
    "                pl.std(\"Sepal.Length\").alias(\"std_Sepal.Length\")\n",
    "               )  #有点类似窗口函数"
   ]
  },
  {
   "cell_type": "markdown",
   "id": "410263bb",
   "metadata": {},
   "source": [
    "# 数值列运算"
   ]
  },
  {
   "cell_type": "code",
   "execution_count": 20,
   "id": "a7cc09f6",
   "metadata": {
    "ExecuteTime": {
     "end_time": "2024-04-29T07:52:30.444291Z",
     "start_time": "2024-04-29T07:52:30.433222Z"
    }
   },
   "outputs": [
    {
     "data": {
      "text/html": [
       "<div><style>\n",
       ".dataframe > thead > tr,\n",
       ".dataframe > tbody > tr {\n",
       "  text-align: right;\n",
       "  white-space: pre-wrap;\n",
       "}\n",
       "</style>\n",
       "<small>shape: (150, 4)</small><table border=\"1\" class=\"dataframe\"><thead><tr><th>Sepal.Length</th><th>Sepal.Length * 100</th><th>Sepal.Length / 100</th><th>Sepal.Length /max_Sepal.Length</th></tr><tr><td>f64</td><td>f64</td><td>f64</td><td>f64</td></tr></thead><tbody><tr><td>5.1</td><td>510.0</td><td>0.051</td><td>0.64557</td></tr><tr><td>4.9</td><td>490.0</td><td>0.049</td><td>0.620253</td></tr><tr><td>4.7</td><td>470.0</td><td>0.047</td><td>0.594937</td></tr><tr><td>4.6</td><td>460.0</td><td>0.046</td><td>0.582278</td></tr><tr><td>5.0</td><td>500.0</td><td>0.05</td><td>0.632911</td></tr><tr><td>&hellip;</td><td>&hellip;</td><td>&hellip;</td><td>&hellip;</td></tr><tr><td>6.7</td><td>670.0</td><td>0.067</td><td>0.848101</td></tr><tr><td>6.3</td><td>630.0</td><td>0.063</td><td>0.797468</td></tr><tr><td>6.5</td><td>650.0</td><td>0.065</td><td>0.822785</td></tr><tr><td>6.2</td><td>620.0</td><td>0.062</td><td>0.78481</td></tr><tr><td>5.9</td><td>590.0</td><td>0.059</td><td>0.746835</td></tr></tbody></table></div>"
      ],
      "text/plain": [
       "shape: (150, 4)\n",
       "┌──────────────┬────────────────────┬────────────────────┬────────────────────────────────┐\n",
       "│ Sepal.Length ┆ Sepal.Length * 100 ┆ Sepal.Length / 100 ┆ Sepal.Length /max_Sepal.Length │\n",
       "│ ---          ┆ ---                ┆ ---                ┆ ---                            │\n",
       "│ f64          ┆ f64                ┆ f64                ┆ f64                            │\n",
       "╞══════════════╪════════════════════╪════════════════════╪════════════════════════════════╡\n",
       "│ 5.1          ┆ 510.0              ┆ 0.051              ┆ 0.64557                        │\n",
       "│ 4.9          ┆ 490.0              ┆ 0.049              ┆ 0.620253                       │\n",
       "│ 4.7          ┆ 470.0              ┆ 0.047              ┆ 0.594937                       │\n",
       "│ 4.6          ┆ 460.0              ┆ 0.046              ┆ 0.582278                       │\n",
       "│ 5.0          ┆ 500.0              ┆ 0.05               ┆ 0.632911                       │\n",
       "│ …            ┆ …                  ┆ …                  ┆ …                              │\n",
       "│ 6.7          ┆ 670.0              ┆ 0.067              ┆ 0.848101                       │\n",
       "│ 6.3          ┆ 630.0              ┆ 0.063              ┆ 0.797468                       │\n",
       "│ 6.5          ┆ 650.0              ┆ 0.065              ┆ 0.822785                       │\n",
       "│ 6.2          ┆ 620.0              ┆ 0.062              ┆ 0.78481                        │\n",
       "│ 5.9          ┆ 590.0              ┆ 0.059              ┆ 0.746835                       │\n",
       "└──────────────┴────────────────────┴────────────────────┴────────────────────────────────┘"
      ]
     },
     "execution_count": 20,
     "metadata": {},
     "output_type": "execute_result"
    }
   ],
   "source": [
    "df.select(pl.col(\"Sepal.Length\"),\n",
    "          (pl.col(\"Sepal.Length\")*100).alias(\"Sepal.Length * 100\"),\n",
    "          (pl.col(\"Sepal.Length\")/100).alias(\"Sepal.Length / 100\"),\n",
    "          (pl.col(\"Sepal.Length\")/pl.max(\"Sepal.Length\")).alias(\"Sepal.Length /max_Sepal.Length\")\n",
    "         )"
   ]
  },
  {
   "cell_type": "markdown",
   "id": "0ebb66bf",
   "metadata": {},
   "source": [
    "# 字段串列运算"
   ]
  },
  {
   "cell_type": "code",
   "execution_count": 21,
   "id": "fae19c16",
   "metadata": {
    "ExecuteTime": {
     "end_time": "2024-04-29T07:52:30.455509Z",
     "start_time": "2024-04-29T07:52:30.446304Z"
    }
   },
   "outputs": [
    {
     "data": {
      "text/html": [
       "<div><style>\n",
       ".dataframe > thead > tr,\n",
       ".dataframe > tbody > tr {\n",
       "  text-align: right;\n",
       "  white-space: pre-wrap;\n",
       "}\n",
       "</style>\n",
       "<small>shape: (150, 3)</small><table border=\"1\" class=\"dataframe\"><thead><tr><th>Species</th><th>byte_count</th><th>chars_count</th></tr><tr><td>str</td><td>u32</td><td>u32</td></tr></thead><tbody><tr><td>&quot;setosa&quot;</td><td>6</td><td>6</td></tr><tr><td>&quot;setosa&quot;</td><td>6</td><td>6</td></tr><tr><td>&quot;setosa&quot;</td><td>6</td><td>6</td></tr><tr><td>&quot;setosa&quot;</td><td>6</td><td>6</td></tr><tr><td>&quot;setosa&quot;</td><td>6</td><td>6</td></tr><tr><td>&hellip;</td><td>&hellip;</td><td>&hellip;</td></tr><tr><td>&quot;virginica&quot;</td><td>9</td><td>9</td></tr><tr><td>&quot;virginica&quot;</td><td>9</td><td>9</td></tr><tr><td>&quot;virginica&quot;</td><td>9</td><td>9</td></tr><tr><td>&quot;virginica&quot;</td><td>9</td><td>9</td></tr><tr><td>&quot;virginica&quot;</td><td>9</td><td>9</td></tr></tbody></table></div>"
      ],
      "text/plain": [
       "shape: (150, 3)\n",
       "┌───────────┬────────────┬─────────────┐\n",
       "│ Species   ┆ byte_count ┆ chars_count │\n",
       "│ ---       ┆ ---        ┆ ---         │\n",
       "│ str       ┆ u32        ┆ u32         │\n",
       "╞═══════════╪════════════╪═════════════╡\n",
       "│ setosa    ┆ 6          ┆ 6           │\n",
       "│ setosa    ┆ 6          ┆ 6           │\n",
       "│ setosa    ┆ 6          ┆ 6           │\n",
       "│ setosa    ┆ 6          ┆ 6           │\n",
       "│ setosa    ┆ 6          ┆ 6           │\n",
       "│ …         ┆ …          ┆ …           │\n",
       "│ virginica ┆ 9          ┆ 9           │\n",
       "│ virginica ┆ 9          ┆ 9           │\n",
       "│ virginica ┆ 9          ┆ 9           │\n",
       "│ virginica ┆ 9          ┆ 9           │\n",
       "│ virginica ┆ 9          ┆ 9           │\n",
       "└───────────┴────────────┴─────────────┘"
      ]
     },
     "execution_count": 21,
     "metadata": {},
     "output_type": "execute_result"
    }
   ],
   "source": [
    "df.select(pl.col(\"Species\"),\n",
    "          pl.col(\"Species\").str.len_bytes().alias(\"byte_count\"),\n",
    "          pl.col(\"Species\").str.len_chars().alias(\"chars_count\")\n",
    "         )"
   ]
  },
  {
   "cell_type": "code",
   "execution_count": 22,
   "id": "4585c2dc",
   "metadata": {
    "ExecuteTime": {
     "end_time": "2024-04-29T07:52:30.475235Z",
     "start_time": "2024-04-29T07:52:30.458519Z"
    }
   },
   "outputs": [
    {
     "data": {
      "text/html": [
       "<div><style>\n",
       ".dataframe > thead > tr,\n",
       ".dataframe > tbody > tr {\n",
       "  text-align: right;\n",
       "  white-space: pre-wrap;\n",
       "}\n",
       "</style>\n",
       "<small>shape: (150, 4)</small><table border=\"1\" class=\"dataframe\"><thead><tr><th>Species</th><th>regex</th><th>starts_with</th><th>ends_with</th></tr><tr><td>str</td><td>bool</td><td>bool</td><td>bool</td></tr></thead><tbody><tr><td>&quot;setosa&quot;</td><td>true</td><td>true</td><td>false</td></tr><tr><td>&quot;setosa&quot;</td><td>true</td><td>true</td><td>false</td></tr><tr><td>&quot;setosa&quot;</td><td>true</td><td>true</td><td>false</td></tr><tr><td>&quot;setosa&quot;</td><td>true</td><td>true</td><td>false</td></tr><tr><td>&quot;setosa&quot;</td><td>true</td><td>true</td><td>false</td></tr><tr><td>&hellip;</td><td>&hellip;</td><td>&hellip;</td><td>&hellip;</td></tr><tr><td>&quot;virginica&quot;</td><td>true</td><td>false</td><td>true</td></tr><tr><td>&quot;virginica&quot;</td><td>true</td><td>false</td><td>true</td></tr><tr><td>&quot;virginica&quot;</td><td>true</td><td>false</td><td>true</td></tr><tr><td>&quot;virginica&quot;</td><td>true</td><td>false</td><td>true</td></tr><tr><td>&quot;virginica&quot;</td><td>true</td><td>false</td><td>true</td></tr></tbody></table></div>"
      ],
      "text/plain": [
       "shape: (150, 4)\n",
       "┌───────────┬───────┬─────────────┬───────────┐\n",
       "│ Species   ┆ regex ┆ starts_with ┆ ends_with │\n",
       "│ ---       ┆ ---   ┆ ---         ┆ ---       │\n",
       "│ str       ┆ bool  ┆ bool        ┆ bool      │\n",
       "╞═══════════╪═══════╪═════════════╪═══════════╡\n",
       "│ setosa    ┆ true  ┆ true        ┆ false     │\n",
       "│ setosa    ┆ true  ┆ true        ┆ false     │\n",
       "│ setosa    ┆ true  ┆ true        ┆ false     │\n",
       "│ setosa    ┆ true  ┆ true        ┆ false     │\n",
       "│ setosa    ┆ true  ┆ true        ┆ false     │\n",
       "│ …         ┆ …     ┆ …           ┆ …         │\n",
       "│ virginica ┆ true  ┆ false       ┆ true      │\n",
       "│ virginica ┆ true  ┆ false       ┆ true      │\n",
       "│ virginica ┆ true  ┆ false       ┆ true      │\n",
       "│ virginica ┆ true  ┆ false       ┆ true      │\n",
       "│ virginica ┆ true  ┆ false       ┆ true      │\n",
       "└───────────┴───────┴─────────────┴───────────┘"
      ]
     },
     "execution_count": 22,
     "metadata": {},
     "output_type": "execute_result"
    }
   ],
   "source": [
    "df.select(pl.col(\"Species\"),\n",
    "          pl.col(\"Species\").str.contains(\"set|vir\").alias(\"regex\"),\n",
    "          pl.col(\"Species\").str.starts_with(\"set\").alias(\"starts_with\"),\n",
    "          pl.col(\"Species\").str.ends_with(\"ca\").alias(\"ends_with\"),\n",
    "         )"
   ]
  },
  {
   "cell_type": "markdown",
   "id": "22f33de9",
   "metadata": {},
   "source": [
    "# 去重统计"
   ]
  },
  {
   "cell_type": "code",
   "execution_count": 23,
   "id": "bb1c04d8",
   "metadata": {
    "ExecuteTime": {
     "end_time": "2024-04-29T07:52:30.485058Z",
     "start_time": "2024-04-29T07:52:30.477249Z"
    }
   },
   "outputs": [
    {
     "data": {
      "text/html": [
       "<div><style>\n",
       ".dataframe > thead > tr,\n",
       ".dataframe > tbody > tr {\n",
       "  text-align: right;\n",
       "  white-space: pre-wrap;\n",
       "}\n",
       "</style>\n",
       "<small>shape: (1, 1)</small><table border=\"1\" class=\"dataframe\"><thead><tr><th>Species</th></tr><tr><td>u32</td></tr></thead><tbody><tr><td>3</td></tr></tbody></table></div>"
      ],
      "text/plain": [
       "shape: (1, 1)\n",
       "┌─────────┐\n",
       "│ Species │\n",
       "│ ---     │\n",
       "│ u32     │\n",
       "╞═════════╡\n",
       "│ 3       │\n",
       "└─────────┘"
      ]
     },
     "execution_count": 23,
     "metadata": {},
     "output_type": "execute_result"
    }
   ],
   "source": [
    "df.select(pl.col(\"Species\").n_unique())"
   ]
  },
  {
   "cell_type": "markdown",
   "id": "17a2ea2f",
   "metadata": {},
   "source": [
    "# 分组聚合运算"
   ]
  },
  {
   "cell_type": "code",
   "execution_count": 24,
   "id": "ef4d838b",
   "metadata": {
    "ExecuteTime": {
     "end_time": "2024-04-29T07:52:30.510702Z",
     "start_time": "2024-04-29T07:52:30.488075Z"
    }
   },
   "outputs": [
    {
     "data": {
      "text/html": [
       "<div><style>\n",
       ".dataframe > thead > tr,\n",
       ".dataframe > tbody > tr {\n",
       "  text-align: right;\n",
       "  white-space: pre-wrap;\n",
       "}\n",
       "</style>\n",
       "<small>shape: (3, 7)</small><table border=\"1\" class=\"dataframe\"><thead><tr><th>Species</th><th>len</th><th>index</th><th>Sepal.Length_count_1</th><th>Sepal.Length_count_2</th><th>Sepal.Length_mean</th><th>Sepal.Length_std</th></tr><tr><td>str</td><td>u32</td><td>list[i64]</td><td>u32</td><td>u32</td><td>f64</td><td>f64</td></tr></thead><tbody><tr><td>&quot;setosa&quot;</td><td>50</td><td>[1, 2, … 50]</td><td>50</td><td>50</td><td>5.006</td><td>0.35249</td></tr><tr><td>&quot;virginica&quot;</td><td>50</td><td>[101, 102, … 150]</td><td>50</td><td>50</td><td>6.588</td><td>0.63588</td></tr><tr><td>&quot;versicolor&quot;</td><td>50</td><td>[51, 52, … 100]</td><td>50</td><td>50</td><td>5.936</td><td>0.516171</td></tr></tbody></table></div>"
      ],
      "text/plain": [
       "shape: (3, 7)\n",
       "┌────────────┬─────┬───────────────────┬──────────────────────┬──────────────────────┬───────────────────┬──────────────────┐\n",
       "│ Species    ┆ len ┆ index             ┆ Sepal.Length_count_1 ┆ Sepal.Length_count_2 ┆ Sepal.Length_mean ┆ Sepal.Length_std │\n",
       "│ ---        ┆ --- ┆ ---               ┆ ---                  ┆ ---                  ┆ ---               ┆ ---              │\n",
       "│ str        ┆ u32 ┆ list[i64]         ┆ u32                  ┆ u32                  ┆ f64               ┆ f64              │\n",
       "╞════════════╪═════╪═══════════════════╪══════════════════════╪══════════════════════╪═══════════════════╪══════════════════╡\n",
       "│ setosa     ┆ 50  ┆ [1, 2, … 50]      ┆ 50                   ┆ 50                   ┆ 5.006             ┆ 0.35249          │\n",
       "│ virginica  ┆ 50  ┆ [101, 102, … 150] ┆ 50                   ┆ 50                   ┆ 6.588             ┆ 0.63588          │\n",
       "│ versicolor ┆ 50  ┆ [51, 52, … 100]   ┆ 50                   ┆ 50                   ┆ 5.936             ┆ 0.516171         │\n",
       "└────────────┴─────┴───────────────────┴──────────────────────┴──────────────────────┴───────────────────┴──────────────────┘"
      ]
     },
     "execution_count": 24,
     "metadata": {},
     "output_type": "execute_result"
    }
   ],
   "source": [
    "df.group_by(\"Species\").agg(\n",
    "    pl.len(),\n",
    "    pl.col(\"index\"),\n",
    "    pl.count(\"Sepal.Length\").name.suffix(\"_count_1\"),  #别名，另一种方式\n",
    "    pl.col(\"Sepal.Length\").count().name.suffix(\"_count_2\"),\n",
    "    pl.mean(\"Sepal.Length\").name.suffix(\"_mean\"),\n",
    "    pl.std(\"Sepal.Length\").name.suffix(\"_std\"),\n",
    ")"
   ]
  },
  {
   "cell_type": "code",
   "execution_count": 25,
   "id": "961567ec",
   "metadata": {
    "ExecuteTime": {
     "end_time": "2024-04-29T07:52:30.538203Z",
     "start_time": "2024-04-29T07:52:30.513720Z"
    }
   },
   "outputs": [
    {
     "data": {
      "text/html": [
       "<div><style>\n",
       ".dataframe > thead > tr,\n",
       ".dataframe > tbody > tr {\n",
       "  text-align: right;\n",
       "  white-space: pre-wrap;\n",
       "}\n",
       "</style>\n",
       "<small>shape: (3, 3)</small><table border=\"1\" class=\"dataframe\"><thead><tr><th>Species</th><th>Sepal.Length&gt;5</th><th>Petal.Length&gt;5</th></tr><tr><td>str</td><td>u32</td><td>u32</td></tr></thead><tbody><tr><td>&quot;virginica&quot;</td><td>49</td><td>41</td></tr><tr><td>&quot;setosa&quot;</td><td>22</td><td>0</td></tr><tr><td>&quot;versicolor&quot;</td><td>47</td><td>1</td></tr></tbody></table></div>"
      ],
      "text/plain": [
       "shape: (3, 3)\n",
       "┌────────────┬────────────────┬────────────────┐\n",
       "│ Species    ┆ Sepal.Length>5 ┆ Petal.Length>5 │\n",
       "│ ---        ┆ ---            ┆ ---            │\n",
       "│ str        ┆ u32            ┆ u32            │\n",
       "╞════════════╪════════════════╪════════════════╡\n",
       "│ virginica  ┆ 49             ┆ 41             │\n",
       "│ setosa     ┆ 22             ┆ 0              │\n",
       "│ versicolor ┆ 47             ┆ 1              │\n",
       "└────────────┴────────────────┴────────────────┘"
      ]
     },
     "execution_count": 25,
     "metadata": {},
     "output_type": "execute_result"
    }
   ],
   "source": [
    "df.group_by(\"Species\").agg(\n",
    "    (pl.col(\"Sepal.Length\")>5).sum().alias(\"Sepal.Length>5\"),\n",
    "    (pl.col(\"Petal.Length\")>5).sum().alias(\"Petal.Length>5\"),\n",
    ")"
   ]
  },
  {
   "cell_type": "markdown",
   "id": "5f9f7533",
   "metadata": {},
   "source": [
    "# 排序"
   ]
  },
  {
   "cell_type": "code",
   "execution_count": 26,
   "id": "264614d5",
   "metadata": {
    "ExecuteTime": {
     "end_time": "2024-04-29T07:52:30.552542Z",
     "start_time": "2024-04-29T07:52:30.540219Z"
    }
   },
   "outputs": [
    {
     "data": {
      "text/html": [
       "<div><style>\n",
       ".dataframe > thead > tr,\n",
       ".dataframe > tbody > tr {\n",
       "  text-align: right;\n",
       "  white-space: pre-wrap;\n",
       "}\n",
       "</style>\n",
       "<small>shape: (150, 6)</small><table border=\"1\" class=\"dataframe\"><thead><tr><th>index</th><th>Sepal.Length</th><th>Sepal.Width</th><th>Petal.Length</th><th>Petal.Width</th><th>Species</th></tr><tr><td>i64</td><td>f64</td><td>f64</td><td>f64</td><td>f64</td><td>str</td></tr></thead><tbody><tr><td>132</td><td>7.9</td><td>3.8</td><td>6.4</td><td>2.0</td><td>&quot;virginica&quot;</td></tr><tr><td>118</td><td>7.7</td><td>3.8</td><td>6.7</td><td>2.2</td><td>&quot;virginica&quot;</td></tr><tr><td>119</td><td>7.7</td><td>2.6</td><td>6.9</td><td>2.3</td><td>&quot;virginica&quot;</td></tr><tr><td>123</td><td>7.7</td><td>2.8</td><td>6.7</td><td>2.0</td><td>&quot;virginica&quot;</td></tr><tr><td>136</td><td>7.7</td><td>3.0</td><td>6.1</td><td>2.3</td><td>&quot;virginica&quot;</td></tr><tr><td>&hellip;</td><td>&hellip;</td><td>&hellip;</td><td>&hellip;</td><td>&hellip;</td><td>&hellip;</td></tr><tr><td>42</td><td>4.5</td><td>2.3</td><td>1.3</td><td>0.3</td><td>&quot;setosa&quot;</td></tr><tr><td>9</td><td>4.4</td><td>2.9</td><td>1.4</td><td>0.2</td><td>&quot;setosa&quot;</td></tr><tr><td>39</td><td>4.4</td><td>3.0</td><td>1.3</td><td>0.2</td><td>&quot;setosa&quot;</td></tr><tr><td>43</td><td>4.4</td><td>3.2</td><td>1.3</td><td>0.2</td><td>&quot;setosa&quot;</td></tr><tr><td>14</td><td>4.3</td><td>3.0</td><td>1.1</td><td>0.1</td><td>&quot;setosa&quot;</td></tr></tbody></table></div>"
      ],
      "text/plain": [
       "shape: (150, 6)\n",
       "┌───────┬──────────────┬─────────────┬──────────────┬─────────────┬───────────┐\n",
       "│ index ┆ Sepal.Length ┆ Sepal.Width ┆ Petal.Length ┆ Petal.Width ┆ Species   │\n",
       "│ ---   ┆ ---          ┆ ---         ┆ ---          ┆ ---         ┆ ---       │\n",
       "│ i64   ┆ f64          ┆ f64         ┆ f64          ┆ f64         ┆ str       │\n",
       "╞═══════╪══════════════╪═════════════╪══════════════╪═════════════╪═══════════╡\n",
       "│ 132   ┆ 7.9          ┆ 3.8         ┆ 6.4          ┆ 2.0         ┆ virginica │\n",
       "│ 118   ┆ 7.7          ┆ 3.8         ┆ 6.7          ┆ 2.2         ┆ virginica │\n",
       "│ 119   ┆ 7.7          ┆ 2.6         ┆ 6.9          ┆ 2.3         ┆ virginica │\n",
       "│ 123   ┆ 7.7          ┆ 2.8         ┆ 6.7          ┆ 2.0         ┆ virginica │\n",
       "│ 136   ┆ 7.7          ┆ 3.0         ┆ 6.1          ┆ 2.3         ┆ virginica │\n",
       "│ …     ┆ …            ┆ …           ┆ …            ┆ …           ┆ …         │\n",
       "│ 42    ┆ 4.5          ┆ 2.3         ┆ 1.3          ┆ 0.3         ┆ setosa    │\n",
       "│ 9     ┆ 4.4          ┆ 2.9         ┆ 1.4          ┆ 0.2         ┆ setosa    │\n",
       "│ 39    ┆ 4.4          ┆ 3.0         ┆ 1.3          ┆ 0.2         ┆ setosa    │\n",
       "│ 43    ┆ 4.4          ┆ 3.2         ┆ 1.3          ┆ 0.2         ┆ setosa    │\n",
       "│ 14    ┆ 4.3          ┆ 3.0         ┆ 1.1          ┆ 0.1         ┆ setosa    │\n",
       "└───────┴──────────────┴─────────────┴──────────────┴─────────────┴───────────┘"
      ]
     },
     "execution_count": 26,
     "metadata": {},
     "output_type": "execute_result"
    }
   ],
   "source": [
    "df.sort(\"Sepal.Length\",descending=True)"
   ]
  },
  {
   "cell_type": "code",
   "execution_count": 27,
   "id": "62de9651",
   "metadata": {
    "ExecuteTime": {
     "end_time": "2024-04-29T07:52:30.570541Z",
     "start_time": "2024-04-29T07:52:30.555557Z"
    }
   },
   "outputs": [
    {
     "data": {
      "text/html": [
       "<div><style>\n",
       ".dataframe > thead > tr,\n",
       ".dataframe > tbody > tr {\n",
       "  text-align: right;\n",
       "  white-space: pre-wrap;\n",
       "}\n",
       "</style>\n",
       "<small>shape: (150, 6)</small><table border=\"1\" class=\"dataframe\"><thead><tr><th>index</th><th>Sepal.Length</th><th>Sepal.Width</th><th>Petal.Length</th><th>Petal.Width</th><th>Species</th></tr><tr><td>i64</td><td>f64</td><td>f64</td><td>f64</td><td>f64</td><td>str</td></tr></thead><tbody><tr><td>132</td><td>7.9</td><td>3.8</td><td>6.4</td><td>2.0</td><td>&quot;virginica&quot;</td></tr><tr><td>136</td><td>7.7</td><td>3.0</td><td>6.1</td><td>2.3</td><td>&quot;virginica&quot;</td></tr><tr><td>118</td><td>7.7</td><td>3.8</td><td>6.7</td><td>2.2</td><td>&quot;virginica&quot;</td></tr><tr><td>123</td><td>7.7</td><td>2.8</td><td>6.7</td><td>2.0</td><td>&quot;virginica&quot;</td></tr><tr><td>119</td><td>7.7</td><td>2.6</td><td>6.9</td><td>2.3</td><td>&quot;virginica&quot;</td></tr><tr><td>&hellip;</td><td>&hellip;</td><td>&hellip;</td><td>&hellip;</td><td>&hellip;</td><td>&hellip;</td></tr><tr><td>42</td><td>4.5</td><td>2.3</td><td>1.3</td><td>0.3</td><td>&quot;setosa&quot;</td></tr><tr><td>39</td><td>4.4</td><td>3.0</td><td>1.3</td><td>0.2</td><td>&quot;setosa&quot;</td></tr><tr><td>43</td><td>4.4</td><td>3.2</td><td>1.3</td><td>0.2</td><td>&quot;setosa&quot;</td></tr><tr><td>9</td><td>4.4</td><td>2.9</td><td>1.4</td><td>0.2</td><td>&quot;setosa&quot;</td></tr><tr><td>14</td><td>4.3</td><td>3.0</td><td>1.1</td><td>0.1</td><td>&quot;setosa&quot;</td></tr></tbody></table></div>"
      ],
      "text/plain": [
       "shape: (150, 6)\n",
       "┌───────┬──────────────┬─────────────┬──────────────┬─────────────┬───────────┐\n",
       "│ index ┆ Sepal.Length ┆ Sepal.Width ┆ Petal.Length ┆ Petal.Width ┆ Species   │\n",
       "│ ---   ┆ ---          ┆ ---         ┆ ---          ┆ ---         ┆ ---       │\n",
       "│ i64   ┆ f64          ┆ f64         ┆ f64          ┆ f64         ┆ str       │\n",
       "╞═══════╪══════════════╪═════════════╪══════════════╪═════════════╪═══════════╡\n",
       "│ 132   ┆ 7.9          ┆ 3.8         ┆ 6.4          ┆ 2.0         ┆ virginica │\n",
       "│ 136   ┆ 7.7          ┆ 3.0         ┆ 6.1          ┆ 2.3         ┆ virginica │\n",
       "│ 118   ┆ 7.7          ┆ 3.8         ┆ 6.7          ┆ 2.2         ┆ virginica │\n",
       "│ 123   ┆ 7.7          ┆ 2.8         ┆ 6.7          ┆ 2.0         ┆ virginica │\n",
       "│ 119   ┆ 7.7          ┆ 2.6         ┆ 6.9          ┆ 2.3         ┆ virginica │\n",
       "│ …     ┆ …            ┆ …           ┆ …            ┆ …           ┆ …         │\n",
       "│ 42    ┆ 4.5          ┆ 2.3         ┆ 1.3          ┆ 0.3         ┆ setosa    │\n",
       "│ 39    ┆ 4.4          ┆ 3.0         ┆ 1.3          ┆ 0.2         ┆ setosa    │\n",
       "│ 43    ┆ 4.4          ┆ 3.2         ┆ 1.3          ┆ 0.2         ┆ setosa    │\n",
       "│ 9     ┆ 4.4          ┆ 2.9         ┆ 1.4          ┆ 0.2         ┆ setosa    │\n",
       "│ 14    ┆ 4.3          ┆ 3.0         ┆ 1.1          ┆ 0.1         ┆ setosa    │\n",
       "└───────┴──────────────┴─────────────┴──────────────┴─────────────┴───────────┘"
      ]
     },
     "execution_count": 27,
     "metadata": {},
     "output_type": "execute_result"
    }
   ],
   "source": [
    "df.sort([\"Sepal.Length\",\"Petal.Length\"],descending=[True,False])"
   ]
  },
  {
   "cell_type": "code",
   "execution_count": null,
   "id": "7e892ae6",
   "metadata": {},
   "outputs": [],
   "source": []
  },
  {
   "cell_type": "code",
   "execution_count": null,
   "id": "3d1d1dfc",
   "metadata": {},
   "outputs": [],
   "source": []
  },
  {
   "cell_type": "code",
   "execution_count": null,
   "id": "3d6bdb89",
   "metadata": {},
   "outputs": [],
   "source": []
  }
 ],
 "metadata": {
  "kernelspec": {
   "display_name": "Python 3.11",
   "language": "python",
   "name": "python3.11"
  },
  "language_info": {
   "codemirror_mode": {
    "name": "ipython",
    "version": 3
   },
   "file_extension": ".py",
   "mimetype": "text/x-python",
   "name": "python",
   "nbconvert_exporter": "python",
   "pygments_lexer": "ipython3",
   "version": "3.11.9"
  },
  "toc": {
   "base_numbering": 1,
   "nav_menu": {},
   "number_sections": true,
   "sideBar": true,
   "skip_h1_title": false,
   "title_cell": "Table of Contents",
   "title_sidebar": "Contents",
   "toc_cell": false,
   "toc_position": {
    "height": "calc(100% - 180px)",
    "left": "10px",
    "top": "150px",
    "width": "224.797px"
   },
   "toc_section_display": true,
   "toc_window_display": true
  }
 },
 "nbformat": 4,
 "nbformat_minor": 5
}
